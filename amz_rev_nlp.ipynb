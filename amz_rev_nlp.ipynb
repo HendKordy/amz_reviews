{
 "cells": [
  {
   "cell_type": "code",
   "execution_count": 7,
   "metadata": {},
   "outputs": [],
   "source": [
    "import pandas as pd\n",
    "import seaborn as sns\n",
    "import matplotlib.pyplot as plt\n",
    "\n",
    "from sklearn.feature_extraction.text import CountVectorizer\n",
    "\n",
    "import clean_reviews as clean"
   ]
  },
  {
   "cell_type": "code",
   "execution_count": 8,
   "metadata": {},
   "outputs": [],
   "source": [
    "df = pd.read_csv('./amz_tshirt_reviews.csv')"
   ]
  },
  {
   "cell_type": "code",
   "execution_count": 9,
   "metadata": {},
   "outputs": [
    {
     "name": "stdout",
     "output_type": "stream",
     "text": [
      "<class 'pandas.core.frame.DataFrame'>\n",
      "RangeIndex: 40521 entries, 0 to 40520\n",
      "Data columns (total 5 columns):\n",
      " #   Column        Non-Null Count  Dtype  \n",
      "---  ------        --------------  -----  \n",
      " 0   product_name  40521 non-null  object \n",
      " 1   attr          0 non-null      float64\n",
      " 2   scores        40441 non-null  object \n",
      " 3   review_title  40441 non-null  object \n",
      " 4   reviews       40521 non-null  object \n",
      "dtypes: float64(1), object(4)\n",
      "memory usage: 1.5+ MB\n"
     ]
    }
   ],
   "source": [
    "df.info()"
   ]
  },
  {
   "cell_type": "code",
   "execution_count": 10,
   "metadata": {},
   "outputs": [],
   "source": [
    "# using dictionary to convert specific columns\n",
    "convert_dict = {'product_name': str,\n",
    "                'attr': str,\n",
    "\t\t\t\t'review_title' : str,\n",
    "                'reviews' : str\n",
    "               }\n",
    "df = df.astype(convert_dict)"
   ]
  },
  {
   "cell_type": "markdown",
   "metadata": {},
   "source": [
    "#### when I webscrapped the data, I had a bug that caused the 'attr' column to be null, I need to re-run the webscrapping ipynb file and get the complete dataset "
   ]
  },
  {
   "cell_type": "code",
   "execution_count": 11,
   "metadata": {},
   "outputs": [
    {
     "data": {
      "text/plain": [
       "(40521, 5)"
      ]
     },
     "execution_count": 11,
     "metadata": {},
     "output_type": "execute_result"
    }
   ],
   "source": [
    "df.shape"
   ]
  },
  {
   "cell_type": "code",
   "execution_count": 12,
   "metadata": {},
   "outputs": [
    {
     "data": {
      "text/html": [
       "<div>\n",
       "<style scoped>\n",
       "    .dataframe tbody tr th:only-of-type {\n",
       "        vertical-align: middle;\n",
       "    }\n",
       "\n",
       "    .dataframe tbody tr th {\n",
       "        vertical-align: top;\n",
       "    }\n",
       "\n",
       "    .dataframe thead th {\n",
       "        text-align: right;\n",
       "    }\n",
       "</style>\n",
       "<table border=\"1\" class=\"dataframe\">\n",
       "  <thead>\n",
       "    <tr style=\"text-align: right;\">\n",
       "      <th></th>\n",
       "      <th>product_name</th>\n",
       "      <th>attr</th>\n",
       "      <th>scores</th>\n",
       "      <th>review_title</th>\n",
       "      <th>reviews</th>\n",
       "    </tr>\n",
       "  </thead>\n",
       "  <tbody>\n",
       "    <tr>\n",
       "      <th>36498</th>\n",
       "      <td>Amazon Essentials Men's 2-Pack Slim-fit Short-...</td>\n",
       "      <td>nan</td>\n",
       "      <td>5.0 out of 5 stars</td>\n",
       "      <td>\\nNice T\\n</td>\n",
       "      <td>&lt;span class=\"a-size-base review-text review-te...</td>\n",
       "    </tr>\n",
       "    <tr>\n",
       "      <th>10430</th>\n",
       "      <td>Russell Athletic Men's Cotton Performance Shor...</td>\n",
       "      <td>nan</td>\n",
       "      <td>5.0 out of 5 stars</td>\n",
       "      <td>\\nOoooops\\n</td>\n",
       "      <td>&lt;span class=\"a-size-base review-text review-te...</td>\n",
       "    </tr>\n",
       "    <tr>\n",
       "      <th>11705</th>\n",
       "      <td>Under Armour Men's Sportstyle Left Chest Short...</td>\n",
       "      <td>nan</td>\n",
       "      <td>2.0 out of 5 stars</td>\n",
       "      <td>\\nMuch larger than they used to be\\n</td>\n",
       "      <td>&lt;span class=\"a-size-base review-text review-te...</td>\n",
       "    </tr>\n",
       "    <tr>\n",
       "      <th>17764</th>\n",
       "      <td>Amazon Essentials Women's 2-Pack Classic-Fit S...</td>\n",
       "      <td>nan</td>\n",
       "      <td>4.0 out of 5 stars</td>\n",
       "      <td>\\nTrust Your Size Not Amazon\\n</td>\n",
       "      <td>&lt;span class=\"a-size-base review-text review-te...</td>\n",
       "    </tr>\n",
       "    <tr>\n",
       "      <th>360</th>\n",
       "      <td>Gildan Men's Ultra Cotton T-Shirt, Style G2000...</td>\n",
       "      <td>nan</td>\n",
       "      <td>5.0 out of 5 stars</td>\n",
       "      <td>\\nGreat fit\\n</td>\n",
       "      <td>&lt;span class=\"a-size-base review-text review-te...</td>\n",
       "    </tr>\n",
       "    <tr>\n",
       "      <th>21057</th>\n",
       "      <td>Hanes Women's Shirred V-Neck T-Shirt</td>\n",
       "      <td>nan</td>\n",
       "      <td>5.0 out of 5 stars</td>\n",
       "      <td>\\nGood quality for the price!\\n</td>\n",
       "      <td>&lt;span class=\"a-size-base review-text review-te...</td>\n",
       "    </tr>\n",
       "    <tr>\n",
       "      <th>20918</th>\n",
       "      <td>5 Pack: Men’s Dry-Fit Moisture Wicking Active ...</td>\n",
       "      <td>nan</td>\n",
       "      <td>4.0 out of 5 stars</td>\n",
       "      <td>\\nGreat dri fit style of shirt\\n</td>\n",
       "      <td>&lt;span class=\"a-size-base review-text review-te...</td>\n",
       "    </tr>\n",
       "    <tr>\n",
       "      <th>23771</th>\n",
       "      <td>Champion Men's Classic T-Shirt, Screen Print S...</td>\n",
       "      <td>nan</td>\n",
       "      <td>1.0 out of 5 stars</td>\n",
       "      <td>\\nShirt shrank!\\n</td>\n",
       "      <td>&lt;span class=\"a-size-base review-text review-te...</td>\n",
       "    </tr>\n",
       "    <tr>\n",
       "      <th>29763</th>\n",
       "      <td>Hanes Men's Short Sleeve Beefy-T (Pack of 2)</td>\n",
       "      <td>nan</td>\n",
       "      <td>5.0 out of 5 stars</td>\n",
       "      <td>\\nPurchased for a sleep shirt\\n</td>\n",
       "      <td>&lt;span class=\"a-size-base review-text review-te...</td>\n",
       "    </tr>\n",
       "    <tr>\n",
       "      <th>6034</th>\n",
       "      <td>Gildan Men's V-Neck T-Shirts, Multipack</td>\n",
       "      <td>nan</td>\n",
       "      <td>4.0 out of 5 stars</td>\n",
       "      <td>\\nYou get what you pay for\\n</td>\n",
       "      <td>&lt;span class=\"a-size-base review-text review-te...</td>\n",
       "    </tr>\n",
       "  </tbody>\n",
       "</table>\n",
       "</div>"
      ],
      "text/plain": [
       "                                            product_name attr  \\\n",
       "36498  Amazon Essentials Men's 2-Pack Slim-fit Short-...  nan   \n",
       "10430  Russell Athletic Men's Cotton Performance Shor...  nan   \n",
       "11705  Under Armour Men's Sportstyle Left Chest Short...  nan   \n",
       "17764  Amazon Essentials Women's 2-Pack Classic-Fit S...  nan   \n",
       "360    Gildan Men's Ultra Cotton T-Shirt, Style G2000...  nan   \n",
       "21057               Hanes Women's Shirred V-Neck T-Shirt  nan   \n",
       "20918  5 Pack: Men’s Dry-Fit Moisture Wicking Active ...  nan   \n",
       "23771  Champion Men's Classic T-Shirt, Screen Print S...  nan   \n",
       "29763       Hanes Men's Short Sleeve Beefy-T (Pack of 2)  nan   \n",
       "6034             Gildan Men's V-Neck T-Shirts, Multipack  nan   \n",
       "\n",
       "                   scores                          review_title  \\\n",
       "36498  5.0 out of 5 stars                            \\nNice T\\n   \n",
       "10430  5.0 out of 5 stars                           \\nOoooops\\n   \n",
       "11705  2.0 out of 5 stars  \\nMuch larger than they used to be\\n   \n",
       "17764  4.0 out of 5 stars        \\nTrust Your Size Not Amazon\\n   \n",
       "360    5.0 out of 5 stars                         \\nGreat fit\\n   \n",
       "21057  5.0 out of 5 stars       \\nGood quality for the price!\\n   \n",
       "20918  4.0 out of 5 stars      \\nGreat dri fit style of shirt\\n   \n",
       "23771  1.0 out of 5 stars                     \\nShirt shrank!\\n   \n",
       "29763  5.0 out of 5 stars       \\nPurchased for a sleep shirt\\n   \n",
       "6034   4.0 out of 5 stars          \\nYou get what you pay for\\n   \n",
       "\n",
       "                                                 reviews  \n",
       "36498  <span class=\"a-size-base review-text review-te...  \n",
       "10430  <span class=\"a-size-base review-text review-te...  \n",
       "11705  <span class=\"a-size-base review-text review-te...  \n",
       "17764  <span class=\"a-size-base review-text review-te...  \n",
       "360    <span class=\"a-size-base review-text review-te...  \n",
       "21057  <span class=\"a-size-base review-text review-te...  \n",
       "20918  <span class=\"a-size-base review-text review-te...  \n",
       "23771  <span class=\"a-size-base review-text review-te...  \n",
       "29763  <span class=\"a-size-base review-text review-te...  \n",
       "6034   <span class=\"a-size-base review-text review-te...  "
      ]
     },
     "execution_count": 12,
     "metadata": {},
     "output_type": "execute_result"
    }
   ],
   "source": [
    "df.sample(10)"
   ]
  },
  {
   "cell_type": "code",
   "execution_count": 29,
   "metadata": {},
   "outputs": [
    {
     "data": {
      "text/plain": [
       "(20501, 6)"
      ]
     },
     "execution_count": 29,
     "metadata": {},
     "output_type": "execute_result"
    }
   ],
   "source": [
    "duplicate = df[df.duplicated()]\n",
    "duplicate.shape\n"
   ]
  },
  {
   "cell_type": "markdown",
   "metadata": {},
   "source": [
    "## Extract review score as int"
   ]
  },
  {
   "cell_type": "code",
   "execution_count": 13,
   "metadata": {},
   "outputs": [],
   "source": [
    "df.scores.fillna('9')\n",
    "df.scores = df.scores.str.slice(start = 0, stop =1)"
   ]
  },
  {
   "cell_type": "markdown",
   "metadata": {},
   "source": [
    "# How many products does this dataset have? "
   ]
  },
  {
   "cell_type": "code",
   "execution_count": 14,
   "metadata": {},
   "outputs": [
    {
     "data": {
      "text/plain": [
       "46"
      ]
     },
     "execution_count": 14,
     "metadata": {},
     "output_type": "execute_result"
    }
   ],
   "source": [
    "df.product_name.nunique()"
   ]
  },
  {
   "cell_type": "markdown",
   "metadata": {},
   "source": [
    "# What is the distribution of scores "
   ]
  },
  {
   "cell_type": "code",
   "execution_count": 15,
   "metadata": {},
   "outputs": [
    {
     "data": {
      "image/png": "[encoded data removed]",
      "text/plain": [
       "<Figure size 720x504 with 1 Axes>"
      ]
     },
     "metadata": {
      "needs_background": "light"
     },
     "output_type": "display_data"
    }
   ],
   "source": [
    "clrs = ['green', 'green', 'grey', 'red', 'red']\n",
    "sns.countplot( data = df, x = 'scores', order = ['5', '4', '3', '2', '1'], palette=clrs)\n",
    "# sb.barplot(x=idx, y=values, palette=clrs) # color=clrs)\n",
    "plt.gcf().set_size_inches(10, 7)\n",
    "\n"
   ]
  },
  {
   "cell_type": "markdown",
   "metadata": {},
   "source": [
    "## most of the reviews are 4 and 5 stars.\n",
    "#### Since we only have few for 1 and 2 stars, I will consider 3 as a bad review. I will create a new boolean column called 'like' which answers the question: 'did the customer like the product or not?'\n",
    "- 'yes': for 4 & 5 stars ratings\n",
    "- 'no' :  for 3, 2, and 1 stars "
   ]
  },
  {
   "cell_type": "code",
   "execution_count": 16,
   "metadata": {},
   "outputs": [
    {
     "data": {
      "text/plain": [
       "80"
      ]
     },
     "execution_count": 16,
     "metadata": {},
     "output_type": "execute_result"
    }
   ],
   "source": [
    "\n",
    "df.scores.isnull().sum()"
   ]
  },
  {
   "cell_type": "code",
   "execution_count": 17,
   "metadata": {},
   "outputs": [],
   "source": [
    "df.loc[df['scores'].isnull()] = -1\n",
    "df.scores = df.scores.astype(int)\n",
    "def like(x):\n",
    "    if x < 0:\n",
    "        return None\n",
    "    else:\n",
    "        return x > 3\n",
    "\n",
    "df['like'] = df.scores.apply(like)\n",
    "df['like'] = df['like'].astype(bool)"
   ]
  },
  {
   "cell_type": "code",
   "execution_count": 18,
   "metadata": {},
   "outputs": [
    {
     "data": {
      "text/plain": [
       "<AxesSubplot:xlabel='like', ylabel='count'>"
      ]
     },
     "execution_count": 18,
     "metadata": {},
     "output_type": "execute_result"
    },
    {
     "data": {
      "image/png": "[encoded data removed]",
      "text/plain": [
       "<Figure size 432x288 with 1 Axes>"
      ]
     },
     "metadata": {
      "needs_background": "light"
     },
     "output_type": "display_data"
    }
   ],
   "source": [
    "sns.countplot(data=df, x = 'like')"
   ]
  },
  {
   "cell_type": "code",
   "execution_count": 19,
   "metadata": {},
   "outputs": [
    {
     "data": {
      "text/plain": [
       "True     25680\n",
       "False    14841\n",
       "Name: like, dtype: int64"
      ]
     },
     "execution_count": 19,
     "metadata": {},
     "output_type": "execute_result"
    }
   ],
   "source": [
    "df.like.value_counts()"
   ]
  },
  {
   "cell_type": "code",
   "execution_count": 20,
   "metadata": {},
   "outputs": [
    {
     "name": "stdout",
     "output_type": "stream",
     "text": [
      "<class 'pandas.core.frame.DataFrame'>\n",
      "RangeIndex: 40521 entries, 0 to 40520\n",
      "Data columns (total 6 columns):\n",
      " #   Column        Non-Null Count  Dtype \n",
      "---  ------        --------------  ----- \n",
      " 0   product_name  40521 non-null  object\n",
      " 1   attr          40521 non-null  object\n",
      " 2   scores        40521 non-null  int64 \n",
      " 3   review_title  40521 non-null  object\n",
      " 4   reviews       40521 non-null  object\n",
      " 5   like          40521 non-null  bool  \n",
      "dtypes: bool(1), int64(1), object(4)\n",
      "memory usage: 1.6+ MB\n"
     ]
    }
   ],
   "source": [
    "df.info()"
   ]
  },
  {
   "cell_type": "code",
   "execution_count": 21,
   "metadata": {},
   "outputs": [
    {
     "data": {
      "text/plain": [
       "20215    <span class=\"a-size-base review-text review-text-content\" data-hook=\"review-body\">\\n<span>\\n  over the holiday, I ordered medium, Large and xtra large the shirts tend to run smaller then the size it comes in.<br/>BUT, Each time I had to return and reorder there was no problem sending it back or getting a new order. I am very happy with the shirts and will continue to purchase from this company. Once the right size came everyone was very happy. Thank you for making my shopping easy. Madeline ...\n",
       "29851                                                  <span class=\"a-size-base review-text review-text-content\" data-hook=\"review-body\">\\n<span>\\n  6'4\"/185#/43 inch chest/32 inch waist - size L is almost too tight from chest down.  Fit and fabric weight make this shirt hot in warm weather. Definitely long enough for any height - if you're not tall you might not like the length.  Maybe an XL for torso fit but the length will still be a factor. Quality is good even if fit is a bit off.\\n</span>\\n</span>\n",
       "Name: reviews, dtype: object"
      ]
     },
     "execution_count": 21,
     "metadata": {},
     "output_type": "execute_result"
    }
   ],
   "source": [
    "#increase the column width to be able to view long reviews \n",
    "pd.set_option('max_colwidth', 500)\n",
    "df['reviews'].sample(2)"
   ]
  },
  {
   "cell_type": "code",
   "execution_count": 22,
   "metadata": {},
   "outputs": [
    {
     "name": "stdout",
     "output_type": "stream",
     "text": [
      "shirts this shirts this shirts tshirts\n"
     ]
    }
   ],
   "source": [
    "test = [\"shirts\", \"this t shirts\", \"this tee shirts\", \"tshirts\"]\n",
    "print(clean.clean(test))"
   ]
  },
  {
   "cell_type": "code",
   "execution_count": 25,
   "metadata": {},
   "outputs": [
    {
     "data": {
      "text/html": [
       "<div>\n",
       "<style scoped>\n",
       "    .dataframe tbody tr th:only-of-type {\n",
       "        vertical-align: middle;\n",
       "    }\n",
       "\n",
       "    .dataframe tbody tr th {\n",
       "        vertical-align: top;\n",
       "    }\n",
       "\n",
       "    .dataframe thead th {\n",
       "        text-align: right;\n",
       "    }\n",
       "</style>\n",
       "<table border=\"1\" class=\"dataframe\">\n",
       "  <thead>\n",
       "    <tr style=\"text-align: right;\">\n",
       "      <th></th>\n",
       "      <th>product_name</th>\n",
       "      <th>attr</th>\n",
       "      <th>scores</th>\n",
       "      <th>review_title</th>\n",
       "      <th>reviews</th>\n",
       "      <th>like</th>\n",
       "    </tr>\n",
       "  </thead>\n",
       "  <tbody>\n",
       "    <tr>\n",
       "      <th>22575</th>\n",
       "      <td>Gildan Men's DryBlend Workwear T-Shirts with Pocket, 2-Pack</td>\n",
       "      <td>nan</td>\n",
       "      <td>5</td>\n",
       "      <td>comfortable</td>\n",
       "      <td>i have purchased many shirts in my past but most were lightweight especially at these prices i expected the same with these but i was dramatically shocked these are the  greatest shirts i have purchased at these prices these shirts are the highest quality shirts and they each weigh three times what my ither shirts ever weighed i only wear shirts for they are so much more comfortable and being retired and i do  not live to impress anyone</td>\n",
       "      <td>True</td>\n",
       "    </tr>\n",
       "    <tr>\n",
       "      <th>22576</th>\n",
       "      <td>Gildan Men's DryBlend Workwear T-Shirts with Pocket, 2-Pack</td>\n",
       "      <td>nan</td>\n",
       "      <td>5</td>\n",
       "      <td>being pregnant i love these shirts</td>\n",
       "      <td>i bought these shirts primarily for work i work in a kitchen and the cook shirts do not stretch i bought extra large because of my extended belly and they fit perfectly roomy enough to be comfortable but not overly large they are pretty comfortable soft and do not chafe after a full day working in a kitchen only had them a few days but they are holding up will update after a few months of wear</td>\n",
       "      <td>True</td>\n",
       "    </tr>\n",
       "    <tr>\n",
       "      <th>22577</th>\n",
       "      <td>Gildan Men's DryBlend Workwear T-Shirts with Pocket, 2-Pack</td>\n",
       "      <td>nan</td>\n",
       "      <td>5</td>\n",
       "      <td>we hit the jackpot</td>\n",
       "      <td>for the money these shirts are great  they fit great and for a person that is active in doing work around the house they are so comfortable we have tried almost every brand and i noticed that the gildan product is used in a lot of print shirts  my soninlaw had one from his company with logo and it seemed like such a good quality  anyway these are the best for the money</td>\n",
       "      <td>True</td>\n",
       "    </tr>\n",
       "    <tr>\n",
       "      <th>22578</th>\n",
       "      <td>Gildan Men's DryBlend Workwear T-Shirts with Pocket, 2-Pack</td>\n",
       "      <td>nan</td>\n",
       "      <td>2</td>\n",
       "      <td>does not live up to its description</td>\n",
       "      <td>i did not try on the shirt because the material is just normal shirt material even though the description says moisturewicking dry blend technology it is not i will be using hanes cool dri which actually fits that description i have been using the hanes for cycling in 90degree heat and it works very well beware of products that put out an average product and throw buzz words into the description</td>\n",
       "      <td>False</td>\n",
       "    </tr>\n",
       "    <tr>\n",
       "      <th>22579</th>\n",
       "      <td>Gildan Men's DryBlend Workwear T-Shirts with Pocket, 2-Pack</td>\n",
       "      <td>nan</td>\n",
       "      <td>5</td>\n",
       "      <td>perfect blend of quality and affordability for businesses</td>\n",
       "      <td>i bought 2 types of shirts to put an emblem on and use them for work shirts we purchased the safety green color as we are a cleaning company that works on construction sites  these shirts perfect fit feels like high quality shirts employees love them gildan 5050 no pocket shirts poor quality paper thin and weird fit  i highly recommend these for businesses looking for a cheap quality shirt to add an emblem and give to employees</td>\n",
       "      <td>True</td>\n",
       "    </tr>\n",
       "    <tr>\n",
       "      <th>...</th>\n",
       "      <td>...</td>\n",
       "      <td>...</td>\n",
       "      <td>...</td>\n",
       "      <td>...</td>\n",
       "      <td>...</td>\n",
       "      <td>...</td>\n",
       "    </tr>\n",
       "    <tr>\n",
       "      <th>40516</th>\n",
       "      <td>-1</td>\n",
       "      <td>-1</td>\n",
       "      <td>-1</td>\n",
       "      <td>1</td>\n",
       "      <td>1</td>\n",
       "      <td>False</td>\n",
       "    </tr>\n",
       "    <tr>\n",
       "      <th>40517</th>\n",
       "      <td>-1</td>\n",
       "      <td>-1</td>\n",
       "      <td>-1</td>\n",
       "      <td>1</td>\n",
       "      <td>1</td>\n",
       "      <td>False</td>\n",
       "    </tr>\n",
       "    <tr>\n",
       "      <th>40518</th>\n",
       "      <td>-1</td>\n",
       "      <td>-1</td>\n",
       "      <td>-1</td>\n",
       "      <td>1</td>\n",
       "      <td>1</td>\n",
       "      <td>False</td>\n",
       "    </tr>\n",
       "    <tr>\n",
       "      <th>40519</th>\n",
       "      <td>-1</td>\n",
       "      <td>-1</td>\n",
       "      <td>-1</td>\n",
       "      <td>1</td>\n",
       "      <td>1</td>\n",
       "      <td>False</td>\n",
       "    </tr>\n",
       "    <tr>\n",
       "      <th>40520</th>\n",
       "      <td>-1</td>\n",
       "      <td>-1</td>\n",
       "      <td>-1</td>\n",
       "      <td>1</td>\n",
       "      <td>1</td>\n",
       "      <td>False</td>\n",
       "    </tr>\n",
       "  </tbody>\n",
       "</table>\n",
       "<p>17946 rows × 6 columns</p>\n",
       "</div>"
      ],
      "text/plain": [
       "                                                      product_name attr  \\\n",
       "22575  Gildan Men's DryBlend Workwear T-Shirts with Pocket, 2-Pack  nan   \n",
       "22576  Gildan Men's DryBlend Workwear T-Shirts with Pocket, 2-Pack  nan   \n",
       "22577  Gildan Men's DryBlend Workwear T-Shirts with Pocket, 2-Pack  nan   \n",
       "22578  Gildan Men's DryBlend Workwear T-Shirts with Pocket, 2-Pack  nan   \n",
       "22579  Gildan Men's DryBlend Workwear T-Shirts with Pocket, 2-Pack  nan   \n",
       "...                                                            ...  ...   \n",
       "40516                                                           -1   -1   \n",
       "40517                                                           -1   -1   \n",
       "40518                                                           -1   -1   \n",
       "40519                                                           -1   -1   \n",
       "40520                                                           -1   -1   \n",
       "\n",
       "       scores                                                 review_title  \\\n",
       "22575       5                                                 comfortable    \n",
       "22576       5                          being pregnant i love these shirts    \n",
       "22577       5                                          we hit the jackpot    \n",
       "22578       2                         does not live up to its description    \n",
       "22579       5   perfect blend of quality and affordability for businesses    \n",
       "...       ...                                                          ...   \n",
       "40516      -1                                                            1   \n",
       "40517      -1                                                            1   \n",
       "40518      -1                                                            1   \n",
       "40519      -1                                                            1   \n",
       "40520      -1                                                            1   \n",
       "\n",
       "                                                                                                                                                                                                                                                                                                                                                                                                                                                                  reviews  \\\n",
       "22575        i have purchased many shirts in my past but most were lightweight especially at these prices i expected the same with these but i was dramatically shocked these are the  greatest shirts i have purchased at these prices these shirts are the highest quality shirts and they each weigh three times what my ither shirts ever weighed i only wear shirts for they are so much more comfortable and being retired and i do  not live to impress anyone       \n",
       "22576                                                    i bought these shirts primarily for work i work in a kitchen and the cook shirts do not stretch i bought extra large because of my extended belly and they fit perfectly roomy enough to be comfortable but not overly large they are pretty comfortable soft and do not chafe after a full day working in a kitchen only had them a few days but they are holding up will update after a few months of wear       \n",
       "22577                                                                             for the money these shirts are great  they fit great and for a person that is active in doing work around the house they are so comfortable we have tried almost every brand and i noticed that the gildan product is used in a lot of print shirts  my soninlaw had one from his company with logo and it seemed like such a good quality  anyway these are the best for the money       \n",
       "22578                                                  i did not try on the shirt because the material is just normal shirt material even though the description says moisturewicking dry blend technology it is not i will be using hanes cool dri which actually fits that description i have been using the hanes for cycling in 90degree heat and it works very well beware of products that put out an average product and throw buzz words into the description       \n",
       "22579                 i bought 2 types of shirts to put an emblem on and use them for work shirts we purchased the safety green color as we are a cleaning company that works on construction sites  these shirts perfect fit feels like high quality shirts employees love them gildan 5050 no pocket shirts poor quality paper thin and weird fit  i highly recommend these for businesses looking for a cheap quality shirt to add an emblem and give to employees       \n",
       "...                                                                                                                                                                                                                                                                                                                                                                                                                                                                   ...   \n",
       "40516                                                                                                                                                                                                                                                                                                                                                                                                                                                                   1   \n",
       "40517                                                                                                                                                                                                                                                                                                                                                                                                                                                                   1   \n",
       "40518                                                                                                                                                                                                                                                                                                                                                                                                                                                                   1   \n",
       "40519                                                                                                                                                                                                                                                                                                                                                                                                                                                                   1   \n",
       "40520                                                                                                                                                                                                                                                                                                                                                                                                                                                                   1   \n",
       "\n",
       "        like  \n",
       "22575   True  \n",
       "22576   True  \n",
       "22577   True  \n",
       "22578  False  \n",
       "22579   True  \n",
       "...      ...  \n",
       "40516  False  \n",
       "40517  False  \n",
       "40518  False  \n",
       "40519  False  \n",
       "40520  False  \n",
       "\n",
       "[17946 rows x 6 columns]"
      ]
     },
     "execution_count": 25,
     "metadata": {},
     "output_type": "execute_result"
    }
   ],
   "source": [
    "df.iloc[22575:]"
   ]
  },
  {
   "cell_type": "markdown",
   "metadata": {},
   "source": [
    "## clean 'reviews' & 'review_title' column "
   ]
  },
  {
   "cell_type": "code",
   "execution_count": 24,
   "metadata": {},
   "outputs": [],
   "source": [
    "\n",
    "df.reviews = df.reviews.apply(clean.clean)\n",
    "df.review_title = df.review_title.apply(clean.clean) \n"
   ]
  },
  {
   "cell_type": "code",
   "execution_count": 157,
   "metadata": {},
   "outputs": [
    {
     "name": "stdout",
     "output_type": "stream",
     "text": [
      "Collecting nlppreprocess\n",
      "  Downloading nlppreprocess-1.0.2-py3-none-any.whl (5.1 kB)\n",
      "Installing collected packages: nlppreprocess\n",
      "Successfully installed nlppreprocess-1.0.2\n"
     ]
    }
   ],
   "source": [
    "# !pip install nlppreprocess"
   ]
  },
  {
   "cell_type": "markdown",
   "metadata": {},
   "source": [
    "## split the reviews columns"
   ]
  },
  {
   "cell_type": "code",
   "execution_count": 11,
   "metadata": {},
   "outputs": [],
   "source": [
    "df['reviews_splitted'] = df.reviews.apply(lambda x: re.split('[,.]', str(x)))"
   ]
  },
  {
   "cell_type": "code",
   "execution_count": null,
   "metadata": {},
   "outputs": [],
   "source": [
    "df.reviews_splitted"
   ]
  },
  {
   "cell_type": "code",
   "execution_count": 13,
   "metadata": {},
   "outputs": [],
   "source": [
    "df['review_length'] = df.reviews_splitted.apply(lambda x: len(x))"
   ]
  },
  {
   "cell_type": "markdown",
   "metadata": {},
   "source": [
    "## CountVectorize"
   ]
  },
  {
   "cell_type": "code",
   "execution_count": 15,
   "metadata": {},
   "outputs": [
    {
     "name": "stdout",
     "output_type": "stream",
     "text": [
      "Collecting package metadata (current_repodata.json): done\n",
      "Solving environment: \\ ^C\n",
      "failed with initial frozen solve. Retrying with flexible solve.\n",
      "\n",
      "CondaError: KeyboardInterrupt\n",
      "\n"
     ]
    }
   ],
   "source": [
    "!conda install scikit-learn=1.0"
   ]
  },
  {
   "cell_type": "code",
   "execution_count": 14,
   "metadata": {},
   "outputs": [
    {
     "ename": "AttributeError",
     "evalue": "'CountVectorizer' object has no attribute 'get_feature_names_out'",
     "output_type": "error",
     "traceback": [
      "\u001b[0;31m---------------------------------------------------------------------------\u001b[0m",
      "\u001b[0;31mAttributeError\u001b[0m                            Traceback (most recent call last)",
      "\u001b[0;32m/tmp/ipykernel_1266/3914699747.py\u001b[0m in \u001b[0;36m<module>\u001b[0;34m\u001b[0m\n\u001b[1;32m      2\u001b[0m \u001b[0mdata_cv\u001b[0m \u001b[0;34m=\u001b[0m \u001b[0mcv\u001b[0m\u001b[0;34m.\u001b[0m\u001b[0mfit_transform\u001b[0m\u001b[0;34m(\u001b[0m\u001b[0mdf\u001b[0m\u001b[0;34m.\u001b[0m\u001b[0mreview_title\u001b[0m\u001b[0;34m)\u001b[0m\u001b[0;34m\u001b[0m\u001b[0;34m\u001b[0m\u001b[0m\n\u001b[1;32m      3\u001b[0m data_dtm = pd.DataFrame(data_cv.toarray()\n\u001b[0;32m----> 4\u001b[0;31m                         , columns = cv.get_feature_names_out())\n\u001b[0m\u001b[1;32m      5\u001b[0m \u001b[0mdata_dtm\u001b[0m\u001b[0;34m.\u001b[0m\u001b[0mindex\u001b[0m \u001b[0;34m=\u001b[0m \u001b[0mdata\u001b[0m\u001b[0;34m.\u001b[0m\u001b[0mindex\u001b[0m\u001b[0;34m\u001b[0m\u001b[0;34m\u001b[0m\u001b[0m\n\u001b[1;32m      6\u001b[0m \u001b[0mdata_dtm\u001b[0m\u001b[0;34m\u001b[0m\u001b[0;34m\u001b[0m\u001b[0m\n",
      "\u001b[0;31mAttributeError\u001b[0m: 'CountVectorizer' object has no attribute 'get_feature_names_out'"
     ]
    }
   ],
   "source": [
    "cv = CountVectorizer(stop_words='english')\n",
    "data_cv = cv.fit_transform(df.review_title)\n",
    "data_dtm = pd.DataFrame(data_cv.toarray()\n",
    "                        , columns = cv.get_feature_names_out())\n",
    "data_dtm.index = data.index\n",
    "data_dtm"
   ]
  },
  {
   "cell_type": "code",
   "execution_count": 193,
   "metadata": {},
   "outputs": [
    {
     "data": {
      "text/plain": [
       "0        1\n",
       "1        1\n",
       "2        1\n",
       "3        1\n",
       "4        1\n",
       "        ..\n",
       "40516    1\n",
       "40517    1\n",
       "40518    1\n",
       "40519    1\n",
       "40520    1\n",
       "Name: review_length, Length: 40521, dtype: int64"
      ]
     },
     "execution_count": 193,
     "metadata": {},
     "output_type": "execute_result"
    }
   ],
   "source": [
    "df.review_length"
   ]
  },
  {
   "cell_type": "markdown",
   "metadata": {},
   "source": [
    "# NLTK"
   ]
  },
  {
   "cell_type": "code",
   "execution_count": 225,
   "metadata": {},
   "outputs": [
    {
     "name": "stderr",
     "output_type": "stream",
     "text": [
      "[nltk_data] Downloading package stopwords to /home/vscode/nltk_data...\n",
      "[nltk_data]   Package stopwords is already up-to-date!\n"
     ]
    }
   ],
   "source": [
    "import nltk\n",
    "nltk.download('stopwords')\n",
    "from nltk.corpus import stopwords\n",
    "from nltk.stem.porter import PorterStemmer\n",
    "ps = PorterStemmer()\n",
    "\n",
    "all_stopwords = stopwords.words('english')\n",
    "\n",
    "#there are important words in reviews that I don't want to remove, such as \"size up\" and \"size down\"\n",
    "do_not_remove = ['not', 'no', 'up', 'down', 'above', 'below', 'off', 'again', 'too', 'y']\n",
    "for word in all_stopwords:\n",
    "    if (word in do_not_remove):\n",
    "        all_stopwords.remove(word)"
   ]
  },
  {
   "cell_type": "code",
   "execution_count": 226,
   "metadata": {},
   "outputs": [
    {
     "data": {
      "text/plain": [
       "171"
      ]
     },
     "execution_count": 226,
     "metadata": {},
     "output_type": "execute_result"
    }
   ],
   "source": [
    "len(all_stopwords)"
   ]
  },
  {
   "cell_type": "code",
   "execution_count": 214,
   "metadata": {},
   "outputs": [
    {
     "data": {
      "text/plain": [
       "['i',\n",
       " 'me',\n",
       " 'my',\n",
       " 'myself',\n",
       " 'we',\n",
       " 'our',\n",
       " 'ours',\n",
       " 'ourselves',\n",
       " 'you',\n",
       " \"you're\",\n",
       " \"you've\",\n",
       " \"you'll\",\n",
       " \"you'd\",\n",
       " 'your',\n",
       " 'yours',\n",
       " 'yourself',\n",
       " 'yourselves',\n",
       " 'he',\n",
       " 'him',\n",
       " 'his',\n",
       " 'himself',\n",
       " 'she',\n",
       " \"she's\",\n",
       " 'her',\n",
       " 'hers',\n",
       " 'herself',\n",
       " 'it',\n",
       " \"it's\",\n",
       " 'its',\n",
       " 'itself',\n",
       " 'they',\n",
       " 'them',\n",
       " 'their',\n",
       " 'theirs',\n",
       " 'themselves',\n",
       " 'what',\n",
       " 'which',\n",
       " 'who',\n",
       " 'whom',\n",
       " 'this',\n",
       " 'that',\n",
       " \"that'll\",\n",
       " 'these',\n",
       " 'those',\n",
       " 'am',\n",
       " 'is',\n",
       " 'are',\n",
       " 'was',\n",
       " 'were',\n",
       " 'be',\n",
       " 'been',\n",
       " 'being',\n",
       " 'have',\n",
       " 'has',\n",
       " 'had',\n",
       " 'having',\n",
       " 'do',\n",
       " 'does',\n",
       " 'did',\n",
       " 'doing',\n",
       " 'a',\n",
       " 'an',\n",
       " 'the',\n",
       " 'and',\n",
       " 'but',\n",
       " 'if',\n",
       " 'or',\n",
       " 'because',\n",
       " 'as',\n",
       " 'until',\n",
       " 'while',\n",
       " 'of',\n",
       " 'at',\n",
       " 'by',\n",
       " 'for',\n",
       " 'with',\n",
       " 'about',\n",
       " 'against',\n",
       " 'between',\n",
       " 'into',\n",
       " 'through',\n",
       " 'during',\n",
       " 'before',\n",
       " 'after',\n",
       " 'below',\n",
       " 'to',\n",
       " 'from',\n",
       " 'down',\n",
       " 'in',\n",
       " 'out',\n",
       " 'on',\n",
       " 'over',\n",
       " 'under',\n",
       " 'further',\n",
       " 'then',\n",
       " 'once',\n",
       " 'here',\n",
       " 'there',\n",
       " 'when',\n",
       " 'where',\n",
       " 'why',\n",
       " 'how',\n",
       " 'all',\n",
       " 'any',\n",
       " 'both',\n",
       " 'each',\n",
       " 'few',\n",
       " 'more',\n",
       " 'most',\n",
       " 'other',\n",
       " 'some',\n",
       " 'such',\n",
       " 'nor',\n",
       " 'only',\n",
       " 'own',\n",
       " 'same',\n",
       " 'so',\n",
       " 'than',\n",
       " 'very',\n",
       " 's',\n",
       " 't',\n",
       " 'can',\n",
       " 'will',\n",
       " 'just',\n",
       " 'don',\n",
       " \"don't\",\n",
       " 'should',\n",
       " \"should've\",\n",
       " 'now',\n",
       " 'd',\n",
       " 'll',\n",
       " 'm',\n",
       " 'o',\n",
       " 're',\n",
       " 've',\n",
       " 'y',\n",
       " 'ain',\n",
       " 'aren',\n",
       " \"aren't\",\n",
       " 'couldn',\n",
       " \"couldn't\",\n",
       " 'didn',\n",
       " \"didn't\",\n",
       " 'doesn',\n",
       " \"doesn't\",\n",
       " 'hadn',\n",
       " \"hadn't\",\n",
       " 'hasn',\n",
       " \"hasn't\",\n",
       " 'haven',\n",
       " \"haven't\",\n",
       " 'isn',\n",
       " \"isn't\",\n",
       " 'ma',\n",
       " 'mightn',\n",
       " \"mightn't\",\n",
       " 'mustn',\n",
       " \"mustn't\",\n",
       " 'needn',\n",
       " \"needn't\",\n",
       " 'shan',\n",
       " \"shan't\",\n",
       " 'shouldn',\n",
       " \"shouldn't\",\n",
       " 'wasn',\n",
       " \"wasn't\",\n",
       " 'weren',\n",
       " \"weren't\",\n",
       " 'won',\n",
       " \"won't\",\n",
       " 'wouldn',\n",
       " \"wouldn't\"]"
      ]
     },
     "execution_count": 214,
     "metadata": {},
     "output_type": "execute_result"
    }
   ],
   "source": [
    "all_stopwords"
   ]
  },
  {
   "cell_type": "code",
   "execution_count": null,
   "metadata": {},
   "outputs": [],
   "source": [
    "df.reviews.head(10)"
   ]
  },
  {
   "cell_type": "code",
   "execution_count": 259,
   "metadata": {},
   "outputs": [],
   "source": [
    "#remove stopwords from the review_titles \n",
    "corpus=[]\n",
    "\n",
    "test = [\"Hello There my name is Hend, I don't like tea, I shouldn't sleep late\", \"I won't waste more time\", \"I'll try working out today\", \"I'd double check in different lightings to make sure they aren't showing. \"]\n",
    "\n",
    "\n",
    "for title in test:\n",
    "    title = replace_words(title)\n",
    "    title = title.split()\n",
    "    title = [ps.stem(word) for word in title if not word in set(all_stopwords)]\n",
    "    title = ' '.join(title)\n",
    "    corpus.append(title)\n",
    "\n",
    "\n"
   ]
  },
  {
   "cell_type": "code",
   "execution_count": 258,
   "metadata": {},
   "outputs": [
    {
     "name": "stdout",
     "output_type": "stream",
     "text": [
      "hello there my name is hend i dont like tea i shouldnt sleep late i wont waste more time ill try working out today id double check in different lightings to make sure they arent showing \n"
     ]
    }
   ],
   "source": [
    "test = [\"Hello There my name is Hend, I don't like tea, I shouldn't sleep late\", \"I won't waste more time\", \"I'll try working out today\", \"I'd double check in different lightings to make sure they aren't showing. \"]\n",
    "print(clean_titles(test))"
   ]
  },
  {
   "cell_type": "code",
   "execution_count": 260,
   "metadata": {},
   "outputs": [
    {
     "data": {
      "text/plain": [
       "['hello there name hend, i not like tea, i not sleep late',\n",
       " 'i not wast time',\n",
       " 'i tri work today',\n",
       " 'i would doubl check differ light make sure not showing.']"
      ]
     },
     "execution_count": 260,
     "metadata": {},
     "output_type": "execute_result"
    }
   ],
   "source": [
    "corpus"
   ]
  },
  {
   "cell_type": "code",
   "execution_count": 110,
   "metadata": {},
   "outputs": [
    {
     "data": {
      "text/plain": [
       "160"
      ]
     },
     "execution_count": 110,
     "metadata": {},
     "output_type": "execute_result"
    }
   ],
   "source": []
  },
  {
   "cell_type": "code",
   "execution_count": null,
   "metadata": {},
   "outputs": [],
   "source": []
  }
 ],
 "metadata": {
  "interpreter": {
   "hash": "d4d1e4263499bec80672ea0156c357c1ee493ec2b1c70f0acce89fc37c4a6abe"
  },
  "kernelspec": {
   "display_name": "Python 3.9.7 ('base')",
   "language": "python",
   "name": "python3"
  },
  "language_info": {
   "codemirror_mode": {
    "name": "ipython",
    "version": 3
   },
   "file_extension": ".py",
   "mimetype": "text/x-python",
   "name": "python",
   "nbconvert_exporter": "python",
   "pygments_lexer": "ipython3",
   "version": "3.9.7"
  },
  "orig_nbformat": 4
 },
 "nbformat": 4,
 "nbformat_minor": 2
}
