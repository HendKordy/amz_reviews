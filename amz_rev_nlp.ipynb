{
 "cells": [
  {
   "cell_type": "code",
   "execution_count": 235,
   "metadata": {},
   "outputs": [],
   "source": [
    "import pandas as pd\n",
    "from nltk.tokenize import sent_tokenize, word_tokenize\n",
    "import nltk\n",
    "from sklearn.feature_extraction.text import CountVectorizer\n",
    "#packages for data cleaning\n",
    "import re\n",
    "import string"
   ]
  },
  {
   "cell_type": "code",
   "execution_count": 132,
   "metadata": {},
   "outputs": [],
   "source": [
    "df = pd.read_csv('./amz_tshirt_reviews.csv')"
   ]
  },
  {
   "cell_type": "code",
   "execution_count": 160,
   "metadata": {},
   "outputs": [
    {
     "name": "stdout",
     "output_type": "stream",
     "text": [
      "<class 'pandas.core.frame.DataFrame'>\n",
      "RangeIndex: 40521 entries, 0 to 40520\n",
      "Data columns (total 5 columns):\n",
      " #   Column        Non-Null Count  Dtype  \n",
      "---  ------        --------------  -----  \n",
      " 0   product_name  40521 non-null  object \n",
      " 1   attr          0 non-null      float64\n",
      " 2   scores        40441 non-null  object \n",
      " 3   review_title  40441 non-null  object \n",
      " 4   reviews       40521 non-null  object \n",
      "dtypes: float64(1), object(4)\n",
      "memory usage: 1.5+ MB\n"
     ]
    }
   ],
   "source": [
    "df.info()"
   ]
  },
  {
   "cell_type": "markdown",
   "metadata": {},
   "source": [
    "#### when I webscrapped the data, I had a bug that caused the 'attr' column to be null, I need to re-run the webscrapping ipynb file and get the complete dataset "
   ]
  },
  {
   "cell_type": "code",
   "execution_count": 37,
   "metadata": {},
   "outputs": [
    {
     "data": {
      "text/plain": [
       "(40521, 5)"
      ]
     },
     "execution_count": 37,
     "metadata": {},
     "output_type": "execute_result"
    }
   ],
   "source": [
    "df.shape"
   ]
  },
  {
   "cell_type": "code",
   "execution_count": 186,
   "metadata": {},
   "outputs": [
    {
     "data": {
      "text/html": [
       "<div>\n",
       "<style scoped>\n",
       "    .dataframe tbody tr th:only-of-type {\n",
       "        vertical-align: middle;\n",
       "    }\n",
       "\n",
       "    .dataframe tbody tr th {\n",
       "        vertical-align: top;\n",
       "    }\n",
       "\n",
       "    .dataframe thead th {\n",
       "        text-align: right;\n",
       "    }\n",
       "</style>\n",
       "<table border=\"1\" class=\"dataframe\">\n",
       "  <thead>\n",
       "    <tr style=\"text-align: right;\">\n",
       "      <th></th>\n",
       "      <th>product_name</th>\n",
       "      <th>attr</th>\n",
       "      <th>scores</th>\n",
       "      <th>review_title</th>\n",
       "      <th>reviews</th>\n",
       "    </tr>\n",
       "  </thead>\n",
       "  <tbody>\n",
       "    <tr>\n",
       "      <th>32624</th>\n",
       "      <td>Hanes Men's Tagless Cotton V-Neck Undershirt – Multiple Packs and Colors</td>\n",
       "      <td>NaN</td>\n",
       "      <td>5</td>\n",
       "      <td>comfort</td>\n",
       "      <td>got these also for my father. he likes the v neck doesn't like anything tight up by his neck.</td>\n",
       "    </tr>\n",
       "    <tr>\n",
       "      <th>8902</th>\n",
       "      <td>Under Armour Men's Tech 2.0 Short-Sleeve T-Shirt</td>\n",
       "      <td>NaN</td>\n",
       "      <td>4</td>\n",
       "      <td>fit is good</td>\n",
       "      <td>bought to replace an older under armor shirt. the new one fits fine but the material seems thinner and not as good as the older ones i have.</td>\n",
       "    </tr>\n",
       "    <tr>\n",
       "      <th>1550</th>\n",
       "      <td>Gildan Men's Crew T-Shirts, Multipack</td>\n",
       "      <td>NaN</td>\n",
       "      <td>2</td>\n",
       "      <td>i liked white t-shirts very much (gives nice soft feel) and ...</td>\n",
       "      <td>all shows in comparison. when i bought banana republic soft tee (yes, it is $20), i realized that i was wasting money on guildan t-shirts. day and night!  now i cannot even put on guildan t-shirts and will be disposing of them, since i see no use for the product. after using banana republic for few days, guildan t-shirts seem harsh and deformed, not soft on skin, heavy, and very uncomfortable comparable to banana republic soft tees. the difference is obviously in much much quality of fabri...</td>\n",
       "    </tr>\n",
       "    <tr>\n",
       "      <th>38396</th>\n",
       "      <td>Comfort Colors Men's Adult Short Sleeve Tee, Style 1717</td>\n",
       "      <td>NaN</td>\n",
       "      <td>1</td>\n",
       "      <td>color is not even close to what is shown.</td>\n",
       "      <td>color of the neon red orange isn't even close to what's shown. looks more like coral/pink/peach color.</td>\n",
       "    </tr>\n",
       "    <tr>\n",
       "      <th>17290</th>\n",
       "      <td>Amazon Essentials Women's 2-Pack Classic-Fit Short-Sleeve Crewneck T-Shirt</td>\n",
       "      <td>NaN</td>\n",
       "      <td>5</td>\n",
       "      <td>my new favorite</td>\n",
       "      <td>i like to have a few basic tees. i usually get them from old navy, but for the same price i think these are way nicer. the fabric has a nice feel and the fit is just about prefect. i have the xxl and they manage the perfect mix of still having some breathing room without being shapeless. i went and bought two more packs in different colors!</td>\n",
       "    </tr>\n",
       "    <tr>\n",
       "      <th>23687</th>\n",
       "      <td>Champion Men's Classic T-Shirt, Screen Print Script</td>\n",
       "      <td>NaN</td>\n",
       "      <td>5</td>\n",
       "      <td>champion t-shirt</td>\n",
       "      <td>the shirt fits well and looks good. i had to send two back because they didn't fit as well as the first one i ordered. i ordered another one and it fits well.</td>\n",
       "    </tr>\n",
       "    <tr>\n",
       "      <th>2067</th>\n",
       "      <td>Hanes Men's Essentials Short Sleeve T-shirt Value Pack (4-pack)</td>\n",
       "      <td>NaN</td>\n",
       "      <td>3</td>\n",
       "      <td>not as i expected.  okay for a cheap t-shirt for work/working out.</td>\n",
       "      <td>i bought xl size expecting to be able to wash and dry them and have them shrink quite a bit, and get them to what a large is before washing/drying, because the large size i got from walmart shrunk down to a medium.  well, these are way bigger than i expected, and the fit is different.it's funny because most people in the reviews are complaining about the shrink, when that's what i was looking for.  if you need an xl and expect a big shirt, these are definitely big.  they'll shrink, but not...</td>\n",
       "    </tr>\n",
       "    <tr>\n",
       "      <th>16220</th>\n",
       "      <td>Hanes Men’s Short Sleeve Graphic T-shirt Collection</td>\n",
       "      <td>NaN</td>\n",
       "      <td>5</td>\n",
       "      <td>with all the cheap junk tshirts out there..this one is old school good</td>\n",
       "      <td>old fashioned good quality t shirt.. the one last last year's before falling apart.</td>\n",
       "    </tr>\n",
       "    <tr>\n",
       "      <th>20949</th>\n",
       "      <td>5 Pack: Men’s Dry-Fit Moisture Wicking Active Athletic Performance Crew T-Shirt</td>\n",
       "      <td>NaN</td>\n",
       "      <td>3</td>\n",
       "      <td>camisa deportiva</td>\n",
       "      <td>camisa de buena calidad “” es buen material pero las camisas blancas tiene un problema y es que se ve tú cuerpo no es cubridora tengo tatuajes y se ven a la distancia</td>\n",
       "    </tr>\n",
       "    <tr>\n",
       "      <th>17420</th>\n",
       "      <td>Amazon Essentials Women's 2-Pack Classic-Fit Short-Sleeve Crewneck T-Shirt</td>\n",
       "      <td>NaN</td>\n",
       "      <td>2</td>\n",
       "      <td>admit i should have known better than to order something with so much spandex</td>\n",
       "      <td>...not the droid you're looking for... runs about 2 sizes too small. very trendy but not an everyday, hide-every-flaw, loose-fitting, basic black t-shirt. must be worn under something else. admit i should have known better than to order something with so much spandex. live and learn.</td>\n",
       "    </tr>\n",
       "  </tbody>\n",
       "</table>\n",
       "</div>"
      ],
      "text/plain": [
       "                                                                          product_name  \\\n",
       "32624         Hanes Men's Tagless Cotton V-Neck Undershirt – Multiple Packs and Colors   \n",
       "8902                                  Under Armour Men's Tech 2.0 Short-Sleeve T-Shirt   \n",
       "1550                                             Gildan Men's Crew T-Shirts, Multipack   \n",
       "38396                          Comfort Colors Men's Adult Short Sleeve Tee, Style 1717   \n",
       "17290       Amazon Essentials Women's 2-Pack Classic-Fit Short-Sleeve Crewneck T-Shirt   \n",
       "23687                              Champion Men's Classic T-Shirt, Screen Print Script   \n",
       "2067                   Hanes Men's Essentials Short Sleeve T-shirt Value Pack (4-pack)   \n",
       "16220                              Hanes Men’s Short Sleeve Graphic T-shirt Collection   \n",
       "20949  5 Pack: Men’s Dry-Fit Moisture Wicking Active Athletic Performance Crew T-Shirt   \n",
       "17420       Amazon Essentials Women's 2-Pack Classic-Fit Short-Sleeve Crewneck T-Shirt   \n",
       "\n",
       "       attr scores  \\\n",
       "32624   NaN      5   \n",
       "8902    NaN      4   \n",
       "1550    NaN      2   \n",
       "38396   NaN      1   \n",
       "17290   NaN      5   \n",
       "23687   NaN      5   \n",
       "2067    NaN      3   \n",
       "16220   NaN      5   \n",
       "20949   NaN      3   \n",
       "17420   NaN      2   \n",
       "\n",
       "                                                                        review_title  \\\n",
       "32624                                                                        comfort   \n",
       "8902                                                                     fit is good   \n",
       "1550                 i liked white t-shirts very much (gives nice soft feel) and ...   \n",
       "38396                                      color is not even close to what is shown.   \n",
       "17290                                                                my new favorite   \n",
       "23687                                                               champion t-shirt   \n",
       "2067              not as i expected.  okay for a cheap t-shirt for work/working out.   \n",
       "16220         with all the cheap junk tshirts out there..this one is old school good   \n",
       "20949                                                               camisa deportiva   \n",
       "17420  admit i should have known better than to order something with so much spandex   \n",
       "\n",
       "                                                                                                                                                                                                                                                                                                                                                                                                                                                                                                                   reviews  \n",
       "32624                                                                                                                                                                                                                                                                                                                                                                                                                        got these also for my father. he likes the v neck doesn't like anything tight up by his neck.  \n",
       "8902                                                                                                                                                                                                                                                                                                                                                                          bought to replace an older under armor shirt. the new one fits fine but the material seems thinner and not as good as the older ones i have.  \n",
       "1550     all shows in comparison. when i bought banana republic soft tee (yes, it is $20), i realized that i was wasting money on guildan t-shirts. day and night!  now i cannot even put on guildan t-shirts and will be disposing of them, since i see no use for the product. after using banana republic for few days, guildan t-shirts seem harsh and deformed, not soft on skin, heavy, and very uncomfortable comparable to banana republic soft tees. the difference is obviously in much much quality of fabri...  \n",
       "38396                                                                                                                                                                                                                                                                                                                                                                                                               color of the neon red orange isn't even close to what's shown. looks more like coral/pink/peach color.  \n",
       "17290                                                                                                                                                               i like to have a few basic tees. i usually get them from old navy, but for the same price i think these are way nicer. the fabric has a nice feel and the fit is just about prefect. i have the xxl and they manage the perfect mix of still having some breathing room without being shapeless. i went and bought two more packs in different colors!  \n",
       "23687                                                                                                                                                                                                                                                                                                                                                       the shirt fits well and looks good. i had to send two back because they didn't fit as well as the first one i ordered. i ordered another one and it fits well.  \n",
       "2067     i bought xl size expecting to be able to wash and dry them and have them shrink quite a bit, and get them to what a large is before washing/drying, because the large size i got from walmart shrunk down to a medium.  well, these are way bigger than i expected, and the fit is different.it's funny because most people in the reviews are complaining about the shrink, when that's what i was looking for.  if you need an xl and expect a big shirt, these are definitely big.  they'll shrink, but not...  \n",
       "16220                                                                                                                                                                                                                                                                                                                                                                                                                                  old fashioned good quality t shirt.. the one last last year's before falling apart.  \n",
       "20949                                                                                                                                                                                                                                                                                                                                               camisa de buena calidad “” es buen material pero las camisas blancas tiene un problema y es que se ve tú cuerpo no es cubridora tengo tatuajes y se ven a la distancia  \n",
       "17420                                                                                                                                                                                                                         ...not the droid you're looking for... runs about 2 sizes too small. very trendy but not an everyday, hide-every-flaw, loose-fitting, basic black t-shirt. must be worn under something else. admit i should have known better than to order something with so much spandex. live and learn.  "
      ]
     },
     "execution_count": 186,
     "metadata": {},
     "output_type": "execute_result"
    }
   ],
   "source": [
    "df.sample(10)"
   ]
  },
  {
   "cell_type": "code",
   "execution_count": 155,
   "metadata": {},
   "outputs": [
    {
     "data": {
      "text/plain": [
       "\\nComfortable\\n                            156\n",
       "\\nPerfect\\n                                149\n",
       "\\nGreat shirt\\n                            140\n",
       "\\nRuns small\\n                             134\n",
       "\\nGood quality\\n                           133\n",
       "                                          ... \n",
       "\\nPrice was right for around home.\\n         1\n",
       "\\nNot what you think you are getting.\\n      1\n",
       "\\nSoft, fit well\\n                           1\n",
       "\\nHe love his T shirt\\n                      1\n",
       "\\nPoor variety\\n                             1\n",
       "Name: review_title, Length: 16147, dtype: int64"
      ]
     },
     "execution_count": 155,
     "metadata": {},
     "output_type": "execute_result"
    }
   ],
   "source": [
    "df.review_title.value_counts()"
   ]
  },
  {
   "cell_type": "code",
   "execution_count": 177,
   "metadata": {},
   "outputs": [
    {
     "data": {
      "text/plain": [
       "17750                          for the money, i can't imagine a better value. these are super soft, comfy and flattering. the fabric isn't too thin or too heavy -- just right. these tees also have just the right amount of stretch/cling -- not too clingy but not at all loose/baggy.  i just got them so i'm not sure how well they'll hold up, but even if it's only for a little while, these are worth it.\n",
       "7214       these shirts are great. there are many reviews stating that they are not heavyweight but they are much heavier than the regular ones. also, i would order one size larger than normal because they do shrink in the wash. i purchased the white and they are very bright and not faded at all and unlike many t-shirt’s, they are not too narrow but just the right width. definitely worth purchasing.\n",
       "Name: reviews, dtype: object"
      ]
     },
     "execution_count": 177,
     "metadata": {},
     "output_type": "execute_result"
    }
   ],
   "source": [
    "#increase the column width to be able to view long reviews \n",
    "pd.set_option('max_colwidth', 500)\n",
    "df['reviews'].sample(2)"
   ]
  },
  {
   "cell_type": "markdown",
   "metadata": {},
   "source": [
    "## clean 'reviews' column "
   ]
  },
  {
   "cell_type": "code",
   "execution_count": 153,
   "metadata": {},
   "outputs": [],
   "source": [
    "def clean_reviews(text):\n",
    "    # make it all lowercase \n",
    "    text = text.lower()\n",
    "    # remove text between </>\n",
    "    text = re.sub('\\<[^>]*\\>', '', text)\n",
    "    # remove punctuation \n",
    "    #--- I am not going to remove punctuations for now because i might split the sentences. \n",
    "    # text = re.sub('[%s]' % re.escape(string.punctuation), '', text) \n",
    "\n",
    "    # remove all '\\n\\n'\n",
    "    text = re.sub(r\"\\n\\n \", ' ', text)\n",
    "    text = text.rstrip(\"\\n\")\n",
    "    \n",
    "    return text\n",
    "df.reviews = df.reviews.apply(clean_reviews)"
   ]
  },
  {
   "cell_type": "markdown",
   "metadata": {},
   "source": [
    "## clean 'review_title'"
   ]
  },
  {
   "cell_type": "code",
   "execution_count": 174,
   "metadata": {},
   "outputs": [],
   "source": [
    "def clean_titles(title):\n",
    "    title = str(title)\n",
    "    #make all lowercase \n",
    "    title = title.lower()\n",
    "    # remove all '\\n'\n",
    "    title = re.sub(r\"\\n\", '', title)\n",
    "    return title\n",
    "\n",
    "df.review_title = df.review_title.apply(clean_titles) "
   ]
  },
  {
   "cell_type": "markdown",
   "metadata": {},
   "source": [
    "## Extract review score as int"
   ]
  },
  {
   "cell_type": "code",
   "execution_count": 185,
   "metadata": {},
   "outputs": [],
   "source": [
    "df.scores.fillna('9')\n",
    "df.scores = df.scores.str.slice(start = 0, stop =1)"
   ]
  },
  {
   "cell_type": "markdown",
   "metadata": {},
   "source": [
    "## split the reviews columns"
   ]
  },
  {
   "cell_type": "code",
   "execution_count": 220,
   "metadata": {},
   "outputs": [],
   "source": [
    "df['reviews_splitted'] = df.reviews.apply(lambda x: re.split('[,.]', str(x)))"
   ]
  },
  {
   "cell_type": "code",
   "execution_count": 221,
   "metadata": {},
   "outputs": [
    {
     "data": {
      "text/plain": [
       "0        [  i recommend these t-shirts,  i am 5'8\" and 140\",  i do not like tight t-shirts so i bought a large,  i am happy with it,  although i am sure that a medium would have worked, i will compare the gilden t-shirt with the fruit of the loom platinum that you will see at wal-mart, pro - the gilden appears to be better built and the sizing was consistent on the two t-shirts that came in the package,  the neck was smaller,  without being tight,  i am guessing that fabric around the neck will not w...\n",
       "1        [  my husband actually has t-shirts older than our college-age grandson,   some looked as if he was present and against the wall at the valentine's day massacre,   i've slowly been trashing them as he brings them to be laundered and i was looking to replace some of his around-the house t-shirts,   he likes them reasonably soft and medium weight,   i sent off for a set of two of these and he really likes them,   he wore them one right after the other,  and the second they had went thru wash a...\n",
       "2        [  i have purchased and worn gildan cotton tee shirts for many years,  decades really,  these are disappointing,  for specificity,  i note these particular shirts were manufactured in nicaragua,  unlike gildan shirts that i am happy with that were made in other countries, i won't make the mistake of buying gildan shirts anymore unless i can inspect the garments in person first, i purchased shirts in 3 different colors through two separate orders,  i have the same reaction to all shirts in al...\n",
       "3                                                                                   [  i’m a big girl,  5’3” and 250 lbs,  i usually wear xl or xxl because sizes are so inconsistent,  these shirts are a true xl! they fit my chest without pulling up too much in the front,  they aren’t too snug but don’t look loose and frumpy either,  the material is thick and even though they might shrink a bit in the wash,  there’s enough room that they still won’t be too small,  i’ll definitely be buying these again, ]\n",
       "4        [  used to be,  ages ago before online shopping,  that the big brands (hanes,  fruit of the loom) always made reliable t-shirts,   lately,  not so much the case,  and it seems to be more difficult to just find a comfortable,  quality t-shirt that isn't overpriced,   i rely on these for sleeping,  along with a comfy pair of shorts,  but my aged t-shirts,  from champion,  are wearing out,  and i can't find those anymore, so,  looking at t-shirts i've liked,  that i've bought at sporting events...\n",
       "                                                                                                                                                                                                                                                                ...                                                                                                                                                                                                                                                         \n",
       "40516                                                                                                                                                                                                                                                                                                                                                                                                                                                                                        [  excellent quality great fit]\n",
       "40517                                                                                                                                                                                                                                                                                                                                                                                                                                                                                                        [  fits well, ]\n",
       "40518                                                                                                                                                                                                                                                                                                                                                                                                                                                                                                       [  great shirt!]\n",
       "40519                                                                                                                                                                                                                                                                                                                                                                                                                                  [  playera muy bonita,  sin embargo el estampado hace sudar y se marca en la playera]\n",
       "40520                                                                                                                                                                                                                                                                                                                                                                                                                                                                                    [  a la medida y muy buen producto]\n",
       "Name: reviews_splitted, Length: 40521, dtype: object"
      ]
     },
     "execution_count": 221,
     "metadata": {},
     "output_type": "execute_result"
    }
   ],
   "source": [
    "df.reviews_splitted"
   ]
  },
  {
   "cell_type": "code",
   "execution_count": 222,
   "metadata": {},
   "outputs": [],
   "source": [
    "df['review_length'] = df.reviews_splitted.apply(lambda x: len(x))"
   ]
  },
  {
   "cell_type": "markdown",
   "metadata": {},
   "source": [
    "## CountVectorize"
   ]
  },
  {
   "cell_type": "code",
   "execution_count": 237,
   "metadata": {},
   "outputs": [],
   "source": [
    "cv = CountVectorizer(stop_words='english')\n",
    "data_cv = cv.fit_transform(df.reviews)\n",
    "data_dtm = pd.DataFrame(data_cv.toarray()\n",
    "                        , columns = cv.get_feature_names_out())\n",
    "data_dtm.index = data.index\n",
    "data_dtm"
   ]
  },
  {
   "cell_type": "code",
   "execution_count": 193,
   "metadata": {},
   "outputs": [
    {
     "data": {
      "text/plain": [
       "0        1\n",
       "1        1\n",
       "2        1\n",
       "3        1\n",
       "4        1\n",
       "        ..\n",
       "40516    1\n",
       "40517    1\n",
       "40518    1\n",
       "40519    1\n",
       "40520    1\n",
       "Name: review_length, Length: 40521, dtype: int64"
      ]
     },
     "execution_count": 193,
     "metadata": {},
     "output_type": "execute_result"
    }
   ],
   "source": [
    "df.review_length"
   ]
  },
  {
   "cell_type": "code",
   "execution_count": 150,
   "metadata": {},
   "outputs": [
    {
     "ename": "LookupError",
     "evalue": "\n**********************************************************************\n  Resource \u001b[93mpunkt\u001b[0m not found.\n  Please use the NLTK Downloader to obtain the resource:\n\n  \u001b[31m>>> import nltk\n  >>> nltk.download('punkt')\n  \u001b[0m\n  For more information see: https://www.nltk.org/data.html\n\n  Attempted to load \u001b[93mtokenizers/punkt/PY3/english.pickle\u001b[0m\n\n  Searched in:\n    - '/home/vscode/nltk_data'\n    - '/opt/conda/nltk_data'\n    - '/opt/conda/share/nltk_data'\n    - '/opt/conda/lib/nltk_data'\n    - '/usr/share/nltk_data'\n    - '/usr/local/share/nltk_data'\n    - '/usr/lib/nltk_data'\n    - '/usr/local/lib/nltk_data'\n    - ''\n**********************************************************************\n",
     "output_type": "error",
     "traceback": [
      "\u001b[0;31m---------------------------------------------------------------------------\u001b[0m",
      "\u001b[0;31mLookupError\u001b[0m                               Traceback (most recent call last)",
      "\u001b[0;32m/tmp/ipykernel_1052/2691704504.py\u001b[0m in \u001b[0;36m<module>\u001b[0;34m\u001b[0m\n\u001b[1;32m      1\u001b[0m \u001b[0msentence\u001b[0m \u001b[0;34m=\u001b[0m \u001b[0;34m'Hello There my name is hend. What is your name?'\u001b[0m\u001b[0;34m\u001b[0m\u001b[0;34m\u001b[0m\u001b[0m\n\u001b[0;32m----> 2\u001b[0;31m \u001b[0mtoekns\u001b[0m \u001b[0;34m=\u001b[0m \u001b[0mnltk\u001b[0m\u001b[0;34m.\u001b[0m\u001b[0mword_tokenize\u001b[0m\u001b[0;34m(\u001b[0m\u001b[0msentence\u001b[0m\u001b[0;34m)\u001b[0m\u001b[0;34m\u001b[0m\u001b[0;34m\u001b[0m\u001b[0m\n\u001b[0m",
      "\u001b[0;32m/opt/conda/lib/python3.9/site-packages/nltk/tokenize/__init__.py\u001b[0m in \u001b[0;36mword_tokenize\u001b[0;34m(text, language, preserve_line)\u001b[0m\n\u001b[1;32m    127\u001b[0m     \u001b[0;34m:\u001b[0m\u001b[0mtype\u001b[0m \u001b[0mpreserve_line\u001b[0m\u001b[0;34m:\u001b[0m \u001b[0mbool\u001b[0m\u001b[0;34m\u001b[0m\u001b[0;34m\u001b[0m\u001b[0m\n\u001b[1;32m    128\u001b[0m     \"\"\"\n\u001b[0;32m--> 129\u001b[0;31m     \u001b[0msentences\u001b[0m \u001b[0;34m=\u001b[0m \u001b[0;34m[\u001b[0m\u001b[0mtext\u001b[0m\u001b[0;34m]\u001b[0m \u001b[0;32mif\u001b[0m \u001b[0mpreserve_line\u001b[0m \u001b[0;32melse\u001b[0m \u001b[0msent_tokenize\u001b[0m\u001b[0;34m(\u001b[0m\u001b[0mtext\u001b[0m\u001b[0;34m,\u001b[0m \u001b[0mlanguage\u001b[0m\u001b[0;34m)\u001b[0m\u001b[0;34m\u001b[0m\u001b[0;34m\u001b[0m\u001b[0m\n\u001b[0m\u001b[1;32m    130\u001b[0m     return [\n\u001b[1;32m    131\u001b[0m         \u001b[0mtoken\u001b[0m \u001b[0;32mfor\u001b[0m \u001b[0msent\u001b[0m \u001b[0;32min\u001b[0m \u001b[0msentences\u001b[0m \u001b[0;32mfor\u001b[0m \u001b[0mtoken\u001b[0m \u001b[0;32min\u001b[0m \u001b[0m_treebank_word_tokenizer\u001b[0m\u001b[0;34m.\u001b[0m\u001b[0mtokenize\u001b[0m\u001b[0;34m(\u001b[0m\u001b[0msent\u001b[0m\u001b[0;34m)\u001b[0m\u001b[0;34m\u001b[0m\u001b[0;34m\u001b[0m\u001b[0m\n",
      "\u001b[0;32m/opt/conda/lib/python3.9/site-packages/nltk/tokenize/__init__.py\u001b[0m in \u001b[0;36msent_tokenize\u001b[0;34m(text, language)\u001b[0m\n\u001b[1;32m    104\u001b[0m     \u001b[0;34m:\u001b[0m\u001b[0mparam\u001b[0m \u001b[0mlanguage\u001b[0m\u001b[0;34m:\u001b[0m \u001b[0mthe\u001b[0m \u001b[0mmodel\u001b[0m \u001b[0mname\u001b[0m \u001b[0;32min\u001b[0m \u001b[0mthe\u001b[0m \u001b[0mPunkt\u001b[0m \u001b[0mcorpus\u001b[0m\u001b[0;34m\u001b[0m\u001b[0;34m\u001b[0m\u001b[0m\n\u001b[1;32m    105\u001b[0m     \"\"\"\n\u001b[0;32m--> 106\u001b[0;31m     \u001b[0mtokenizer\u001b[0m \u001b[0;34m=\u001b[0m \u001b[0mload\u001b[0m\u001b[0;34m(\u001b[0m\u001b[0;34mf\"tokenizers/punkt/{language}.pickle\"\u001b[0m\u001b[0;34m)\u001b[0m\u001b[0;34m\u001b[0m\u001b[0;34m\u001b[0m\u001b[0m\n\u001b[0m\u001b[1;32m    107\u001b[0m     \u001b[0;32mreturn\u001b[0m \u001b[0mtokenizer\u001b[0m\u001b[0;34m.\u001b[0m\u001b[0mtokenize\u001b[0m\u001b[0;34m(\u001b[0m\u001b[0mtext\u001b[0m\u001b[0;34m)\u001b[0m\u001b[0;34m\u001b[0m\u001b[0;34m\u001b[0m\u001b[0m\n\u001b[1;32m    108\u001b[0m \u001b[0;34m\u001b[0m\u001b[0m\n",
      "\u001b[0;32m/opt/conda/lib/python3.9/site-packages/nltk/data.py\u001b[0m in \u001b[0;36mload\u001b[0;34m(resource_url, format, cache, verbose, logic_parser, fstruct_reader, encoding)\u001b[0m\n\u001b[1;32m    748\u001b[0m \u001b[0;34m\u001b[0m\u001b[0m\n\u001b[1;32m    749\u001b[0m     \u001b[0;31m# Load the resource.\u001b[0m\u001b[0;34m\u001b[0m\u001b[0;34m\u001b[0m\u001b[0m\n\u001b[0;32m--> 750\u001b[0;31m     \u001b[0mopened_resource\u001b[0m \u001b[0;34m=\u001b[0m \u001b[0m_open\u001b[0m\u001b[0;34m(\u001b[0m\u001b[0mresource_url\u001b[0m\u001b[0;34m)\u001b[0m\u001b[0;34m\u001b[0m\u001b[0;34m\u001b[0m\u001b[0m\n\u001b[0m\u001b[1;32m    751\u001b[0m \u001b[0;34m\u001b[0m\u001b[0m\n\u001b[1;32m    752\u001b[0m     \u001b[0;32mif\u001b[0m \u001b[0mformat\u001b[0m \u001b[0;34m==\u001b[0m \u001b[0;34m\"raw\"\u001b[0m\u001b[0;34m:\u001b[0m\u001b[0;34m\u001b[0m\u001b[0;34m\u001b[0m\u001b[0m\n",
      "\u001b[0;32m/opt/conda/lib/python3.9/site-packages/nltk/data.py\u001b[0m in \u001b[0;36m_open\u001b[0;34m(resource_url)\u001b[0m\n\u001b[1;32m    874\u001b[0m \u001b[0;34m\u001b[0m\u001b[0m\n\u001b[1;32m    875\u001b[0m     \u001b[0;32mif\u001b[0m \u001b[0mprotocol\u001b[0m \u001b[0;32mis\u001b[0m \u001b[0;32mNone\u001b[0m \u001b[0;32mor\u001b[0m \u001b[0mprotocol\u001b[0m\u001b[0;34m.\u001b[0m\u001b[0mlower\u001b[0m\u001b[0;34m(\u001b[0m\u001b[0;34m)\u001b[0m \u001b[0;34m==\u001b[0m \u001b[0;34m\"nltk\"\u001b[0m\u001b[0;34m:\u001b[0m\u001b[0;34m\u001b[0m\u001b[0;34m\u001b[0m\u001b[0m\n\u001b[0;32m--> 876\u001b[0;31m         \u001b[0;32mreturn\u001b[0m \u001b[0mfind\u001b[0m\u001b[0;34m(\u001b[0m\u001b[0mpath_\u001b[0m\u001b[0;34m,\u001b[0m \u001b[0mpath\u001b[0m \u001b[0;34m+\u001b[0m \u001b[0;34m[\u001b[0m\u001b[0;34m\"\"\u001b[0m\u001b[0;34m]\u001b[0m\u001b[0;34m)\u001b[0m\u001b[0;34m.\u001b[0m\u001b[0mopen\u001b[0m\u001b[0;34m(\u001b[0m\u001b[0;34m)\u001b[0m\u001b[0;34m\u001b[0m\u001b[0;34m\u001b[0m\u001b[0m\n\u001b[0m\u001b[1;32m    877\u001b[0m     \u001b[0;32melif\u001b[0m \u001b[0mprotocol\u001b[0m\u001b[0;34m.\u001b[0m\u001b[0mlower\u001b[0m\u001b[0;34m(\u001b[0m\u001b[0;34m)\u001b[0m \u001b[0;34m==\u001b[0m \u001b[0;34m\"file\"\u001b[0m\u001b[0;34m:\u001b[0m\u001b[0;34m\u001b[0m\u001b[0;34m\u001b[0m\u001b[0m\n\u001b[1;32m    878\u001b[0m         \u001b[0;31m# urllib might not use mode='rb', so handle this one ourselves:\u001b[0m\u001b[0;34m\u001b[0m\u001b[0;34m\u001b[0m\u001b[0m\n",
      "\u001b[0;32m/opt/conda/lib/python3.9/site-packages/nltk/data.py\u001b[0m in \u001b[0;36mfind\u001b[0;34m(resource_name, paths)\u001b[0m\n\u001b[1;32m    581\u001b[0m     \u001b[0msep\u001b[0m \u001b[0;34m=\u001b[0m \u001b[0;34m\"*\"\u001b[0m \u001b[0;34m*\u001b[0m \u001b[0;36m70\u001b[0m\u001b[0;34m\u001b[0m\u001b[0;34m\u001b[0m\u001b[0m\n\u001b[1;32m    582\u001b[0m     \u001b[0mresource_not_found\u001b[0m \u001b[0;34m=\u001b[0m \u001b[0;34mf\"\\n{sep}\\n{msg}\\n{sep}\\n\"\u001b[0m\u001b[0;34m\u001b[0m\u001b[0;34m\u001b[0m\u001b[0m\n\u001b[0;32m--> 583\u001b[0;31m     \u001b[0;32mraise\u001b[0m \u001b[0mLookupError\u001b[0m\u001b[0;34m(\u001b[0m\u001b[0mresource_not_found\u001b[0m\u001b[0;34m)\u001b[0m\u001b[0;34m\u001b[0m\u001b[0;34m\u001b[0m\u001b[0m\n\u001b[0m\u001b[1;32m    584\u001b[0m \u001b[0;34m\u001b[0m\u001b[0m\n\u001b[1;32m    585\u001b[0m \u001b[0;34m\u001b[0m\u001b[0m\n",
      "\u001b[0;31mLookupError\u001b[0m: \n**********************************************************************\n  Resource \u001b[93mpunkt\u001b[0m not found.\n  Please use the NLTK Downloader to obtain the resource:\n\n  \u001b[31m>>> import nltk\n  >>> nltk.download('punkt')\n  \u001b[0m\n  For more information see: https://www.nltk.org/data.html\n\n  Attempted to load \u001b[93mtokenizers/punkt/PY3/english.pickle\u001b[0m\n\n  Searched in:\n    - '/home/vscode/nltk_data'\n    - '/opt/conda/nltk_data'\n    - '/opt/conda/share/nltk_data'\n    - '/opt/conda/lib/nltk_data'\n    - '/usr/share/nltk_data'\n    - '/usr/local/share/nltk_data'\n    - '/usr/lib/nltk_data'\n    - '/usr/local/lib/nltk_data'\n    - ''\n**********************************************************************\n"
     ]
    }
   ],
   "source": [
    "sentence = 'Hello There my name is hend. What is your name?'\n",
    "toekns = nltk.word_tokenize(sentence)"
   ]
  },
  {
   "cell_type": "code",
   "execution_count": 149,
   "metadata": {},
   "outputs": [
    {
     "ename": "LookupError",
     "evalue": "\n**********************************************************************\n  Resource \u001b[93mpunkt\u001b[0m not found.\n  Please use the NLTK Downloader to obtain the resource:\n\n  \u001b[31m>>> import nltk\n  >>> nltk.download('punkt')\n  \u001b[0m\n  For more information see: https://www.nltk.org/data.html\n\n  Attempted to load \u001b[93mtokenizers/punkt/PY3/english.pickle\u001b[0m\n\n  Searched in:\n    - '/home/vscode/nltk_data'\n    - '/opt/conda/nltk_data'\n    - '/opt/conda/share/nltk_data'\n    - '/opt/conda/lib/nltk_data'\n    - '/usr/share/nltk_data'\n    - '/usr/local/share/nltk_data'\n    - '/usr/lib/nltk_data'\n    - '/usr/local/lib/nltk_data'\n    - ''\n**********************************************************************\n",
     "output_type": "error",
     "traceback": [
      "\u001b[0;31m---------------------------------------------------------------------------\u001b[0m",
      "\u001b[0;31mLookupError\u001b[0m                               Traceback (most recent call last)",
      "\u001b[0;32m/tmp/ipykernel_1052/1623878013.py\u001b[0m in \u001b[0;36m<module>\u001b[0;34m\u001b[0m\n\u001b[0;32m----> 1\u001b[0;31m \u001b[0mdf\u001b[0m\u001b[0;34m[\u001b[0m\u001b[0;34m'tokenized_reviews'\u001b[0m\u001b[0;34m]\u001b[0m \u001b[0;34m=\u001b[0m \u001b[0mdf\u001b[0m\u001b[0;34m[\u001b[0m\u001b[0;34m'reviews'\u001b[0m\u001b[0;34m]\u001b[0m\u001b[0;34m.\u001b[0m\u001b[0mapply\u001b[0m\u001b[0;34m(\u001b[0m\u001b[0mword_tokenize\u001b[0m\u001b[0;34m)\u001b[0m\u001b[0;34m\u001b[0m\u001b[0;34m\u001b[0m\u001b[0m\n\u001b[0m\u001b[1;32m      2\u001b[0m \u001b[0;31m#I must read\u001b[0m\u001b[0;34m\u001b[0m\u001b[0;34m\u001b[0m\u001b[0m\n",
      "\u001b[0;32m/opt/conda/lib/python3.9/site-packages/pandas/core/series.py\u001b[0m in \u001b[0;36mapply\u001b[0;34m(self, func, convert_dtype, args, **kwargs)\u001b[0m\n\u001b[1;32m   4355\u001b[0m         \u001b[0mdtype\u001b[0m\u001b[0;34m:\u001b[0m \u001b[0mfloat64\u001b[0m\u001b[0;34m\u001b[0m\u001b[0;34m\u001b[0m\u001b[0m\n\u001b[1;32m   4356\u001b[0m         \"\"\"\n\u001b[0;32m-> 4357\u001b[0;31m         \u001b[0;32mreturn\u001b[0m \u001b[0mSeriesApply\u001b[0m\u001b[0;34m(\u001b[0m\u001b[0mself\u001b[0m\u001b[0;34m,\u001b[0m \u001b[0mfunc\u001b[0m\u001b[0;34m,\u001b[0m \u001b[0mconvert_dtype\u001b[0m\u001b[0;34m,\u001b[0m \u001b[0margs\u001b[0m\u001b[0;34m,\u001b[0m \u001b[0mkwargs\u001b[0m\u001b[0;34m)\u001b[0m\u001b[0;34m.\u001b[0m\u001b[0mapply\u001b[0m\u001b[0;34m(\u001b[0m\u001b[0;34m)\u001b[0m\u001b[0;34m\u001b[0m\u001b[0;34m\u001b[0m\u001b[0m\n\u001b[0m\u001b[1;32m   4358\u001b[0m \u001b[0;34m\u001b[0m\u001b[0m\n\u001b[1;32m   4359\u001b[0m     def _reduce(\n",
      "\u001b[0;32m/opt/conda/lib/python3.9/site-packages/pandas/core/apply.py\u001b[0m in \u001b[0;36mapply\u001b[0;34m(self)\u001b[0m\n\u001b[1;32m   1041\u001b[0m             \u001b[0;32mreturn\u001b[0m \u001b[0mself\u001b[0m\u001b[0;34m.\u001b[0m\u001b[0mapply_str\u001b[0m\u001b[0;34m(\u001b[0m\u001b[0;34m)\u001b[0m\u001b[0;34m\u001b[0m\u001b[0;34m\u001b[0m\u001b[0m\n\u001b[1;32m   1042\u001b[0m \u001b[0;34m\u001b[0m\u001b[0m\n\u001b[0;32m-> 1043\u001b[0;31m         \u001b[0;32mreturn\u001b[0m \u001b[0mself\u001b[0m\u001b[0;34m.\u001b[0m\u001b[0mapply_standard\u001b[0m\u001b[0;34m(\u001b[0m\u001b[0;34m)\u001b[0m\u001b[0;34m\u001b[0m\u001b[0;34m\u001b[0m\u001b[0m\n\u001b[0m\u001b[1;32m   1044\u001b[0m \u001b[0;34m\u001b[0m\u001b[0m\n\u001b[1;32m   1045\u001b[0m     \u001b[0;32mdef\u001b[0m \u001b[0magg\u001b[0m\u001b[0;34m(\u001b[0m\u001b[0mself\u001b[0m\u001b[0;34m)\u001b[0m\u001b[0;34m:\u001b[0m\u001b[0;34m\u001b[0m\u001b[0;34m\u001b[0m\u001b[0m\n",
      "\u001b[0;32m/opt/conda/lib/python3.9/site-packages/pandas/core/apply.py\u001b[0m in \u001b[0;36mapply_standard\u001b[0;34m(self)\u001b[0m\n\u001b[1;32m   1096\u001b[0m                 \u001b[0;31m# List[Union[Callable[..., Any], str]]]]]\"; expected\u001b[0m\u001b[0;34m\u001b[0m\u001b[0;34m\u001b[0m\u001b[0m\n\u001b[1;32m   1097\u001b[0m                 \u001b[0;31m# \"Callable[[Any], Any]\"\u001b[0m\u001b[0;34m\u001b[0m\u001b[0;34m\u001b[0m\u001b[0m\n\u001b[0;32m-> 1098\u001b[0;31m                 mapped = lib.map_infer(\n\u001b[0m\u001b[1;32m   1099\u001b[0m                     \u001b[0mvalues\u001b[0m\u001b[0;34m,\u001b[0m\u001b[0;34m\u001b[0m\u001b[0;34m\u001b[0m\u001b[0m\n\u001b[1;32m   1100\u001b[0m                     \u001b[0mf\u001b[0m\u001b[0;34m,\u001b[0m  \u001b[0;31m# type: ignore[arg-type]\u001b[0m\u001b[0;34m\u001b[0m\u001b[0;34m\u001b[0m\u001b[0m\n",
      "\u001b[0;32m/opt/conda/lib/python3.9/site-packages/pandas/_libs/lib.pyx\u001b[0m in \u001b[0;36mpandas._libs.lib.map_infer\u001b[0;34m()\u001b[0m\n",
      "\u001b[0;32m/opt/conda/lib/python3.9/site-packages/nltk/tokenize/__init__.py\u001b[0m in \u001b[0;36mword_tokenize\u001b[0;34m(text, language, preserve_line)\u001b[0m\n\u001b[1;32m    127\u001b[0m     \u001b[0;34m:\u001b[0m\u001b[0mtype\u001b[0m \u001b[0mpreserve_line\u001b[0m\u001b[0;34m:\u001b[0m \u001b[0mbool\u001b[0m\u001b[0;34m\u001b[0m\u001b[0;34m\u001b[0m\u001b[0m\n\u001b[1;32m    128\u001b[0m     \"\"\"\n\u001b[0;32m--> 129\u001b[0;31m     \u001b[0msentences\u001b[0m \u001b[0;34m=\u001b[0m \u001b[0;34m[\u001b[0m\u001b[0mtext\u001b[0m\u001b[0;34m]\u001b[0m \u001b[0;32mif\u001b[0m \u001b[0mpreserve_line\u001b[0m \u001b[0;32melse\u001b[0m \u001b[0msent_tokenize\u001b[0m\u001b[0;34m(\u001b[0m\u001b[0mtext\u001b[0m\u001b[0;34m,\u001b[0m \u001b[0mlanguage\u001b[0m\u001b[0;34m)\u001b[0m\u001b[0;34m\u001b[0m\u001b[0;34m\u001b[0m\u001b[0m\n\u001b[0m\u001b[1;32m    130\u001b[0m     return [\n\u001b[1;32m    131\u001b[0m         \u001b[0mtoken\u001b[0m \u001b[0;32mfor\u001b[0m \u001b[0msent\u001b[0m \u001b[0;32min\u001b[0m \u001b[0msentences\u001b[0m \u001b[0;32mfor\u001b[0m \u001b[0mtoken\u001b[0m \u001b[0;32min\u001b[0m \u001b[0m_treebank_word_tokenizer\u001b[0m\u001b[0;34m.\u001b[0m\u001b[0mtokenize\u001b[0m\u001b[0;34m(\u001b[0m\u001b[0msent\u001b[0m\u001b[0;34m)\u001b[0m\u001b[0;34m\u001b[0m\u001b[0;34m\u001b[0m\u001b[0m\n",
      "\u001b[0;32m/opt/conda/lib/python3.9/site-packages/nltk/tokenize/__init__.py\u001b[0m in \u001b[0;36msent_tokenize\u001b[0;34m(text, language)\u001b[0m\n\u001b[1;32m    104\u001b[0m     \u001b[0;34m:\u001b[0m\u001b[0mparam\u001b[0m \u001b[0mlanguage\u001b[0m\u001b[0;34m:\u001b[0m \u001b[0mthe\u001b[0m \u001b[0mmodel\u001b[0m \u001b[0mname\u001b[0m \u001b[0;32min\u001b[0m \u001b[0mthe\u001b[0m \u001b[0mPunkt\u001b[0m \u001b[0mcorpus\u001b[0m\u001b[0;34m\u001b[0m\u001b[0;34m\u001b[0m\u001b[0m\n\u001b[1;32m    105\u001b[0m     \"\"\"\n\u001b[0;32m--> 106\u001b[0;31m     \u001b[0mtokenizer\u001b[0m \u001b[0;34m=\u001b[0m \u001b[0mload\u001b[0m\u001b[0;34m(\u001b[0m\u001b[0;34mf\"tokenizers/punkt/{language}.pickle\"\u001b[0m\u001b[0;34m)\u001b[0m\u001b[0;34m\u001b[0m\u001b[0;34m\u001b[0m\u001b[0m\n\u001b[0m\u001b[1;32m    107\u001b[0m     \u001b[0;32mreturn\u001b[0m \u001b[0mtokenizer\u001b[0m\u001b[0;34m.\u001b[0m\u001b[0mtokenize\u001b[0m\u001b[0;34m(\u001b[0m\u001b[0mtext\u001b[0m\u001b[0;34m)\u001b[0m\u001b[0;34m\u001b[0m\u001b[0;34m\u001b[0m\u001b[0m\n\u001b[1;32m    108\u001b[0m \u001b[0;34m\u001b[0m\u001b[0m\n",
      "\u001b[0;32m/opt/conda/lib/python3.9/site-packages/nltk/data.py\u001b[0m in \u001b[0;36mload\u001b[0;34m(resource_url, format, cache, verbose, logic_parser, fstruct_reader, encoding)\u001b[0m\n\u001b[1;32m    748\u001b[0m \u001b[0;34m\u001b[0m\u001b[0m\n\u001b[1;32m    749\u001b[0m     \u001b[0;31m# Load the resource.\u001b[0m\u001b[0;34m\u001b[0m\u001b[0;34m\u001b[0m\u001b[0m\n\u001b[0;32m--> 750\u001b[0;31m     \u001b[0mopened_resource\u001b[0m \u001b[0;34m=\u001b[0m \u001b[0m_open\u001b[0m\u001b[0;34m(\u001b[0m\u001b[0mresource_url\u001b[0m\u001b[0;34m)\u001b[0m\u001b[0;34m\u001b[0m\u001b[0;34m\u001b[0m\u001b[0m\n\u001b[0m\u001b[1;32m    751\u001b[0m \u001b[0;34m\u001b[0m\u001b[0m\n\u001b[1;32m    752\u001b[0m     \u001b[0;32mif\u001b[0m \u001b[0mformat\u001b[0m \u001b[0;34m==\u001b[0m \u001b[0;34m\"raw\"\u001b[0m\u001b[0;34m:\u001b[0m\u001b[0;34m\u001b[0m\u001b[0;34m\u001b[0m\u001b[0m\n",
      "\u001b[0;32m/opt/conda/lib/python3.9/site-packages/nltk/data.py\u001b[0m in \u001b[0;36m_open\u001b[0;34m(resource_url)\u001b[0m\n\u001b[1;32m    874\u001b[0m \u001b[0;34m\u001b[0m\u001b[0m\n\u001b[1;32m    875\u001b[0m     \u001b[0;32mif\u001b[0m \u001b[0mprotocol\u001b[0m \u001b[0;32mis\u001b[0m \u001b[0;32mNone\u001b[0m \u001b[0;32mor\u001b[0m \u001b[0mprotocol\u001b[0m\u001b[0;34m.\u001b[0m\u001b[0mlower\u001b[0m\u001b[0;34m(\u001b[0m\u001b[0;34m)\u001b[0m \u001b[0;34m==\u001b[0m \u001b[0;34m\"nltk\"\u001b[0m\u001b[0;34m:\u001b[0m\u001b[0;34m\u001b[0m\u001b[0;34m\u001b[0m\u001b[0m\n\u001b[0;32m--> 876\u001b[0;31m         \u001b[0;32mreturn\u001b[0m \u001b[0mfind\u001b[0m\u001b[0;34m(\u001b[0m\u001b[0mpath_\u001b[0m\u001b[0;34m,\u001b[0m \u001b[0mpath\u001b[0m \u001b[0;34m+\u001b[0m \u001b[0;34m[\u001b[0m\u001b[0;34m\"\"\u001b[0m\u001b[0;34m]\u001b[0m\u001b[0;34m)\u001b[0m\u001b[0;34m.\u001b[0m\u001b[0mopen\u001b[0m\u001b[0;34m(\u001b[0m\u001b[0;34m)\u001b[0m\u001b[0;34m\u001b[0m\u001b[0;34m\u001b[0m\u001b[0m\n\u001b[0m\u001b[1;32m    877\u001b[0m     \u001b[0;32melif\u001b[0m \u001b[0mprotocol\u001b[0m\u001b[0;34m.\u001b[0m\u001b[0mlower\u001b[0m\u001b[0;34m(\u001b[0m\u001b[0;34m)\u001b[0m \u001b[0;34m==\u001b[0m \u001b[0;34m\"file\"\u001b[0m\u001b[0;34m:\u001b[0m\u001b[0;34m\u001b[0m\u001b[0;34m\u001b[0m\u001b[0m\n\u001b[1;32m    878\u001b[0m         \u001b[0;31m# urllib might not use mode='rb', so handle this one ourselves:\u001b[0m\u001b[0;34m\u001b[0m\u001b[0;34m\u001b[0m\u001b[0m\n",
      "\u001b[0;32m/opt/conda/lib/python3.9/site-packages/nltk/data.py\u001b[0m in \u001b[0;36mfind\u001b[0;34m(resource_name, paths)\u001b[0m\n\u001b[1;32m    581\u001b[0m     \u001b[0msep\u001b[0m \u001b[0;34m=\u001b[0m \u001b[0;34m\"*\"\u001b[0m \u001b[0;34m*\u001b[0m \u001b[0;36m70\u001b[0m\u001b[0;34m\u001b[0m\u001b[0;34m\u001b[0m\u001b[0m\n\u001b[1;32m    582\u001b[0m     \u001b[0mresource_not_found\u001b[0m \u001b[0;34m=\u001b[0m \u001b[0;34mf\"\\n{sep}\\n{msg}\\n{sep}\\n\"\u001b[0m\u001b[0;34m\u001b[0m\u001b[0;34m\u001b[0m\u001b[0m\n\u001b[0;32m--> 583\u001b[0;31m     \u001b[0;32mraise\u001b[0m \u001b[0mLookupError\u001b[0m\u001b[0;34m(\u001b[0m\u001b[0mresource_not_found\u001b[0m\u001b[0;34m)\u001b[0m\u001b[0;34m\u001b[0m\u001b[0;34m\u001b[0m\u001b[0m\n\u001b[0m\u001b[1;32m    584\u001b[0m \u001b[0;34m\u001b[0m\u001b[0m\n\u001b[1;32m    585\u001b[0m \u001b[0;34m\u001b[0m\u001b[0m\n",
      "\u001b[0;31mLookupError\u001b[0m: \n**********************************************************************\n  Resource \u001b[93mpunkt\u001b[0m not found.\n  Please use the NLTK Downloader to obtain the resource:\n\n  \u001b[31m>>> import nltk\n  >>> nltk.download('punkt')\n  \u001b[0m\n  For more information see: https://www.nltk.org/data.html\n\n  Attempted to load \u001b[93mtokenizers/punkt/PY3/english.pickle\u001b[0m\n\n  Searched in:\n    - '/home/vscode/nltk_data'\n    - '/opt/conda/nltk_data'\n    - '/opt/conda/share/nltk_data'\n    - '/opt/conda/lib/nltk_data'\n    - '/usr/share/nltk_data'\n    - '/usr/local/share/nltk_data'\n    - '/usr/lib/nltk_data'\n    - '/usr/local/lib/nltk_data'\n    - ''\n**********************************************************************\n"
     ]
    }
   ],
   "source": [
    "df['tokenized_reviews'] = df['reviews'].apply(word_tokenize)\n",
    "#I must read "
   ]
  },
  {
   "cell_type": "code",
   "execution_count": 7,
   "metadata": {},
   "outputs": [
    {
     "data": {
      "text/html": [
       "<div>\n",
       "<style scoped>\n",
       "    .dataframe tbody tr th:only-of-type {\n",
       "        vertical-align: middle;\n",
       "    }\n",
       "\n",
       "    .dataframe tbody tr th {\n",
       "        vertical-align: top;\n",
       "    }\n",
       "\n",
       "    .dataframe thead th {\n",
       "        text-align: right;\n",
       "    }\n",
       "</style>\n",
       "<table border=\"1\" class=\"dataframe\">\n",
       "  <thead>\n",
       "    <tr style=\"text-align: right;\">\n",
       "      <th></th>\n",
       "      <th>product_name</th>\n",
       "      <th>attr</th>\n",
       "      <th>scores</th>\n",
       "      <th>review_title</th>\n",
       "      <th>reviews</th>\n",
       "    </tr>\n",
       "  </thead>\n",
       "  <tbody>\n",
       "    <tr>\n",
       "      <th>27843</th>\n",
       "      <td>Hanes Ultimate Men's 5-Pack Tagless ComfortSof...</td>\n",
       "      <td>NaN</td>\n",
       "      <td>5.0 out of 5 stars</td>\n",
       "      <td>\\nBest value undershirt!\\n</td>\n",
       "      <td>&lt;span class=\"a-size-base review-text review-te...</td>\n",
       "    </tr>\n",
       "    <tr>\n",
       "      <th>4559</th>\n",
       "      <td>Fruit of the Loom Men's Stay Tucked Crew T-Shirt</td>\n",
       "      <td>NaN</td>\n",
       "      <td>5.0 out of 5 stars</td>\n",
       "      <td>\\nFinally a shirt that doesn't shrink to the p...</td>\n",
       "      <td>&lt;span class=\"a-size-base review-text review-te...</td>\n",
       "    </tr>\n",
       "    <tr>\n",
       "      <th>12748</th>\n",
       "      <td>Hanes Men's Beefy Heavyweight Short Sleeve T-S...</td>\n",
       "      <td>NaN</td>\n",
       "      <td>2.0 out of 5 stars</td>\n",
       "      <td>\\nOdd fit between neck and right shoulder.\\n</td>\n",
       "      <td>&lt;span class=\"a-size-base review-text review-te...</td>\n",
       "    </tr>\n",
       "    <tr>\n",
       "      <th>18668</th>\n",
       "      <td>Amazon Essentials Women's 2-Pack V-Neck Classi...</td>\n",
       "      <td>NaN</td>\n",
       "      <td>5.0 out of 5 stars</td>\n",
       "      <td>\\nSo nice!\\n</td>\n",
       "      <td>&lt;span class=\"a-size-base review-text review-te...</td>\n",
       "    </tr>\n",
       "    <tr>\n",
       "      <th>28981</th>\n",
       "      <td>Gildan Men's DryBlend T-Shirt, Style G8000, 2-...</td>\n",
       "      <td>NaN</td>\n",
       "      <td>5.0 out of 5 stars</td>\n",
       "      <td>\\nGood shirts. Great value. Very happy\\n</td>\n",
       "      <td>&lt;span class=\"a-size-base review-text review-te...</td>\n",
       "    </tr>\n",
       "  </tbody>\n",
       "</table>\n",
       "</div>"
      ],
      "text/plain": [
       "                                            product_name  attr  \\\n",
       "27843  Hanes Ultimate Men's 5-Pack Tagless ComfortSof...   NaN   \n",
       "4559    Fruit of the Loom Men's Stay Tucked Crew T-Shirt   NaN   \n",
       "12748  Hanes Men's Beefy Heavyweight Short Sleeve T-S...   NaN   \n",
       "18668  Amazon Essentials Women's 2-Pack V-Neck Classi...   NaN   \n",
       "28981  Gildan Men's DryBlend T-Shirt, Style G8000, 2-...   NaN   \n",
       "\n",
       "                   scores                                       review_title  \\\n",
       "27843  5.0 out of 5 stars                         \\nBest value undershirt!\\n   \n",
       "4559   5.0 out of 5 stars  \\nFinally a shirt that doesn't shrink to the p...   \n",
       "12748  2.0 out of 5 stars       \\nOdd fit between neck and right shoulder.\\n   \n",
       "18668  5.0 out of 5 stars                                       \\nSo nice!\\n   \n",
       "28981  5.0 out of 5 stars           \\nGood shirts. Great value. Very happy\\n   \n",
       "\n",
       "                                                 reviews  \n",
       "27843  <span class=\"a-size-base review-text review-te...  \n",
       "4559   <span class=\"a-size-base review-text review-te...  \n",
       "12748  <span class=\"a-size-base review-text review-te...  \n",
       "18668  <span class=\"a-size-base review-text review-te...  \n",
       "28981  <span class=\"a-size-base review-text review-te...  "
      ]
     },
     "execution_count": 7,
     "metadata": {},
     "output_type": "execute_result"
    }
   ],
   "source": [
    "df.sample(5)"
   ]
  },
  {
   "cell_type": "code",
   "execution_count": null,
   "metadata": {},
   "outputs": [],
   "source": []
  }
 ],
 "metadata": {
  "interpreter": {
   "hash": "d4d1e4263499bec80672ea0156c357c1ee493ec2b1c70f0acce89fc37c4a6abe"
  },
  "kernelspec": {
   "display_name": "Python 3.9.7 ('base')",
   "language": "python",
   "name": "python3"
  },
  "language_info": {
   "codemirror_mode": {
    "name": "ipython",
    "version": 3
   },
   "file_extension": ".py",
   "mimetype": "text/x-python",
   "name": "python",
   "nbconvert_exporter": "python",
   "pygments_lexer": "ipython3",
   "version": "3.9.7"
  },
  "orig_nbformat": 4
 },
 "nbformat": 4,
 "nbformat_minor": 2
}
