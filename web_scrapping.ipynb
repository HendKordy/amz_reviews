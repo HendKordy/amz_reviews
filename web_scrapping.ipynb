{
  "nbformat": 4,
  "nbformat_minor": 0,
  "metadata": {
    "colab": {
      "name": "web_scrapping.ipynb",
      "provenance": [],
      "authorship_tag": "ABX9TyO3rxosSGWY4SbOB4cxU0s8"
    },
    "kernelspec": {
      "name": "python3",
      "display_name": "Python 3"
    },
    "language_info": {
      "name": "python"
    }
  },
  "cells": [
    {
      "cell_type": "markdown",
      "source": [
        "### this code is from \"Worth Web Scrapping\" YouTube channel \n",
        "See tutorial for \n",
        "[Scraping Amazon Reviews using Python](https://www.youtube.com/watch?v=5secVgADRpA)"
      ],
      "metadata": {
        "id": "1nDOdWOUTAUF"
      }
    },
    {
      "cell_type": "code",
      "execution_count": null,
      "metadata": {
        "id": "GC46UeIwIYwz"
      },
      "outputs": [],
      "source": [
        "import pandas as pd\n",
        "import requests\n",
        "from bs4 import BeautifulSoup"
      ]
    },
    {
      "cell_type": "code",
      "source": [
        "search_query = \"t-shirt\"\n",
        "base_url = \"https://www.amazon.com/s?k=\""
      ],
      "metadata": {
        "id": "4Eag6qy6JoGK"
      },
      "execution_count": null,
      "outputs": []
    },
    {
      "cell_type": "code",
      "source": [
        "url = base_url+search_query\n",
        "url"
      ],
      "metadata": {
        "id": "-MSSuvxwKKAT"
      },
      "execution_count": null,
      "outputs": []
    },
    {
      "cell_type": "code",
      "source": [
        "header={'User-Agent': 'Mozilla/5.0 (Windows NT 10.0; Win64; x64) AppleWebKit/537.36 (KHTML, like Gecko) Chrome/77.0.3865.90 Safari/537.36','referer':'https://www.amazon.com/s?k=t-shirt&crid=SI7RFOQTLIZ4&sprefix=t-shir%2Caps%2C294&ref=nb_sb_noss'}"
      ],
      "metadata": {
        "id": "6xD-K0weKPC4"
      },
      "execution_count": null,
      "outputs": []
    },
    {
      "cell_type": "code",
      "source": [
        "search_response=requests.get(url,headers=header)"
      ],
      "metadata": {
        "id": "dmZP-1-QMrqR"
      },
      "execution_count": null,
      "outputs": []
    },
    {
      "cell_type": "code",
      "source": [
        "search_response.status_code"
      ],
      "metadata": {
        "id": "kEgvA2pxMxCN"
      },
      "execution_count": null,
      "outputs": []
    },
    {
      "cell_type": "code",
      "source": [
        "search_response.text"
      ],
      "metadata": {
        "id": "4IKpDxI2MzKG"
      },
      "execution_count": null,
      "outputs": []
    },
    {
      "cell_type": "code",
      "source": [
        "search_response.cookies"
      ],
      "metadata": {
        "id": "bDYfq0mwM54j"
      },
      "execution_count": null,
      "outputs": []
    },
    {
      "cell_type": "markdown",
      "source": [
        " ## function to get the content of the page of required query"
      ],
      "metadata": {
        "id": "dMlDUToWOGmS"
      }
    },
    {
      "cell_type": "code",
      "source": [
        "cookie={} # insert request cookies within{}\n",
        "def getAmazonSearch(search_query):\n",
        "    url=\"https://www.amazon.com/s?k=\"+search_query\n",
        "    print(url)\n",
        "    page=requests.get(url,headers=header)\n",
        "    if page.status_code==200:\n",
        "        return page\n",
        "    else:\n",
        "        return \"Error\""
      ],
      "metadata": {
        "id": "Q0jpDiNaNANF"
      },
      "execution_count": null,
      "outputs": []
    },
    {
      "cell_type": "code",
      "source": [
        "getAmazonSearch('pillow')"
      ],
      "metadata": {
        "id": "bgZGFuq9NoUR"
      },
      "execution_count": null,
      "outputs": []
    },
    {
      "cell_type": "markdown",
      "source": [
        "## function to get the contents of individual product pages using 'data-asin' number (unique identification number)"
      ],
      "metadata": {
        "id": "qw1DgYETOK3S"
      }
    },
    {
      "cell_type": "code",
      "source": [
        "def Searchasin(asin):\n",
        "    url=\"https://www.amazon.com/dp/\"+asin\n",
        "    print(url)\n",
        "    page=requests.get(url,cookies=cookie,headers=header)\n",
        "    if page.status_code==200:\n",
        "        return page\n",
        "    else:\n",
        "        return \"Error\""
      ],
      "metadata": {
        "id": "8ihQULUWNrm3"
      },
      "execution_count": null,
      "outputs": []
    },
    {
      "cell_type": "code",
      "source": [
        "Searchasin('B07YDYPVGF')"
      ],
      "metadata": {
        "id": "Bu_4Gq6hOets"
      },
      "execution_count": null,
      "outputs": []
    },
    {
      "cell_type": "markdown",
      "source": [
        "## function to pass on the link of 'see all reviews' and extract the content\n"
      ],
      "metadata": {
        "id": "8jEC3_ngOTEf"
      }
    },
    {
      "cell_type": "code",
      "source": [
        "def Searchreviews(review_link):\n",
        "    url=\"https://www.amazon.com\"+review_link\n",
        "    print(url)\n",
        "    page=requests.get(url,cookies=cookie,headers=header)\n",
        "    if page.status_code==200:\n",
        "        return page\n",
        "    else:\n",
        "        return \"Error\""
      ],
      "metadata": {
        "id": "WDwugq6JOT2U"
      },
      "execution_count": null,
      "outputs": []
    },
    {
      "cell_type": "markdown",
      "source": [
        "## First page product reviews extraction"
      ],
      "metadata": {
        "id": "A7UUlHzjP9Kt"
      }
    },
    {
      "cell_type": "code",
      "source": [
        "product_names=[]\n",
        "response=getAmazonSearch(search_query)\n",
        "soup=BeautifulSoup(response.content)\n",
        "for i in soup.findAll(\"span\",{'class':'a-size-base-plus a-color-base a-text-normal'}): # the tag which is common for all the names of products\n",
        "    product_names.append(i.text) #adding the product names to the list\n"
      ],
      "metadata": {
        "id": "EyGH48fvP8zP"
      },
      "execution_count": null,
      "outputs": []
    },
    {
      "cell_type": "code",
      "source": [
        "product_names"
      ],
      "metadata": {
        "id": "NcpmMLNSQMhw"
      },
      "execution_count": null,
      "outputs": []
    },
    {
      "cell_type": "code",
      "source": [
        "len(product_names)"
      ],
      "metadata": {
        "id": "rFKOKuLOQQzZ"
      },
      "execution_count": null,
      "outputs": []
    },
    {
      "cell_type": "markdown",
      "source": [
        "#### The method of extracting data-asin numbers are similar to that of product names. Only the tag details have to be changed in findall()\n"
      ],
      "metadata": {
        "id": "tHl4aAH_Qa8z"
      }
    },
    {
      "cell_type": "code",
      "source": [
        "data_asin=[]\n",
        "response=getAmazonSearch(search_query)\n",
        "soup=BeautifulSoup(response.content)\n",
        "for i in soup.findAll(\"div\",{'class':\"sg-col-4-of-12 s-result-item s-asin sg-col-4-of-16 sg-col s-widget-spacing-small sg-col-4-of-20\"}):\n",
        "    data_asin.append(i['data-asin'])\n"
      ],
      "metadata": {
        "id": "0wHorM-EQUoj"
      },
      "execution_count": null,
      "outputs": []
    },
    {
      "cell_type": "code",
      "source": [
        "response.status_code"
      ],
      "metadata": {
        "id": "8sTMmPKbQg22"
      },
      "execution_count": null,
      "outputs": []
    },
    {
      "cell_type": "code",
      "source": [
        "data_asin"
      ],
      "metadata": {
        "id": "dICW0utnQmGP"
      },
      "execution_count": null,
      "outputs": []
    },
    {
      "cell_type": "code",
      "source": [
        "len(data_asin)"
      ],
      "metadata": {
        "id": "gAi0YYSIQnJa"
      },
      "execution_count": null,
      "outputs": []
    },
    {
      "cell_type": "markdown",
      "source": [
        "#### By passing the data-asin numbers, we can extract the 'see all reviews' link for each product in the page"
      ],
      "metadata": {
        "id": "zZqZaQ6XS0Lr"
      }
    },
    {
      "cell_type": "code",
      "source": [
        "link=[]\n",
        "for i in range(len(data_asin)):\n",
        "    response=Searchasin(data_asin[i])\n",
        "    soup=BeautifulSoup(response.content)\n",
        "    for i in soup.findAll(\"a\",{'data-hook':\"see-all-reviews-link-foot\"}):\n",
        "        link.append(i['href'])"
      ],
      "metadata": {
        "id": "aWqsM7tWSpVO"
      },
      "execution_count": null,
      "outputs": []
    },
    {
      "cell_type": "code",
      "source": [
        "link\n"
      ],
      "metadata": {
        "id": "NQvMAkCXUT9k"
      },
      "execution_count": null,
      "outputs": []
    },
    {
      "cell_type": "markdown",
      "source": [
        "#### Now we have the 'see all review' links. Using this link along with a page number, we can extract the reviews in any number of pages for all the products"
      ],
      "metadata": {
        "id": "bhuMgFwfUJ9A"
      }
    },
    {
      "cell_type": "code",
      "source": [
        "reviews=[]\n",
        "for j in range(len(link)):\n",
        "    for k in range(100):\n",
        "        response=Searchreviews(link[j]+'&pageNumber='+str(k))\n",
        "        soup=BeautifulSoup(response.content)\n",
        "        for i in soup.findAll(\"span\",{'data-hook':\"review-body\"}):\n",
        "            reviews.append(i.text)"
      ],
      "metadata": {
        "id": "yAcW5-3CULB1"
      },
      "execution_count": null,
      "outputs": []
    },
    {
      "cell_type": "code",
      "source": [
        "reviews"
      ],
      "metadata": {
        "id": "xOaHFb68d97M"
      },
      "execution_count": null,
      "outputs": []
    },
    {
      "cell_type": "code",
      "source": [
        "len(reviews)"
      ],
      "metadata": {
        "id": "e8slQQTqd_5E"
      },
      "execution_count": null,
      "outputs": []
    },
    {
      "cell_type": "code",
      "source": [
        "rev={'reviews':reviews}"
      ],
      "metadata": {
        "id": "fwJ_v0V-eEMZ"
      },
      "execution_count": null,
      "outputs": []
    },
    {
      "cell_type": "code",
      "source": [
        "review_data=pd.DataFrame.from_dict(rev)\n"
      ],
      "metadata": {
        "id": "cLXNzABwf5Rc"
      },
      "execution_count": null,
      "outputs": []
    },
    {
      "cell_type": "code",
      "source": [
        "review_data.head(5)"
      ],
      "metadata": {
        "id": "N_7yrwtFf9bO"
      },
      "execution_count": null,
      "outputs": []
    },
    {
      "cell_type": "code",
      "source": [
        "review_data.to_csv('tshirt_reviews.csv', index = False) #converting the dataframe to a csv file so as to use it later for further analysis"
      ],
      "metadata": {
        "id": "ImNWw2Kdf_jT"
      },
      "execution_count": null,
      "outputs": []
    }
  ]
}