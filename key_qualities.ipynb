{
 "cells": [
  {
   "cell_type": "code",
   "execution_count": 1,
   "metadata": {},
   "outputs": [
    {
     "name": "stderr",
     "output_type": "stream",
     "text": [
      "[nltk_data] Downloading package words to /home/vscode/nltk_data...\n",
      "[nltk_data]   Package words is already up-to-date!\n"
     ]
    }
   ],
   "source": [
    "import pandas as pd\n",
    "import matplotlib.pyplot as plt\n",
    "import clean_reviews as clean\n",
    "import sklearn\n",
    "from nltk import bigrams\n",
    "import nltk\n",
    "from collections import Counter\n",
    "from nltk.corpus import wordnet as wn\n",
    "from nltk.corpus import stopwords\n",
    "from nltk.stem.wordnet import WordNetLemmatizer\n",
    "from nltk.stem import PorterStemmer\n",
    "from tqdm import tqdm\n",
    "import seaborn as sns\n",
    "tqdm.pandas()"
   ]
  },
  {
   "cell_type": "code",
   "execution_count": 2,
   "metadata": {},
   "outputs": [],
   "source": [
    "from nltk import ngrams"
   ]
  },
  {
   "cell_type": "code",
   "execution_count": 3,
   "metadata": {},
   "outputs": [],
   "source": [
    "df = pd.read_csv('./data/cleaned_reviews.csv')"
   ]
  },
  {
   "cell_type": "code",
   "execution_count": 4,
   "metadata": {},
   "outputs": [
    {
     "data": {
      "text/plain": [
       "Hanes          12806\n",
       "Gildan         10520\n",
       "Fruit           2940\n",
       "Amazon          2940\n",
       "Under           1964\n",
       "Champion        1952\n",
       "Russell          980\n",
       "5                980\n",
       "SOCKS'NBULK      980\n",
       "Dickies          980\n",
       "Comfort          980\n",
       "Carhartt         970\n",
       "Nautica          966\n",
       "Disney            88\n",
       "Nike               6\n",
       "Name: brand, dtype: int64"
      ]
     },
     "execution_count": 4,
     "metadata": {},
     "output_type": "execute_result"
    }
   ],
   "source": [
    "df.brand.value_counts()"
   ]
  },
  {
   "cell_type": "markdown",
   "metadata": {},
   "source": [
    "## We will take a look at Hanes brand since it is the highest in review_count"
   ]
  },
  {
   "cell_type": "code",
   "execution_count": 5,
   "metadata": {},
   "outputs": [],
   "source": [
    "#split Haned reviews into positive and negative\n",
    "Hanes_positive = df.loc[(df['brand'] == 'Hanes') & (df['rating'] == True)].copy()\n",
    "Hanes_negative = df.loc[(df['brand'] == 'Hanes') & (df['rating'] == False)].copy()\n"
   ]
  },
  {
   "cell_type": "code",
   "execution_count": 6,
   "metadata": {},
   "outputs": [],
   "source": [
    "convert_dict = {'review': str,\n",
    "\t\t\t\t'lemm' : str,\n",
    "                'stemmed' : str,\n",
    "                'stopped' : str\n",
    "               }\n",
    "Hanes_positive = Hanes_positive.astype(convert_dict)\n",
    "Hanes_negative = Hanes_negative.astype(convert_dict)"
   ]
  },
  {
   "cell_type": "code",
   "execution_count": 12,
   "metadata": {},
   "outputs": [],
   "source": [
    "#create a list of ngrams n = 2\n",
    "pos_ngrams = [x for x in Hanes_positive['stopped'] for x in ngrams(x.split(), n = 2)]\n",
    "c_pos = Counter(pos_ngrams)\n",
    "Hanes_top_positive = c_pos.most_common(15)\n",
    "\n",
    "neg_ngrams = [x for x in Hanes_negative['stopped'] for x in ngrams(x.split(), n = 2)]\n",
    "c_neg = Counter(neg_ngrams)\n",
    "Hanes_top_negative = c_neg.most_common(15)"
   ]
  },
  {
   "cell_type": "code",
   "execution_count": 13,
   "metadata": {},
   "outputs": [
    {
     "data": {
      "text/plain": [
       "[(('good', 'quality'), 251),\n",
       " (('not', 'too'), 174),\n",
       " (('great', 'price'), 165),\n",
       " (('great', 'shirt'), 164),\n",
       " (('size', 'up'), 125),\n",
       " (('soft', 'comfortable'), 119),\n",
       " (('nice', 'shirt'), 108),\n",
       " (('great', 'quality'), 105),\n",
       " (('buy', 'again'), 102),\n",
       " (('shirts', 'fit'), 99),\n",
       " (('great', 'value'), 99),\n",
       " (('fit', 'great'), 94),\n",
       " (('true', 'size'), 92),\n",
       " (('great', 'fit'), 92),\n",
       " (('hanes', 'shirts'), 90)]"
      ]
     },
     "execution_count": 13,
     "metadata": {},
     "output_type": "execute_result"
    }
   ],
   "source": [
    "Hanes_top_positive"
   ]
  },
  {
   "cell_type": "code",
   "execution_count": 14,
   "metadata": {},
   "outputs": [
    {
     "data": {
      "text/plain": [
       "[(('too', 'small'), 205),\n",
       " (('not', 'soft'), 152),\n",
       " (('hanes', 'shirts'), 142),\n",
       " (('poor', 'quality'), 131),\n",
       " (('not', 'buy'), 130),\n",
       " (('would', 'not'), 125),\n",
       " (('runs', 'small'), 119),\n",
       " (('shirts', 'not'), 115),\n",
       " (('size', 'up'), 115),\n",
       " (('way', 'too'), 113),\n",
       " (('shirt', 'not'), 98),\n",
       " (('first', 'wash'), 88),\n",
       " (('not', 'like'), 81),\n",
       " (('cold', 'water'), 81),\n",
       " (('not', 'good'), 76)]"
      ]
     },
     "execution_count": 14,
     "metadata": {},
     "output_type": "execute_result"
    }
   ],
   "source": [
    "Hanes_top_negative"
   ]
  },
  {
   "cell_type": "code",
   "execution_count": 10,
   "metadata": {},
   "outputs": [],
   "source": [
    "#create a list of ngrams n = 3\n",
    "pos_ngrams = [x for x in Hanes_positive['stopped'] for x in ngrams(x.split(), n = 3)]\n",
    "c_pos = Counter(pos_ngrams)\n",
    "Hanes_top_positive = c_pos.most_common(15)\n",
    "\n",
    "neg_ngrams = [x for x in Hanes_negative['stopped'] for x in ngrams(x.split(), n = 3)]\n",
    "c_neg = Counter(neg_ngrams)\n",
    "Hanes_top_negative = c_neg.most_common(15)"
   ]
  },
  {
   "cell_type": "code",
   "execution_count": 11,
   "metadata": {},
   "outputs": [
    {
     "data": {
      "text/plain": [
       "[(('would', 'buy', 'again'), 44),\n",
       " (('not', 'too', 'thin'), 30),\n",
       " (('one', 'size', 'up'), 29),\n",
       " (('Happy', 'face', 'smiley'), 28),\n",
       " (('shirt', 'great', 'price'), 25),\n",
       " (('wear', 'around', 'house'), 24),\n",
       " (('one', 'size', 'larger'), 22),\n",
       " (('order', 'size', 'up'), 22),\n",
       " (('not', 'too', 'thick'), 22),\n",
       " (('good', 'quality', 'shirt'), 22),\n",
       " (('not', 'too', 'tight'), 21),\n",
       " (('fits', 'true', 'size'), 20),\n",
       " (('hold', 'up', 'well'), 19),\n",
       " (('cannot', 'beat', 'price'), 19),\n",
       " (('shirts', 'fit', 'well'), 17)]"
      ]
     },
     "execution_count": 11,
     "metadata": {},
     "output_type": "execute_result"
    }
   ],
   "source": [
    "Hanes_top_positive"
   ]
  },
  {
   "cell_type": "code",
   "execution_count": 9,
   "metadata": {},
   "outputs": [
    {
     "data": {
      "text/plain": [
       "[(('not', 'buy', 'again'), 50),\n",
       " (('way', 'too', 'small'), 46),\n",
       " (('would', 'not', 'recommend'), 45),\n",
       " (('washed', 'cold', 'water'), 35),\n",
       " (('not', 'true', 'size'), 29),\n",
       " (('would', 'not', 'buy'), 28),\n",
       " (('one', 'size', 'up'), 22),\n",
       " (('not', 'waste', 'money'), 20),\n",
       " (('hanes', 'comfortsoft', 'shirts'), 18),\n",
       " (('wear', 'around', 'house'), 18),\n",
       " (('one', 'size', 'larger'), 18),\n",
       " (('comfort', 'soft', 'shirts'), 17),\n",
       " (('hanes', 'comfort', 'soft'), 17),\n",
       " (('order', 'one', 'size'), 17),\n",
       " (('not', 'comfort', 'soft'), 14)]"
      ]
     },
     "execution_count": 9,
     "metadata": {},
     "output_type": "execute_result"
    }
   ],
   "source": [
    "Hanes_top_negative"
   ]
  },
  {
   "cell_type": "code",
   "execution_count": 16,
   "metadata": {},
   "outputs": [],
   "source": [
    "#create a list of ngrams n = 4\n",
    "pos_ngrams = [x for x in Hanes_positive['stopped'] for x in ngrams(x.split(), n = 4)]\n",
    "c_pos = Counter(pos_ngrams)\n",
    "Hanes_top_positive = c_pos.most_common(15)\n",
    "\n",
    "neg_ngrams = [x for x in Hanes_negative['stopped'] for x in ngrams(x.split(), n = 4)]\n",
    "c_neg = Counter(neg_ngrams)\n",
    "Hanes_top_negative = c_neg.most_common(15)"
   ]
  },
  {
   "cell_type": "code",
   "execution_count": 17,
   "metadata": {},
   "outputs": [
    {
     "data": {
      "text/plain": [
       "[(('great', 'shirt', 'great', 'price'), 13),\n",
       " (('size', 'larger', 'normally', 'wear'), 10),\n",
       " (('order', 'one', 'size', 'up'), 10),\n",
       " (('would', 'definitely', 'buy', 'again'), 10),\n",
       " (('great', 'shirts', 'great', 'price'), 9),\n",
       " (('good', 'quality', 'good', 'price'), 7),\n",
       " (('good', 'quality', 'great', 'price'), 6),\n",
       " (('media', 'could', 'not', 'loaded'), 5),\n",
       " (('thick', 'not', 'too', 'thin'), 5),\n",
       " (('not', 'too', 'tight', 'not'), 5),\n",
       " (('order', 'size', 'larger', 'normally'), 5),\n",
       " (('not', 'too', 'long', 'not'), 5),\n",
       " (('not', 'too', 'thin', 'not'), 5),\n",
       " (('not', 'too', 'thick', 'not'), 5),\n",
       " (('great', 'product', 'great', 'price'), 5)]"
      ]
     },
     "execution_count": 17,
     "metadata": {},
     "output_type": "execute_result"
    }
   ],
   "source": [
    "Hanes_top_positive"
   ]
  },
  {
   "cell_type": "code",
   "execution_count": 18,
   "metadata": {},
   "outputs": [
    {
     "data": {
      "text/plain": [
       "[(('would', 'not', 'buy', 'again'), 23),\n",
       " (('Frown', 'sad', 'andry', 'pouting'), 14),\n",
       " (('washed', 'cold', 'water', 'dried'), 11),\n",
       " (('order', 'one', 'size', 'up'), 9),\n",
       " (('hanes', 'comfort', 'soft', 'shirts'), 8),\n",
       " (('order', 'least', 'one', 'size'), 7),\n",
       " (('order', 'one', 'size', 'larger'), 7),\n",
       " (('cold', 'water', 'dried', 'low'), 6),\n",
       " (('buy', 'next', 'size', 'up'), 6),\n",
       " (('cold', 'water', 'hung', 'dry'), 5),\n",
       " (('would', 'not', 'purchase', 'again'), 5),\n",
       " (('shirts', 'wear', 'around', 'house'), 5),\n",
       " (('buying', 'hanes', 'shirts', 'years'), 5),\n",
       " (('washed', 'cold', 'water', 'hung'), 4),\n",
       " (('too', 'tight', 'across', 'chest'), 4)]"
      ]
     },
     "execution_count": 18,
     "metadata": {},
     "output_type": "execute_result"
    }
   ],
   "source": [
    "Hanes_top_negative"
   ]
  },
  {
   "cell_type": "code",
   "execution_count": null,
   "metadata": {},
   "outputs": [],
   "source": [
    "y = [count for tag, count in c.most_common(20)]\n",
    "x = [tag for tag, count in c.most_common(20)]\n",
    "plt.bar(x, y, color = 'Navy')\n"
   ]
  },
  {
   "cell_type": "code",
   "execution_count": 44,
   "metadata": {},
   "outputs": [
    {
     "data": {
      "text/plain": [
       "<BarContainer object of 65429 artists>"
      ]
     },
     "execution_count": 44,
     "metadata": {},
     "output_type": "execute_result"
    },
    {
     "data": {
      "image/png": "[encoded data removed]",
      "text/plain": [
       "<Figure size 432x288 with 1 Axes>"
      ]
     },
     "metadata": {
      "needs_background": "light"
     },
     "output_type": "display_data"
    }
   ],
   "source": [
    "plt.bar(range(len(c)), c.values())"
   ]
  },
  {
   "cell_type": "code",
   "execution_count": null,
   "metadata": {},
   "outputs": [],
   "source": []
  }
 ],
 "metadata": {
  "interpreter": {
   "hash": "d4d1e4263499bec80672ea0156c357c1ee493ec2b1c70f0acce89fc37c4a6abe"
  },
  "kernelspec": {
   "display_name": "Python 3.9.7 ('base')",
   "language": "python",
   "name": "python3"
  },
  "language_info": {
   "codemirror_mode": {
    "name": "ipython",
    "version": 3
   },
   "file_extension": ".py",
   "mimetype": "text/x-python",
   "name": "python",
   "nbconvert_exporter": "python",
   "pygments_lexer": "ipython3",
   "version": "3.9.7"
  },
  "orig_nbformat": 4
 },
 "nbformat": 4,
 "nbformat_minor": 2
}
