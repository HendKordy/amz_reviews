{
  "nbformat": 4,
  "nbformat_minor": 0,
  "metadata": {
    "colab": {
      "name": "Copy of amz_reviews_webscrapping.ipynb",
      "provenance": [],
      "authorship_tag": "ABX9TyPQfZYiaMLHJSe/IeHo62H0",
      "include_colab_link": true
    },
    "kernelspec": {
      "name": "python3",
      "display_name": "Python 3"
    },
    "language_info": {
      "name": "python"
    }
  },
  "cells": [
    {
      "cell_type": "markdown",
      "metadata": {
        "id": "view-in-github",
        "colab_type": "text"
      },
      "source": [
        "<a href=\"https://colab.research.google.com/github/HendKordy/amz_reviews/blob/main/webscrapping_amz_reviews.ipynb\" target=\"_parent\"><img src=\"https://colab.research.google.com/assets/colab-badge.svg\" alt=\"Open In Colab\"/></a>"
      ]
    },
    {
      "cell_type": "markdown",
      "source": [
        "### this code is from \"Worth Web Scrapping\" YouTube channel \n",
        "See tutorial for \n",
        "[Scraping Amazon Reviews using Python](https://www.youtube.com/watch?v=5secVgADRpA)"
      ],
      "metadata": {
        "id": "1nDOdWOUTAUF"
      }
    },
    {
      "cell_type": "code",
      "execution_count": 3,
      "metadata": {
        "id": "GC46UeIwIYwz"
      },
      "outputs": [],
      "source": [
        "import pandas as pd\n",
        "import requests\n",
        "from bs4 import BeautifulSoup"
      ]
    },
    {
      "cell_type": "code",
      "source": [
        "search_query = \"t-shirt\"\n",
        "base_url = \"https://www.amazon.com/s?k=\""
      ],
      "metadata": {
        "id": "4Eag6qy6JoGK"
      },
      "execution_count": 4,
      "outputs": []
    },
    {
      "cell_type": "code",
      "source": [
        "url = base_url+search_query\n",
        "url"
      ],
      "metadata": {
        "id": "-MSSuvxwKKAT",
        "colab": {
          "base_uri": "https://localhost:8080/",
          "height": 35
        },
        "outputId": "2d1bb312-ff96-432d-dfd9-b561d4a024c1"
      },
      "execution_count": 5,
      "outputs": [
        {
          "output_type": "execute_result",
          "data": {
            "application/vnd.google.colaboratory.intrinsic+json": {
              "type": "string"
            },
            "text/plain": [
              "'https://www.amazon.com/s?k=t-shirt'"
            ]
          },
          "metadata": {},
          "execution_count": 5
        }
      ]
    },
    {
      "cell_type": "code",
      "source": [
        "header={'User-Agent': 'Mozilla/5.0 (Windows NT 10.0; Win64; x64) AppleWebKit/537.36 (KHTML, like Gecko) Chrome/77.0.3865.90 Safari/537.36','referer':'https://www.amazon.com/s?k=t-shirt&crid=SI7RFOQTLIZ4&sprefix=t-shir%2Caps%2C294&ref=nb_sb_noss'}"
      ],
      "metadata": {
        "id": "6xD-K0weKPC4"
      },
      "execution_count": 6,
      "outputs": []
    },
    {
      "cell_type": "code",
      "source": [
        "search_response=requests.get(url,headers=header)"
      ],
      "metadata": {
        "id": "dmZP-1-QMrqR"
      },
      "execution_count": 7,
      "outputs": []
    },
    {
      "cell_type": "code",
      "source": [
        "search_response.status_code"
      ],
      "metadata": {
        "id": "kEgvA2pxMxCN",
        "colab": {
          "base_uri": "https://localhost:8080/"
        },
        "outputId": "0ba6b6ee-444a-445e-841a-c1cbf9b9378d"
      },
      "execution_count": 8,
      "outputs": [
        {
          "output_type": "execute_result",
          "data": {
            "text/plain": [
              "200"
            ]
          },
          "metadata": {},
          "execution_count": 8
        }
      ]
    },
    {
      "cell_type": "code",
      "source": [
        "search_response.text"
      ],
      "metadata": {
        "id": "4IKpDxI2MzKG"
      },
      "execution_count": null,
      "outputs": []
    },
    {
      "cell_type": "code",
      "source": [
        "search_response.cookies"
      ],
      "metadata": {
        "id": "bDYfq0mwM54j",
        "colab": {
          "base_uri": "https://localhost:8080/"
        },
        "outputId": "9e350cb2-fb21-4e3b-89de-15d28d8a2d29"
      },
      "execution_count": 10,
      "outputs": [
        {
          "output_type": "execute_result",
          "data": {
            "text/plain": [
              "<RequestsCookieJar[Cookie(version=0, name='i18n-prefs', value='USD', port=None, port_specified=False, domain='.amazon.com', domain_specified=True, domain_initial_dot=True, path='/', path_specified=True, secure=False, expires=1676756947, discard=False, comment=None, comment_url=None, rest={}, rfc2109=False), Cookie(version=0, name='session-id', value='130-0546994-1577265', port=None, port_specified=False, domain='.amazon.com', domain_specified=True, domain_initial_dot=True, path='/', path_specified=True, secure=True, expires=1676756947, discard=False, comment=None, comment_url=None, rest={}, rfc2109=False), Cookie(version=0, name='session-id-time', value='2082787201l', port=None, port_specified=False, domain='.amazon.com', domain_specified=True, domain_initial_dot=True, path='/', path_specified=True, secure=True, expires=1676756947, discard=False, comment=None, comment_url=None, rest={}, rfc2109=False)]>"
            ]
          },
          "metadata": {},
          "execution_count": 10
        }
      ]
    },
    {
      "cell_type": "markdown",
      "source": [
        " ## function to get the content of the page of required query"
      ],
      "metadata": {
        "id": "dMlDUToWOGmS"
      }
    },
    {
      "cell_type": "code",
      "source": [
        "cookie={} # insert request cookies within{}\n",
        "def getAmazonSearch(search_query):\n",
        "    url=\"https://www.amazon.com/s?k=\"+search_query\n",
        "    print(url)\n",
        "    page=requests.get(url,headers=header)\n",
        "    if page.status_code==200:\n",
        "        return page\n",
        "    else:\n",
        "        return \"Error\""
      ],
      "metadata": {
        "id": "Q0jpDiNaNANF"
      },
      "execution_count": 11,
      "outputs": []
    },
    {
      "cell_type": "markdown",
      "source": [
        "## function to get the contents of individual product pages using 'data-asin' number (unique identification number)"
      ],
      "metadata": {
        "id": "qw1DgYETOK3S"
      }
    },
    {
      "cell_type": "code",
      "source": [
        "def Searchasin(asin):\n",
        "    url=\"https://www.amazon.com/dp/\"+asin\n",
        "    print(url)\n",
        "    page=requests.get(url,cookies=cookie,headers=header)\n",
        "    if page.status_code==200:\n",
        "        return page\n",
        "    else:\n",
        "        return \"Error\""
      ],
      "metadata": {
        "id": "8ihQULUWNrm3"
      },
      "execution_count": 12,
      "outputs": []
    },
    {
      "cell_type": "code",
      "source": [
        "Searchasin('B07YDYPVGF')"
      ],
      "metadata": {
        "id": "Bu_4Gq6hOets",
        "colab": {
          "base_uri": "https://localhost:8080/"
        },
        "outputId": "197c7884-914d-4943-f056-2cf23e440e52"
      },
      "execution_count": 13,
      "outputs": [
        {
          "output_type": "stream",
          "name": "stdout",
          "text": [
            "https://www.amazon.com/dp/B07YDYPVGF\n"
          ]
        },
        {
          "output_type": "execute_result",
          "data": {
            "text/plain": [
              "<Response [200]>"
            ]
          },
          "metadata": {},
          "execution_count": 13
        }
      ]
    },
    {
      "cell_type": "markdown",
      "source": [
        "## function to pass on the link of 'see all reviews' and extract the content\n"
      ],
      "metadata": {
        "id": "8jEC3_ngOTEf"
      }
    },
    {
      "cell_type": "code",
      "source": [
        "def Searchreviews(review_link):\n",
        "    url=\"https://www.amazon.com\"+review_link\n",
        "    print(url)\n",
        "    page=requests.get(url,cookies=cookie,headers=header)\n",
        "    if page.status_code==200:\n",
        "        return page\n",
        "    else:\n",
        "        return \"Error\""
      ],
      "metadata": {
        "id": "WDwugq6JOT2U"
      },
      "execution_count": 14,
      "outputs": []
    },
    {
      "cell_type": "markdown",
      "source": [
        "## First page product reviews extraction"
      ],
      "metadata": {
        "id": "A7UUlHzjP9Kt"
      }
    },
    {
      "cell_type": "code",
      "source": [
        "product_names=[]\n",
        "response=getAmazonSearch(search_query)\n",
        "soup=BeautifulSoup(response.content)\n",
        "for i in soup.findAll(\"span\",{'class':'a-size-base-plus a-color-base a-text-normal'}): # the tag which is common for all the names of products\n",
        "    product_names.append(i.text) #adding the product names to the list\n"
      ],
      "metadata": {
        "id": "EyGH48fvP8zP",
        "colab": {
          "base_uri": "https://localhost:8080/"
        },
        "outputId": "1f2e22b6-1703-46e5-c333-65f11bae2a72"
      },
      "execution_count": 15,
      "outputs": [
        {
          "output_type": "stream",
          "name": "stdout",
          "text": [
            "https://www.amazon.com/s?k=t-shirt\n"
          ]
        }
      ]
    },
    {
      "cell_type": "code",
      "source": [
        "product_names"
      ],
      "metadata": {
        "id": "NcpmMLNSQMhw",
        "colab": {
          "base_uri": "https://localhost:8080/"
        },
        "outputId": "2ad31a08-60d4-4bb0-9938-9ad2d6ce384f"
      },
      "execution_count": 16,
      "outputs": [
        {
          "output_type": "execute_result",
          "data": {
            "text/plain": [
              "[\"Men's Short-Sleeve Crewneck Cotton T-Shirt\",\n",
              " \"Men's Ultra Cotton T-Shirt, Style G2000, Multipack\",\n",
              " \"Men's Crew T-Shirts, Multipack\",\n",
              " \"Men's Essentials Short Sleeve T-shirt Value Pack (4-pack)\",\n",
              " \"Men's Ultra Cotton Long Sleeve T-Shirt, Style G2400, Multipack\",\n",
              " \"Men's Stay Tucked Crew T-Shirt\",\n",
              " 'Mens Loose Fit Heavyweight Short-sleeve Pocket T-shirt',\n",
              " 'Click to see price',\n",
              " \"Men's V-Neck T-Shirts, Multipack\",\n",
              " \"Men's Heavy Cotton T-Shirt, Style G5000, Multipack\",\n",
              " \"Men's Tech 2.0 Short-Sleeve T-Shirt\",\n",
              " \"Men's Classic Jersey Tee\",\n",
              " \"Men's Cotton Performance Short Sleeve T-Shirt\",\n",
              " \"Men's Sportstyle Left Chest Short Sleeve T-shirt\",\n",
              " \"Men's 2-Pack Slim-fit Short-Sleeve Crewneck T-Shirt\",\n",
              " \"Men's Beefy Heavyweight Short Sleeve T-Shirt (1-Pack)\",\n",
              " \"Men's Softstyle Cotton T-Shirt, Style G64000, 2-Pack\",\n",
              " \"Men's Short Sleeve Pocket T-Shirt\",\n",
              " 'Unisex T Shirt Personalize with Your Own Images and Text Many Sizes and Colors Available',\n",
              " 'Big V Shirts Tide Hip Hop T Shirt Cotton Casual Crew Neck Short Sleeve Tee Tops for Men Women',\n",
              " 'Snappy Turtle Navy Long Sleeve Shirt',\n",
              " 'X Python Shirts Tide Hip Hop T Shirt Cotton Casual Crew Neck Short Sleeve Tee Tops for Men Women (Medium,Python-White)',\n",
              " \"Men's National Parks Graphic T-Shirt Collection\",\n",
              " 'Women’s Perfect-T Short Sleeve T-shirt',\n",
              " 'Men’s Short Sleeve Graphic T-shirt Collection',\n",
              " \"Women's 2-Pack Classic-Fit Short-Sleeve Crewneck T-Shirt\",\n",
              " \"Women's 2-Pack V-Neck Classic-fit Short-Sleeve Tee Shirt\",\n",
              " \"Women's Softstyle Cotton T-Shirt, Style G64000l, 2-Pack\",\n",
              " '5 Pack: Men’s Dry-Fit Moisture Wicking Active Athletic Performance Crew T-Shirt',\n",
              " \"Women's Shirred V-Neck T-Shirt\",\n",
              " \"Men's DryBlend Workwear T-Shirts with Pocket, 2-Pack\",\n",
              " \"Men's Classic T-Shirt, Screen Print Script\",\n",
              " \"Men's T-Shirt Short Sleeve Crew Neck T-Shirt Cotton Short Sleeve Leisure Comfortable T-Shirt Tauren Logo\",\n",
              " 'Men’s Henley Shirts Casual Stylish Short Sleeve Print Drop Cut Collarless Crewneck T Shirts for Men',\n",
              " \"Men's Loose Fit Heavyweight Long Sleeve Pocket Henley T-Shirt\",\n",
              " \"Women's X-Temp V-Neck T-Shirt\",\n",
              " \"Men's Tagless Cotton Crew Undershirt – Multiple Packs and Colors\",\n",
              " \"Men's Ultra Cotton Long Sleeve T-Shirt, Style G2400\",\n",
              " \"Men's 5-Pack Tagless ComfortSoft Crewneck T-Shirt\",\n",
              " \"Men's Cotton Stretch Crew T-Shirts, 3-Pack\",\n",
              " \"Men's DryBlend T-Shirt, Style G8000, 2-Pack\",\n",
              " \"Men's Short Sleeve Beefy-T (Pack of 2)\",\n",
              " \"Men's ComfortSoft Tagless Pocket T's, 6 Pack\",\n",
              " \"Sportswear Men's Long Sleeve Graphic T Shirt\",\n",
              " \"Men's Tagless Cotton V-Neck Undershirt – Multiple Packs and Colors\",\n",
              " \"Men's 2-Pack Regular-Fit Short-Sleeve Crewneck T-Shirt\",\n",
              " \"Men's Short Sleeve Solid Crew Neck T-Shirt\",\n",
              " \"Men's Big and Tall Tag-Free Underwear & Undershirts\",\n",
              " \"Men's 5-Pack X-Temp Comfort Cool Crewneck Undershirts\",\n",
              " \"Men's 2-Pack Slim-fit Short-Sleeve Crewneck T-Shirt\",\n",
              " 'Mens Cotton Crew Neck Short Sleeve T-Shirts Mix Colors Bulk',\n",
              " \"Men's Heavyweight Crew Neck Short Sleeve Tee Big-Tall\",\n",
              " 'Blank T-Shirt - Unisex Style 5000 Adult',\n",
              " \"Men's Adult Short Sleeve Tee, Style 1717\",\n",
              " \"Men's Comfort Flex Fit White V-Neck 3 Pack\",\n",
              " \"Men's Raid 2.0 Short Sleeve T-Shirt\",\n",
              " \"Women's Sport Cool Dri Performance Short Sleeve T-Shirt\",\n",
              " \"Men's Giant Mickey Mouse Gray Graphic T-Shirt\",\n",
              " \"Men's Heavy Cotton Long Sleeve T-Shirt, Style G5400, 2-Pack\",\n",
              " \"Men's 2-Pack Regular-Fit Short-Sleeve Crewneck T-Shirt\",\n",
              " \"Men's Short Sleeve Henley T Shirts Casual Slim Fit Summer Basic Plain Beefy Tee Shirts\",\n",
              " 'Torogoz T-Shirt',\n",
              " \"Men's Short Sleeve T-Shirt Quick Dry UPF 50+ Athletic Running Workout Fishing Top Tee Performance Shirts\",\n",
              " 'Hip Hop T-Shirt Funny Vintage Street Wear Hipster Parod Shirt Rock T-Shirt Graffiti Short-Sleeved T-Shirt',\n",
              " 'National Parks Yosemite White T-Shirt']"
            ]
          },
          "metadata": {},
          "execution_count": 16
        }
      ]
    },
    {
      "cell_type": "code",
      "source": [
        "len(product_names)"
      ],
      "metadata": {
        "id": "rFKOKuLOQQzZ",
        "colab": {
          "base_uri": "https://localhost:8080/"
        },
        "outputId": "af2970d6-c748-4161-8ac5-97d688a967b7"
      },
      "execution_count": 17,
      "outputs": [
        {
          "output_type": "execute_result",
          "data": {
            "text/plain": [
              "65"
            ]
          },
          "metadata": {},
          "execution_count": 17
        }
      ]
    },
    {
      "cell_type": "markdown",
      "source": [
        "#### The method of extracting data-asin numbers are similar to that of product names. Only the tag details have to be changed in findall()\n"
      ],
      "metadata": {
        "id": "tHl4aAH_Qa8z"
      }
    },
    {
      "cell_type": "code",
      "source": [
        "data_asin=[]\n",
        "response=getAmazonSearch(search_query)\n",
        "soup=BeautifulSoup(response.content)\n",
        "for i in soup.findAll(\"div\",{'class':\"sg-col-4-of-12 s-result-item s-asin sg-col-4-of-16 sg-col s-widget-spacing-small sg-col-4-of-20\"}):\n",
        "    data_asin.append(i['data-asin'])\n"
      ],
      "metadata": {
        "id": "0wHorM-EQUoj",
        "colab": {
          "base_uri": "https://localhost:8080/"
        },
        "outputId": "8ec6a5ba-59af-4df0-b9b6-1a071cafe777"
      },
      "execution_count": 18,
      "outputs": [
        {
          "output_type": "stream",
          "name": "stdout",
          "text": [
            "https://www.amazon.com/s?k=t-shirt\n"
          ]
        }
      ]
    },
    {
      "cell_type": "code",
      "source": [
        "response.status_code"
      ],
      "metadata": {
        "id": "8sTMmPKbQg22",
        "colab": {
          "base_uri": "https://localhost:8080/"
        },
        "outputId": "a08c3f68-74f2-4eb2-f873-427319f82fa8"
      },
      "execution_count": 19,
      "outputs": [
        {
          "output_type": "execute_result",
          "data": {
            "text/plain": [
              "200"
            ]
          },
          "metadata": {},
          "execution_count": 19
        }
      ]
    },
    {
      "cell_type": "code",
      "source": [
        "data_asin"
      ],
      "metadata": {
        "id": "dICW0utnQmGP",
        "colab": {
          "base_uri": "https://localhost:8080/"
        },
        "outputId": "de5a41c2-f5ae-4cc7-8952-b39fa7c4c95a"
      },
      "execution_count": 20,
      "outputs": [
        {
          "output_type": "execute_result",
          "data": {
            "text/plain": [
              "['B075ZZF47B',\n",
              " 'B09QSJRCBN',\n",
              " 'B0787P86ZZ',\n",
              " 'B00KBZOTPQ',\n",
              " 'B07683CN7B',\n",
              " 'B00VTV8ISK',\n",
              " 'B0000ANHT7',\n",
              " 'B077ZN2F83',\n",
              " 'B07MGYHJS4',\n",
              " 'B0785W9DZJ',\n",
              " 'B01N6DJO3W',\n",
              " 'B071RST8T5',\n",
              " 'B077XR58X9',\n",
              " 'B00NOY3JPC',\n",
              " 'B07MRB66T4',\n",
              " 'B08F2PW4TT',\n",
              " 'B00KRYLKH6',\n",
              " 'B01EKB6ES6',\n",
              " 'B0775PM9H7',\n",
              " 'B0775ZBBBP',\n",
              " 'B07M8J5JD2',\n",
              " 'B08287RJRP',\n",
              " 'B016YKKE32',\n",
              " 'B07CXKK817',\n",
              " 'B078LDHS8Z',\n",
              " 'B00SNCKUFM',\n",
              " 'B000HOBYCW',\n",
              " 'B00GJBI1GY',\n",
              " 'B00ACIFQGS',\n",
              " 'B084HFQXHJ',\n",
              " 'B07682FRBZ',\n",
              " 'B00JUM9A1E',\n",
              " 'B086KXNGKY',\n",
              " 'B09NQB4YCF',\n",
              " 'B000EBZ0RI',\n",
              " 'B06XWL2ZX8',\n",
              " 'B07HRBN517',\n",
              " 'B00CEH37WU',\n",
              " 'B074XY2K7M',\n",
              " 'B0775836QJ',\n",
              " 'B07N7TDKXQ',\n",
              " 'B00B6E79X0',\n",
              " 'B079BGKMR4',\n",
              " 'B07M8NX6YB',\n",
              " 'B086KXKXKK',\n",
              " 'B08LNZ3P4N',\n",
              " 'B00KRYNWYA',\n",
              " 'B075C78NMB']"
            ]
          },
          "metadata": {},
          "execution_count": 20
        }
      ]
    },
    {
      "cell_type": "code",
      "source": [
        "len(data_asin)"
      ],
      "metadata": {
        "id": "gAi0YYSIQnJa",
        "colab": {
          "base_uri": "https://localhost:8080/"
        },
        "outputId": "1b8564d5-62ad-450d-b541-9d0943daf93e"
      },
      "execution_count": 21,
      "outputs": [
        {
          "output_type": "execute_result",
          "data": {
            "text/plain": [
              "48"
            ]
          },
          "metadata": {},
          "execution_count": 21
        }
      ]
    },
    {
      "cell_type": "markdown",
      "source": [
        "#### By passing the data-asin numbers, we can extract the 'see all reviews' link for each product in the page"
      ],
      "metadata": {
        "id": "zZqZaQ6XS0Lr"
      }
    },
    {
      "cell_type": "code",
      "source": [
        "link=[]\n",
        "for i in range(len(data_asin)):\n",
        "    response=Searchasin(data_asin[i])\n",
        "    soup=BeautifulSoup(response.content)\n",
        "    for i in soup.findAll(\"a\",{'data-hook':\"see-all-reviews-link-foot\"}):\n",
        "        link.append(i['href'])"
      ],
      "metadata": {
        "id": "aWqsM7tWSpVO"
      },
      "execution_count": null,
      "outputs": []
    },
    {
      "cell_type": "code",
      "source": [
        "link\n"
      ],
      "metadata": {
        "id": "NQvMAkCXUT9k"
      },
      "execution_count": null,
      "outputs": []
    },
    {
      "cell_type": "code",
      "source": [
        "product_name = []\n",
        "reviews=[]\n",
        "scores = []\n",
        "review_title = []\n",
        "attr = []\n",
        "\n",
        "print('product_name= ', len(product_name), 'reviews = ', len(reviews), 'scores= ', len(scores), 'review_title= ', len(review_title), 'attr= ', len(attr) )"
      ],
      "metadata": {
        "id": "yOKpB6Cwxgxj",
        "outputId": "e3685fcf-ed29-4916-8036-37710d236322",
        "colab": {
          "base_uri": "https://localhost:8080/"
        }
      },
      "execution_count": 23,
      "outputs": [
        {
          "output_type": "stream",
          "name": "stdout",
          "text": [
            "product_name=  0 reviews =  0 scores=  0 review_title=  0 attr=  0\n"
          ]
        }
      ]
    },
    {
      "cell_type": "code",
      "source": [
        "from numpy.ma.core import append\n",
        "\n",
        "for j in range(len(link)):\n",
        "    for k in range(50):\n",
        "        print('page ', k)\n",
        "        response=Searchreviews(link[j]+'&pageNumber='+str(k))\n",
        "        # print(type(response))\n",
        "        if (str(type(response)) == \"<class 'requests.models.Response'>\"):\n",
        "          soup=BeautifulSoup(response.content)\n",
        "          this_product_name = soup.find('div', {'class': 'a-row product-title'}).text\n",
        "          # print('created soup')\n",
        "          for card in soup.findAll('div', {'data-hook' : 'review'}):\n",
        "            product_name.append(this_product_name)\n",
        "            reviews.append(card.findChild(\"span\",{'data-hook':\"review-body\"}))\n",
        "            temp_score = card.findChild('i', {'data-hook':'review-star-rating'})\n",
        "            if temp_score:\n",
        "              scores.append(temp_score.text)\n",
        "            else:\n",
        "              scores.append('null')\n",
        "            temp_title = card.findChild('a', {'data-hook' : 'review-title'})\n",
        "            if temp_title:\n",
        "              review_title.append(temp_title.text)\n",
        "            else:\n",
        "              review_title.append('null')\n",
        "            temp = i.findChild('a', {'class':'a-size-mini a-link-normal a-color-secondary'})\n",
        "            if temp:\n",
        "              attr.append(temp.text)\n",
        "            else:\n",
        "              attr.append('null')\n",
        "          \n"
      ],
      "metadata": {
        "id": "yAcW5-3CULB1"
      },
      "execution_count": null,
      "outputs": []
    },
    {
      "cell_type": "code",
      "source": [
        "print('product_name= ', len(product_name), 'reviews = ', len(reviews), 'scores= ', len(scores), 'review_title= ', len(review_title), 'attr= ', len(attr) )"
      ],
      "metadata": {
        "id": "C5czT-dC1QVP",
        "outputId": "dd6563ad-6d97-46e1-8271-04af39bc6ec9",
        "colab": {
          "base_uri": "https://localhost:8080/"
        }
      },
      "execution_count": 26,
      "outputs": [
        {
          "output_type": "stream",
          "name": "stdout",
          "text": [
            "product_name=  40521 reviews =  40521 scores=  40521 review_title=  40521 attr=  40521\n"
          ]
        }
      ]
    },
    {
      "cell_type": "markdown",
      "source": [
        "#### Now we have the 'see all review' links. Using this link along with a page number, we can extract the reviews in any number of pages for all the products"
      ],
      "metadata": {
        "id": "bhuMgFwfUJ9A"
      }
    },
    {
      "cell_type": "code",
      "source": [
        "reviews"
      ],
      "metadata": {
        "id": "xOaHFb68d97M"
      },
      "execution_count": null,
      "outputs": []
    },
    {
      "cell_type": "code",
      "source": [
        "scores"
      ],
      "metadata": {
        "id": "QNybh28C51ah",
        "outputId": "932c540b-271c-42a3-f6c6-086609f8c946",
        "colab": {
          "base_uri": "https://localhost:8080/"
        }
      },
      "execution_count": null,
      "outputs": [
        {
          "output_type": "execute_result",
          "data": {
            "text/plain": [
              "[]"
            ]
          },
          "metadata": {},
          "execution_count": 44
        }
      ]
    },
    {
      "cell_type": "code",
      "source": [
        "len(reviews)"
      ],
      "metadata": {
        "id": "e8slQQTqd_5E"
      },
      "execution_count": null,
      "outputs": []
    },
    {
      "cell_type": "code",
      "source": [
        "all_reviews = list(zip(product_name, attr, scores, review_title, reviews))"
      ],
      "metadata": {
        "id": "fwJ_v0V-eEMZ"
      },
      "execution_count": 27,
      "outputs": []
    },
    {
      "cell_type": "code",
      "source": [
        "review_data=pd.DataFrame(all_reviews, columns = ['product_name', 'attr','scores', 'review_title','reviews'])\n"
      ],
      "metadata": {
        "id": "cLXNzABwf5Rc"
      },
      "execution_count": 29,
      "outputs": []
    },
    {
      "cell_type": "code",
      "source": [
        "review_data.shape"
      ],
      "metadata": {
        "id": "wFZqoPDMG4aA",
        "outputId": "372ee721-21ae-4a67-8eee-84d735183480",
        "colab": {
          "base_uri": "https://localhost:8080/"
        }
      },
      "execution_count": 30,
      "outputs": [
        {
          "output_type": "execute_result",
          "data": {
            "text/plain": [
              "(40521, 5)"
            ]
          },
          "metadata": {},
          "execution_count": 30
        }
      ]
    },
    {
      "cell_type": "code",
      "source": [
        "review_data.sample(50)"
      ],
      "metadata": {
        "id": "6xRkDKgpGoG9",
        "outputId": "23f5cf2e-caa0-4436-a8db-54a626f95e8b",
        "colab": {
          "base_uri": "https://localhost:8080/",
          "height": 1000
        }
      },
      "execution_count": 31,
      "outputs": [
        {
          "output_type": "execute_result",
          "data": {
            "text/html": [
              "\n",
              "  <div id=\"df-7f3d703a-4ca4-4493-ac98-3ce88d71306a\">\n",
              "    <div class=\"colab-df-container\">\n",
              "      <div>\n",
              "<style scoped>\n",
              "    .dataframe tbody tr th:only-of-type {\n",
              "        vertical-align: middle;\n",
              "    }\n",
              "\n",
              "    .dataframe tbody tr th {\n",
              "        vertical-align: top;\n",
              "    }\n",
              "\n",
              "    .dataframe thead th {\n",
              "        text-align: right;\n",
              "    }\n",
              "</style>\n",
              "<table border=\"1\" class=\"dataframe\">\n",
              "  <thead>\n",
              "    <tr style=\"text-align: right;\">\n",
              "      <th></th>\n",
              "      <th>product_name</th>\n",
              "      <th>attr</th>\n",
              "      <th>scores</th>\n",
              "      <th>review_title</th>\n",
              "      <th>reviews</th>\n",
              "    </tr>\n",
              "  </thead>\n",
              "  <tbody>\n",
              "    <tr>\n",
              "      <th>35157</th>\n",
              "      <td>Hanes Men's 5-Pack X-Temp Comfort Cool Crewnec...</td>\n",
              "      <td>null</td>\n",
              "      <td>5.0 out of 5 stars</td>\n",
              "      <td>\\nJust right\\n</td>\n",
              "      <td>[\\n, [\\n  Just as it said it would be good buy...</td>\n",
              "    </tr>\n",
              "    <tr>\n",
              "      <th>7382</th>\n",
              "      <td>Gildan Men's Heavy Cotton T-Shirt, Style G5000...</td>\n",
              "      <td>null</td>\n",
              "      <td>1.0 out of 5 stars</td>\n",
              "      <td>\\nVery poor quality\\n</td>\n",
              "      <td>[\\n, [\\n  I'm a frequent wearer of simple soli...</td>\n",
              "    </tr>\n",
              "    <tr>\n",
              "      <th>39648</th>\n",
              "      <td>Hanes Women's Sport Cool Dri Performance Short...</td>\n",
              "      <td>null</td>\n",
              "      <td>2.0 out of 5 stars</td>\n",
              "      <td>\\nProbably wouldn’t order again\\n</td>\n",
              "      <td>[\\n, [\\n  If you order this order it bigger th...</td>\n",
              "    </tr>\n",
              "    <tr>\n",
              "      <th>22843</th>\n",
              "      <td>Gildan Men's DryBlend Workwear T-Shirts with P...</td>\n",
              "      <td>null</td>\n",
              "      <td>5.0 out of 5 stars</td>\n",
              "      <td>\\nWell made\\n</td>\n",
              "      <td>[\\n, [\\n  A little tight around the neck, but ...</td>\n",
              "    </tr>\n",
              "    <tr>\n",
              "      <th>28789</th>\n",
              "      <td>Gildan Men's DryBlend T-Shirt, Style G8000, 2-...</td>\n",
              "      <td>null</td>\n",
              "      <td>5.0 out of 5 stars</td>\n",
              "      <td>\\nNice comfy slepping shirts\\n</td>\n",
              "      <td>[\\n, [\\n  Does have a shoulder tag that can ge...</td>\n",
              "    </tr>\n",
              "    <tr>\n",
              "      <th>34819</th>\n",
              "      <td>Hanes Men's 5-Pack X-Temp Comfort Cool Crewnec...</td>\n",
              "      <td>null</td>\n",
              "      <td>1.0 out of 5 stars</td>\n",
              "      <td>\\nNo quality control\\n</td>\n",
              "      <td>[\\n, [\\n  Shirts work great. Somehow liquid wa...</td>\n",
              "    </tr>\n",
              "    <tr>\n",
              "      <th>39947</th>\n",
              "      <td>Hanes Women's Sport Cool Dri Performance Short...</td>\n",
              "      <td>null</td>\n",
              "      <td>5.0 out of 5 stars</td>\n",
              "      <td>\\nTee shirt for everything\\n</td>\n",
              "      <td>[\\n, [\\n  I purchased this tee shirt to wear u...</td>\n",
              "    </tr>\n",
              "    <tr>\n",
              "      <th>36503</th>\n",
              "      <td>Amazon Essentials Men's 2-Pack Slim-fit Short-...</td>\n",
              "      <td>null</td>\n",
              "      <td>5.0 out of 5 stars</td>\n",
              "      <td>\\nSo far so good\\n</td>\n",
              "      <td>[\\n, [\\n  So far so good, I will I have to upd...</td>\n",
              "    </tr>\n",
              "    <tr>\n",
              "      <th>2734</th>\n",
              "      <td>Hanes Men's Essentials Short Sleeve T-shirt Va...</td>\n",
              "      <td>null</td>\n",
              "      <td>1.0 out of 5 stars</td>\n",
              "      <td>\\nDid not complete order\\n</td>\n",
              "      <td>[\\n, [\\n  I only received 2 shirts. I thought ...</td>\n",
              "    </tr>\n",
              "    <tr>\n",
              "      <th>1414</th>\n",
              "      <td>Gildan Men's Crew T-Shirts, Multipack</td>\n",
              "      <td>null</td>\n",
              "      <td>1.0 out of 5 stars</td>\n",
              "      <td>\\nThey are inconsistent.\\n</td>\n",
              "      <td>[\\n, [\\n  I bought a set and it was the best f...</td>\n",
              "    </tr>\n",
              "    <tr>\n",
              "      <th>9707</th>\n",
              "      <td>Champion Men's Classic Jersey Tee</td>\n",
              "      <td>null</td>\n",
              "      <td>5.0 out of 5 stars</td>\n",
              "      <td>\\nGreat Shirt\\n</td>\n",
              "      <td>[\\n, [\\n  Good quality, soft, fits loosely but...</td>\n",
              "    </tr>\n",
              "    <tr>\n",
              "      <th>35691</th>\n",
              "      <td>Hanes Men's 5-Pack X-Temp Comfort Cool Crewnec...</td>\n",
              "      <td>null</td>\n",
              "      <td>5.0 out of 5 stars</td>\n",
              "      <td>\\nFit perfectly\\n</td>\n",
              "      <td>[\\n, [\\n  Great undershirts.  Soft, comfortabl...</td>\n",
              "    </tr>\n",
              "    <tr>\n",
              "      <th>32877</th>\n",
              "      <td>Nautica Men's Short Sleeve Solid Crew Neck T-S...</td>\n",
              "      <td>null</td>\n",
              "      <td>4.0 out of 5 stars</td>\n",
              "      <td>\\nNice quality\\n</td>\n",
              "      <td>[\\n, [\\n  Bought this for my son. He is 6'1 24...</td>\n",
              "    </tr>\n",
              "    <tr>\n",
              "      <th>28651</th>\n",
              "      <td>Gildan Men's Cotton Stretch Crew T-Shirts, 3-Pack</td>\n",
              "      <td>null</td>\n",
              "      <td>5.0 out of 5 stars</td>\n",
              "      <td>\\nTight collar. Fits good\\n</td>\n",
              "      <td>[\\n, [\\n  I tried Jockey stretch and Hanes str...</td>\n",
              "    </tr>\n",
              "    <tr>\n",
              "      <th>33017</th>\n",
              "      <td>Nautica Men's Short Sleeve Solid Crew Neck T-S...</td>\n",
              "      <td>null</td>\n",
              "      <td>2.0 out of 5 stars</td>\n",
              "      <td>\\nNot the same as the picture!\\n</td>\n",
              "      <td>[\\n, [\\n  The shirt is nice, but I expected it...</td>\n",
              "    </tr>\n",
              "    <tr>\n",
              "      <th>36166</th>\n",
              "      <td>Amazon Essentials Men's 2-Pack Slim-fit Short-...</td>\n",
              "      <td>null</td>\n",
              "      <td>5.0 out of 5 stars</td>\n",
              "      <td>\\nFeels like a premium shirt\\n</td>\n",
              "      <td>[\\n, [\\n  There is nothing about this shirt th...</td>\n",
              "    </tr>\n",
              "    <tr>\n",
              "      <th>24266</th>\n",
              "      <td>Hanes Women's X-Temp V-Neck T-Shirt</td>\n",
              "      <td>null</td>\n",
              "      <td>2.0 out of 5 stars</td>\n",
              "      <td>\\nMeh\\n</td>\n",
              "      <td>[\\n, [\\n  Decent shirt. The length isn't as lo...</td>\n",
              "    </tr>\n",
              "    <tr>\n",
              "      <th>13336</th>\n",
              "      <td>Gildan Men's Softstyle Cotton T-Shirt, Style G...</td>\n",
              "      <td>null</td>\n",
              "      <td>3.0 out of 5 stars</td>\n",
              "      <td>\\nBasic T-shirt\\n</td>\n",
              "      <td>[\\n, [\\n  Fabric isn’t as soft as I hoped\\n], \\n]</td>\n",
              "    </tr>\n",
              "    <tr>\n",
              "      <th>618</th>\n",
              "      <td>Gildan Men's Ultra Cotton T-Shirt, Style G2000...</td>\n",
              "      <td>null</td>\n",
              "      <td>4.0 out of 5 stars</td>\n",
              "      <td>\\nSolid shirts but not very soft\\n</td>\n",
              "      <td>[\\n, [\\n  The shirts are great quality and fit...</td>\n",
              "    </tr>\n",
              "    <tr>\n",
              "      <th>15348</th>\n",
              "      <td>Hanes Women’s Perfect-T Short Sleeve T-shirt</td>\n",
              "      <td>null</td>\n",
              "      <td>4.0 out of 5 stars</td>\n",
              "      <td>\\nMy daughter loves it!\\n</td>\n",
              "      <td>[\\n, [\\n  This shirt was not as heavy as I exp...</td>\n",
              "    </tr>\n",
              "    <tr>\n",
              "      <th>36255</th>\n",
              "      <td>Amazon Essentials Men's 2-Pack Slim-fit Short-...</td>\n",
              "      <td>null</td>\n",
              "      <td>4.0 out of 5 stars</td>\n",
              "      <td>\\nSolid Shirt but not perfect\\n</td>\n",
              "      <td>[\\n, [\\n  First off - I can recognize that thi...</td>\n",
              "    </tr>\n",
              "    <tr>\n",
              "      <th>32247</th>\n",
              "      <td>Hanes Men's Tagless Cotton V-Neck Undershirt –...</td>\n",
              "      <td>null</td>\n",
              "      <td>3.0 out of 5 stars</td>\n",
              "      <td>\\nIt's not 100% cotton, thin, excessive shrink...</td>\n",
              "      <td>[\\n, [\\n  100% cotton is usually thick, and sh...</td>\n",
              "    </tr>\n",
              "    <tr>\n",
              "      <th>34862</th>\n",
              "      <td>Hanes Men's 5-Pack X-Temp Comfort Cool Crewnec...</td>\n",
              "      <td>null</td>\n",
              "      <td>5.0 out of 5 stars</td>\n",
              "      <td>\\nVERY COMFORTABLE\\n</td>\n",
              "      <td>[\\n, [\\n  My Mister likes these under shirts v...</td>\n",
              "    </tr>\n",
              "    <tr>\n",
              "      <th>15690</th>\n",
              "      <td>Hanes Women’s Perfect-T Short Sleeve T-shirt</td>\n",
              "      <td>null</td>\n",
              "      <td>5.0 out of 5 stars</td>\n",
              "      <td>\\nNice T Shirt / Runs small\\n</td>\n",
              "      <td>[\\n, [\\n  Nice T Shirt / Runs small.  i just w...</td>\n",
              "    </tr>\n",
              "    <tr>\n",
              "      <th>3913</th>\n",
              "      <td>Gildan Men's Ultra Cotton Long Sleeve T-Shirt,...</td>\n",
              "      <td>null</td>\n",
              "      <td>5.0 out of 5 stars</td>\n",
              "      <td>\\nComfortably\\n</td>\n",
              "      <td>[[\\n, [\\n, &lt;div class=\"cr-media-status-contain...</td>\n",
              "    </tr>\n",
              "    <tr>\n",
              "      <th>30540</th>\n",
              "      <td>Hanes Men's Short Sleeve Beefy-T (Pack of 2)</td>\n",
              "      <td>null</td>\n",
              "      <td>5.0 out of 5 stars</td>\n",
              "      <td>\\nThe absolute best t-shirt to own\\n</td>\n",
              "      <td>[\\n, [\\n  Hanes Beefy T should be the staple i...</td>\n",
              "    </tr>\n",
              "    <tr>\n",
              "      <th>8266</th>\n",
              "      <td>Under Armour Men's Tech 2.0 Short-Sleeve T-Shirt</td>\n",
              "      <td>null</td>\n",
              "      <td>1.0 out of 5 stars</td>\n",
              "      <td>\\nSmall, too short.\\n</td>\n",
              "      <td>[\\n, [\\n  I'm 6 foot 1 and this shirt is a goo...</td>\n",
              "    </tr>\n",
              "    <tr>\n",
              "      <th>29014</th>\n",
              "      <td>Gildan Men's DryBlend T-Shirt, Style G8000, 2-...</td>\n",
              "      <td>null</td>\n",
              "      <td>5.0 out of 5 stars</td>\n",
              "      <td>\\nJust get em\\n</td>\n",
              "      <td>[\\n, [\\n  These xl are flame , I work out and ...</td>\n",
              "    </tr>\n",
              "    <tr>\n",
              "      <th>1884</th>\n",
              "      <td>Gildan Men's Crew T-Shirts, Multipack</td>\n",
              "      <td>null</td>\n",
              "      <td>2.0 out of 5 stars</td>\n",
              "      <td>\\nNeck kinda sucks\\n</td>\n",
              "      <td>[\\n, [\\n  I’m 6’1” 195 athletic build and just...</td>\n",
              "    </tr>\n",
              "    <tr>\n",
              "      <th>5301</th>\n",
              "      <td>Carhartt Mens Loose Fit Heavyweight Short-slee...</td>\n",
              "      <td>null</td>\n",
              "      <td>5.0 out of 5 stars</td>\n",
              "      <td>\\nGreat quality, comfort and fit\\n</td>\n",
              "      <td>[\\n, [\\n  I ordered several of these tee shirt...</td>\n",
              "    </tr>\n",
              "    <tr>\n",
              "      <th>31560</th>\n",
              "      <td>Hanes Men's ComfortSoft Tagless Pocket T's, 6 ...</td>\n",
              "      <td>null</td>\n",
              "      <td>5.0 out of 5 stars</td>\n",
              "      <td>\\nNice quality\\n</td>\n",
              "      <td>[\\n, [\\n  Nice quality.\\n], \\n]</td>\n",
              "    </tr>\n",
              "    <tr>\n",
              "      <th>27535</th>\n",
              "      <td>Hanes Ultimate Men's 5-Pack Tagless ComfortSof...</td>\n",
              "      <td>null</td>\n",
              "      <td>5.0 out of 5 stars</td>\n",
              "      <td>\\nShut up and take my money..\\n</td>\n",
              "      <td>[\\n, [\\n  Literally received these shirts with...</td>\n",
              "    </tr>\n",
              "    <tr>\n",
              "      <th>12529</th>\n",
              "      <td>Hanes Men's Beefy Heavyweight Short Sleeve T-S...</td>\n",
              "      <td>null</td>\n",
              "      <td>5.0 out of 5 stars</td>\n",
              "      <td>\\nShe may miss the plumbers crack.\\n</td>\n",
              "      <td>[\\n, [\\n  I really like these tshirts.  I've p...</td>\n",
              "    </tr>\n",
              "    <tr>\n",
              "      <th>26184</th>\n",
              "      <td>Gildan Men's Ultra Cotton Long Sleeve T-Shirt,...</td>\n",
              "      <td>null</td>\n",
              "      <td>5.0 out of 5 stars</td>\n",
              "      <td>\\nPerfect Fit and Excellent Quality\\n</td>\n",
              "      <td>[\\n, [\\n  The quality and fit of these long sl...</td>\n",
              "    </tr>\n",
              "    <tr>\n",
              "      <th>19905</th>\n",
              "      <td>Gildan Women's Softstyle Cotton T-Shirt, Style...</td>\n",
              "      <td>null</td>\n",
              "      <td>1.0 out of 5 stars</td>\n",
              "      <td>\\nReturning\\n</td>\n",
              "      <td>[\\n, [\\n  I am between a medium and large, alt...</td>\n",
              "    </tr>\n",
              "    <tr>\n",
              "      <th>22943</th>\n",
              "      <td>Gildan Men's DryBlend Workwear T-Shirts with P...</td>\n",
              "      <td>null</td>\n",
              "      <td>5.0 out of 5 stars</td>\n",
              "      <td>\\nSon's work shirts\\n</td>\n",
              "      <td>[\\n, [\\n  Bought for my son.  Loves the picket...</td>\n",
              "    </tr>\n",
              "    <tr>\n",
              "      <th>19048</th>\n",
              "      <td>Gildan Women's Softstyle Cotton T-Shirt, Style...</td>\n",
              "      <td>null</td>\n",
              "      <td>4.0 out of 5 stars</td>\n",
              "      <td>\\nGreat bargain but cut small\\n</td>\n",
              "      <td>[\\n, [\\n  Thank goodness for reviews.  I purch...</td>\n",
              "    </tr>\n",
              "    <tr>\n",
              "      <th>29380</th>\n",
              "      <td>Gildan Men's DryBlend T-Shirt, Style G8000, 2-...</td>\n",
              "      <td>null</td>\n",
              "      <td>5.0 out of 5 stars</td>\n",
              "      <td>\\nGreat t-shirt fits well great price\\n</td>\n",
              "      <td>[\\n, [\\n  My husband loves the tees. So much h...</td>\n",
              "    </tr>\n",
              "    <tr>\n",
              "      <th>8997</th>\n",
              "      <td>Under Armour Men's Tech 2.0 Short-Sleeve T-Shirt</td>\n",
              "      <td>null</td>\n",
              "      <td>5.0 out of 5 stars</td>\n",
              "      <td>\\nTech Teeeeeeeee for MEEEEEEEEE\\n</td>\n",
              "      <td>[\\n, [\\n  Great shirt own quite a few of the T...</td>\n",
              "    </tr>\n",
              "    <tr>\n",
              "      <th>13002</th>\n",
              "      <td>Gildan Men's Softstyle Cotton T-Shirt, Style G...</td>\n",
              "      <td>null</td>\n",
              "      <td>4.0 out of 5 stars</td>\n",
              "      <td>\\nIf you have dog arms, this is the t-shirt fo...</td>\n",
              "      <td>[\\n, [\\n  I am pleasantly surprised with this ...</td>\n",
              "    </tr>\n",
              "    <tr>\n",
              "      <th>37222</th>\n",
              "      <td>Dickies Men's Heavyweight Crew Neck Short Slee...</td>\n",
              "      <td>null</td>\n",
              "      <td>5.0 out of 5 stars</td>\n",
              "      <td>\\nWell constructed shirt at a great price.\\n</td>\n",
              "      <td>[\\n, [\\n  If  you are big AND tall, make sure ...</td>\n",
              "    </tr>\n",
              "    <tr>\n",
              "      <th>11618</th>\n",
              "      <td>Under Armour Men's Sportstyle Left Chest Short...</td>\n",
              "      <td>null</td>\n",
              "      <td>5.0 out of 5 stars</td>\n",
              "      <td>\\nGreat quality !!\\n</td>\n",
              "      <td>[\\n, [\\n  Great quality and service !\\n], \\n]</td>\n",
              "    </tr>\n",
              "    <tr>\n",
              "      <th>5482</th>\n",
              "      <td>Carhartt Mens Loose Fit Heavyweight Short-slee...</td>\n",
              "      <td>null</td>\n",
              "      <td>4.0 out of 5 stars</td>\n",
              "      <td>\\nIf you normally wear XL order L\\n</td>\n",
              "      <td>[\\n, [\\n  This was a high quality shirt! Every...</td>\n",
              "    </tr>\n",
              "    <tr>\n",
              "      <th>32625</th>\n",
              "      <td>Hanes Men's Tagless Cotton V-Neck Undershirt –...</td>\n",
              "      <td>null</td>\n",
              "      <td>4.0 out of 5 stars</td>\n",
              "      <td>\\nBuy larger one size to account for shrinking...</td>\n",
              "      <td>[\\n, [\\n  They do shrink, as they are cotton, ...</td>\n",
              "    </tr>\n",
              "    <tr>\n",
              "      <th>7923</th>\n",
              "      <td>Gildan Men's Heavy Cotton T-Shirt, Style G5000...</td>\n",
              "      <td>null</td>\n",
              "      <td>5.0 out of 5 stars</td>\n",
              "      <td>\\nI like them a lot.\\n</td>\n",
              "      <td>[\\n, [\\n  I have nothing to complain as they f...</td>\n",
              "    </tr>\n",
              "    <tr>\n",
              "      <th>3908</th>\n",
              "      <td>Gildan Men's Ultra Cotton Long Sleeve T-Shirt,...</td>\n",
              "      <td>null</td>\n",
              "      <td>3.0 out of 5 stars</td>\n",
              "      <td>\\nNot soft cotton but a good shirt for the $$\\n</td>\n",
              "      <td>[\\n, [\\n  If you are expecting a soft cotton f...</td>\n",
              "    </tr>\n",
              "    <tr>\n",
              "      <th>2161</th>\n",
              "      <td>Hanes Men's Essentials Short Sleeve T-shirt Va...</td>\n",
              "      <td>null</td>\n",
              "      <td>2.0 out of 5 stars</td>\n",
              "      <td>\\nNot a good t-shirt or undershirt\\n</td>\n",
              "      <td>[\\n, [\\n  I'm 5'11\" athletic fit, wear a 32 x ...</td>\n",
              "    </tr>\n",
              "    <tr>\n",
              "      <th>15063</th>\n",
              "      <td>Hanes Women’s Perfect-T Short Sleeve T-shirt</td>\n",
              "      <td>null</td>\n",
              "      <td>4.0 out of 5 stars</td>\n",
              "      <td>\\nIt's a t-shirt\\n</td>\n",
              "      <td>[\\n, [\\n  I bought this because it is cotton a...</td>\n",
              "    </tr>\n",
              "    <tr>\n",
              "      <th>8387</th>\n",
              "      <td>Under Armour Men's Tech 2.0 Short-Sleeve T-Shirt</td>\n",
              "      <td>null</td>\n",
              "      <td>5.0 out of 5 stars</td>\n",
              "      <td>\\nBeautiful color\\n</td>\n",
              "      <td>[\\n, [\\n  My husband loves these shirts... nic...</td>\n",
              "    </tr>\n",
              "    <tr>\n",
              "      <th>22120</th>\n",
              "      <td>Gildan Men's DryBlend Workwear T-Shirts with P...</td>\n",
              "      <td>null</td>\n",
              "      <td>1.0 out of 5 stars</td>\n",
              "      <td>\\nWorst shirts ever\\n</td>\n",
              "      <td>[\\n, [\\n  Worst shirts I’ve ever worn! Burlap ...</td>\n",
              "    </tr>\n",
              "  </tbody>\n",
              "</table>\n",
              "</div>\n",
              "      <button class=\"colab-df-convert\" onclick=\"convertToInteractive('df-7f3d703a-4ca4-4493-ac98-3ce88d71306a')\"\n",
              "              title=\"Convert this dataframe to an interactive table.\"\n",
              "              style=\"display:none;\">\n",
              "        \n",
              "  <svg xmlns=\"http://www.w3.org/2000/svg\" height=\"24px\"viewBox=\"0 0 24 24\"\n",
              "       width=\"24px\">\n",
              "    <path d=\"M0 0h24v24H0V0z\" fill=\"none\"/>\n",
              "    <path d=\"M18.56 5.44l.94 2.06.94-2.06 2.06-.94-2.06-.94-.94-2.06-.94 2.06-2.06.94zm-11 1L8.5 8.5l.94-2.06 2.06-.94-2.06-.94L8.5 2.5l-.94 2.06-2.06.94zm10 10l.94 2.06.94-2.06 2.06-.94-2.06-.94-.94-2.06-.94 2.06-2.06.94z\"/><path d=\"M17.41 7.96l-1.37-1.37c-.4-.4-.92-.59-1.43-.59-.52 0-1.04.2-1.43.59L10.3 9.45l-7.72 7.72c-.78.78-.78 2.05 0 2.83L4 21.41c.39.39.9.59 1.41.59.51 0 1.02-.2 1.41-.59l7.78-7.78 2.81-2.81c.8-.78.8-2.07 0-2.86zM5.41 20L4 18.59l7.72-7.72 1.47 1.35L5.41 20z\"/>\n",
              "  </svg>\n",
              "      </button>\n",
              "      \n",
              "  <style>\n",
              "    .colab-df-container {\n",
              "      display:flex;\n",
              "      flex-wrap:wrap;\n",
              "      gap: 12px;\n",
              "    }\n",
              "\n",
              "    .colab-df-convert {\n",
              "      background-color: #E8F0FE;\n",
              "      border: none;\n",
              "      border-radius: 50%;\n",
              "      cursor: pointer;\n",
              "      display: none;\n",
              "      fill: #1967D2;\n",
              "      height: 32px;\n",
              "      padding: 0 0 0 0;\n",
              "      width: 32px;\n",
              "    }\n",
              "\n",
              "    .colab-df-convert:hover {\n",
              "      background-color: #E2EBFA;\n",
              "      box-shadow: 0px 1px 2px rgba(60, 64, 67, 0.3), 0px 1px 3px 1px rgba(60, 64, 67, 0.15);\n",
              "      fill: #174EA6;\n",
              "    }\n",
              "\n",
              "    [theme=dark] .colab-df-convert {\n",
              "      background-color: #3B4455;\n",
              "      fill: #D2E3FC;\n",
              "    }\n",
              "\n",
              "    [theme=dark] .colab-df-convert:hover {\n",
              "      background-color: #434B5C;\n",
              "      box-shadow: 0px 1px 3px 1px rgba(0, 0, 0, 0.15);\n",
              "      filter: drop-shadow(0px 1px 2px rgba(0, 0, 0, 0.3));\n",
              "      fill: #FFFFFF;\n",
              "    }\n",
              "  </style>\n",
              "\n",
              "      <script>\n",
              "        const buttonEl =\n",
              "          document.querySelector('#df-7f3d703a-4ca4-4493-ac98-3ce88d71306a button.colab-df-convert');\n",
              "        buttonEl.style.display =\n",
              "          google.colab.kernel.accessAllowed ? 'block' : 'none';\n",
              "\n",
              "        async function convertToInteractive(key) {\n",
              "          const element = document.querySelector('#df-7f3d703a-4ca4-4493-ac98-3ce88d71306a');\n",
              "          const dataTable =\n",
              "            await google.colab.kernel.invokeFunction('convertToInteractive',\n",
              "                                                     [key], {});\n",
              "          if (!dataTable) return;\n",
              "\n",
              "          const docLinkHtml = 'Like what you see? Visit the ' +\n",
              "            '<a target=\"_blank\" href=https://colab.research.google.com/notebooks/data_table.ipynb>data table notebook</a>'\n",
              "            + ' to learn more about interactive tables.';\n",
              "          element.innerHTML = '';\n",
              "          dataTable['output_type'] = 'display_data';\n",
              "          await google.colab.output.renderOutput(dataTable, element);\n",
              "          const docLink = document.createElement('div');\n",
              "          docLink.innerHTML = docLinkHtml;\n",
              "          element.appendChild(docLink);\n",
              "        }\n",
              "      </script>\n",
              "    </div>\n",
              "  </div>\n",
              "  "
            ],
            "text/plain": [
              "                                            product_name  ...                                            reviews\n",
              "35157  Hanes Men's 5-Pack X-Temp Comfort Cool Crewnec...  ...  [\\n, [\\n  Just as it said it would be good buy...\n",
              "7382   Gildan Men's Heavy Cotton T-Shirt, Style G5000...  ...  [\\n, [\\n  I'm a frequent wearer of simple soli...\n",
              "39648  Hanes Women's Sport Cool Dri Performance Short...  ...  [\\n, [\\n  If you order this order it bigger th...\n",
              "22843  Gildan Men's DryBlend Workwear T-Shirts with P...  ...  [\\n, [\\n  A little tight around the neck, but ...\n",
              "28789  Gildan Men's DryBlend T-Shirt, Style G8000, 2-...  ...  [\\n, [\\n  Does have a shoulder tag that can ge...\n",
              "34819  Hanes Men's 5-Pack X-Temp Comfort Cool Crewnec...  ...  [\\n, [\\n  Shirts work great. Somehow liquid wa...\n",
              "39947  Hanes Women's Sport Cool Dri Performance Short...  ...  [\\n, [\\n  I purchased this tee shirt to wear u...\n",
              "36503  Amazon Essentials Men's 2-Pack Slim-fit Short-...  ...  [\\n, [\\n  So far so good, I will I have to upd...\n",
              "2734   Hanes Men's Essentials Short Sleeve T-shirt Va...  ...  [\\n, [\\n  I only received 2 shirts. I thought ...\n",
              "1414               Gildan Men's Crew T-Shirts, Multipack  ...  [\\n, [\\n  I bought a set and it was the best f...\n",
              "9707                   Champion Men's Classic Jersey Tee  ...  [\\n, [\\n  Good quality, soft, fits loosely but...\n",
              "35691  Hanes Men's 5-Pack X-Temp Comfort Cool Crewnec...  ...  [\\n, [\\n  Great undershirts.  Soft, comfortabl...\n",
              "32877  Nautica Men's Short Sleeve Solid Crew Neck T-S...  ...  [\\n, [\\n  Bought this for my son. He is 6'1 24...\n",
              "28651  Gildan Men's Cotton Stretch Crew T-Shirts, 3-Pack  ...  [\\n, [\\n  I tried Jockey stretch and Hanes str...\n",
              "33017  Nautica Men's Short Sleeve Solid Crew Neck T-S...  ...  [\\n, [\\n  The shirt is nice, but I expected it...\n",
              "36166  Amazon Essentials Men's 2-Pack Slim-fit Short-...  ...  [\\n, [\\n  There is nothing about this shirt th...\n",
              "24266                Hanes Women's X-Temp V-Neck T-Shirt  ...  [\\n, [\\n  Decent shirt. The length isn't as lo...\n",
              "13336  Gildan Men's Softstyle Cotton T-Shirt, Style G...  ...  [\\n, [\\n  Fabric isn’t as soft as I hoped\\n], \\n]\n",
              "618    Gildan Men's Ultra Cotton T-Shirt, Style G2000...  ...  [\\n, [\\n  The shirts are great quality and fit...\n",
              "15348       Hanes Women’s Perfect-T Short Sleeve T-shirt  ...  [\\n, [\\n  This shirt was not as heavy as I exp...\n",
              "36255  Amazon Essentials Men's 2-Pack Slim-fit Short-...  ...  [\\n, [\\n  First off - I can recognize that thi...\n",
              "32247  Hanes Men's Tagless Cotton V-Neck Undershirt –...  ...  [\\n, [\\n  100% cotton is usually thick, and sh...\n",
              "34862  Hanes Men's 5-Pack X-Temp Comfort Cool Crewnec...  ...  [\\n, [\\n  My Mister likes these under shirts v...\n",
              "15690       Hanes Women’s Perfect-T Short Sleeve T-shirt  ...  [\\n, [\\n  Nice T Shirt / Runs small.  i just w...\n",
              "3913   Gildan Men's Ultra Cotton Long Sleeve T-Shirt,...  ...  [[\\n, [\\n, <div class=\"cr-media-status-contain...\n",
              "30540       Hanes Men's Short Sleeve Beefy-T (Pack of 2)  ...  [\\n, [\\n  Hanes Beefy T should be the staple i...\n",
              "8266    Under Armour Men's Tech 2.0 Short-Sleeve T-Shirt  ...  [\\n, [\\n  I'm 6 foot 1 and this shirt is a goo...\n",
              "29014  Gildan Men's DryBlend T-Shirt, Style G8000, 2-...  ...  [\\n, [\\n  These xl are flame , I work out and ...\n",
              "1884               Gildan Men's Crew T-Shirts, Multipack  ...  [\\n, [\\n  I’m 6’1” 195 athletic build and just...\n",
              "5301   Carhartt Mens Loose Fit Heavyweight Short-slee...  ...  [\\n, [\\n  I ordered several of these tee shirt...\n",
              "31560  Hanes Men's ComfortSoft Tagless Pocket T's, 6 ...  ...                    [\\n, [\\n  Nice quality.\\n], \\n]\n",
              "27535  Hanes Ultimate Men's 5-Pack Tagless ComfortSof...  ...  [\\n, [\\n  Literally received these shirts with...\n",
              "12529  Hanes Men's Beefy Heavyweight Short Sleeve T-S...  ...  [\\n, [\\n  I really like these tshirts.  I've p...\n",
              "26184  Gildan Men's Ultra Cotton Long Sleeve T-Shirt,...  ...  [\\n, [\\n  The quality and fit of these long sl...\n",
              "19905  Gildan Women's Softstyle Cotton T-Shirt, Style...  ...  [\\n, [\\n  I am between a medium and large, alt...\n",
              "22943  Gildan Men's DryBlend Workwear T-Shirts with P...  ...  [\\n, [\\n  Bought for my son.  Loves the picket...\n",
              "19048  Gildan Women's Softstyle Cotton T-Shirt, Style...  ...  [\\n, [\\n  Thank goodness for reviews.  I purch...\n",
              "29380  Gildan Men's DryBlend T-Shirt, Style G8000, 2-...  ...  [\\n, [\\n  My husband loves the tees. So much h...\n",
              "8997    Under Armour Men's Tech 2.0 Short-Sleeve T-Shirt  ...  [\\n, [\\n  Great shirt own quite a few of the T...\n",
              "13002  Gildan Men's Softstyle Cotton T-Shirt, Style G...  ...  [\\n, [\\n  I am pleasantly surprised with this ...\n",
              "37222  Dickies Men's Heavyweight Crew Neck Short Slee...  ...  [\\n, [\\n  If  you are big AND tall, make sure ...\n",
              "11618  Under Armour Men's Sportstyle Left Chest Short...  ...      [\\n, [\\n  Great quality and service !\\n], \\n]\n",
              "5482   Carhartt Mens Loose Fit Heavyweight Short-slee...  ...  [\\n, [\\n  This was a high quality shirt! Every...\n",
              "32625  Hanes Men's Tagless Cotton V-Neck Undershirt –...  ...  [\\n, [\\n  They do shrink, as they are cotton, ...\n",
              "7923   Gildan Men's Heavy Cotton T-Shirt, Style G5000...  ...  [\\n, [\\n  I have nothing to complain as they f...\n",
              "3908   Gildan Men's Ultra Cotton Long Sleeve T-Shirt,...  ...  [\\n, [\\n  If you are expecting a soft cotton f...\n",
              "2161   Hanes Men's Essentials Short Sleeve T-shirt Va...  ...  [\\n, [\\n  I'm 5'11\" athletic fit, wear a 32 x ...\n",
              "15063       Hanes Women’s Perfect-T Short Sleeve T-shirt  ...  [\\n, [\\n  I bought this because it is cotton a...\n",
              "8387    Under Armour Men's Tech 2.0 Short-Sleeve T-Shirt  ...  [\\n, [\\n  My husband loves these shirts... nic...\n",
              "22120  Gildan Men's DryBlend Workwear T-Shirts with P...  ...  [\\n, [\\n  Worst shirts I’ve ever worn! Burlap ...\n",
              "\n",
              "[50 rows x 5 columns]"
            ]
          },
          "metadata": {},
          "execution_count": 31
        }
      ]
    },
    {
      "cell_type": "markdown",
      "source": [
        ""
      ],
      "metadata": {
        "id": "6U8qdDtsGeB-"
      }
    },
    {
      "cell_type": "code",
      "source": [
        "review_data.to_csv('tshirt_reviews.csv', index = False) #converting the dataframe to a csv file so as to use it later for further analysis"
      ],
      "metadata": {
        "id": "ImNWw2Kdf_jT"
      },
      "execution_count": 32,
      "outputs": []
    },
    {
      "cell_type": "code",
      "source": [
        ""
      ],
      "metadata": {
        "id": "-K1YCnjap96l"
      },
      "execution_count": null,
      "outputs": []
    }
  ]
}