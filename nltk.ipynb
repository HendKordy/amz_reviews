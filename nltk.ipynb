{
 "cells": [
  {
   "cell_type": "code",
   "execution_count": null,
   "metadata": {},
   "outputs": [],
   "source": [
    "nltk.download('stopwords')\n",
    "nltk.download('punkt')\n",
    "nltk.download('wordnet')\n",
    "from nltk.corpus import stopwords\n",
    "from nltk.stem import PorterStemmer, WordNetLemmatizer, wordnet"
   ]
  },
  {
   "cell_type": "code",
   "execution_count": null,
   "metadata": {},
   "outputs": [],
   "source": []
  },
  {
   "cell_type": "code",
   "execution_count": null,
   "metadata": {},
   "outputs": [],
   "source": [
    "ngrams3 = [x for x in df[df['like'] == True]['cleaned_review'] for x in ngrams(x.split(), n = 3)]\n",
    "c = Counter(ngrams3)\n",
    "top = c.most_common(10)\n",
    "top\n"
   ]
  },
  {
   "cell_type": "code",
   "execution_count": null,
   "metadata": {},
   "outputs": [],
   "source": [
    "from nltk import ngrams\n",
    "from collections import Counter\n",
    "ngrams3 = [x for x in df[df['like'] == False]['cleaned_review'] for x in ngrams(x.split(), n = 3)]\n",
    "c = Counter(ngrams3)\n",
    "top = c.most_common(10)\n",
    "top"
   ]
  },
  {
   "cell_type": "code",
   "execution_count": null,
   "metadata": {},
   "outputs": [],
   "source": [
    "ngrams_cleaned_titles = [x for x in df['cleaned_title'] for x in ngrams(x.split(), n = 4)]\n",
    "c_cleaned_titles = Counter(ngrams_cleaned_titles)\n",
    "top_cleaned_titles = c_cleaned_titles.most_common(5)\n",
    "top_cleaned_titles"
   ]
  },
  {
   "cell_type": "code",
   "execution_count": null,
   "metadata": {},
   "outputs": [],
   "source": [
    "ngrams_cleaned_reviews = [x for x in df['cleaned_review'] for x in ngrams(x.split(), n = )]\n",
    "c_cleaned_reviews = Counter(ngrams_cleaned_reviews)\n",
    "top_cleaned_reviews = c_cleaned_reviews.most_common(5)\n",
    "top_cleaned_reviews"
   ]
  },
  {
   "cell_type": "code",
   "execution_count": null,
   "metadata": {},
   "outputs": [],
   "source": [
    "ngrams_cleaned_reviews = [x for x in df['cleaned_review'] for x in ngrams(x.split(), n = 3)]\n",
    "c_cleaned_reviews = Counter(ngrams_cleaned_reviews)\n",
    "top_cleaned_reviews = c_cleaned_reviews.most_common(5)\n",
    "top_cleaned_reviews"
   ]
  },
  {
   "cell_type": "markdown",
   "metadata": {},
   "source": []
  },
  {
   "cell_type": "code",
   "execution_count": null,
   "metadata": {},
   "outputs": [],
   "source": []
  }
 ],
 "metadata": {
  "language_info": {
   "name": "python"
  },
  "orig_nbformat": 4
 },
 "nbformat": 4,
 "nbformat_minor": 2
}
