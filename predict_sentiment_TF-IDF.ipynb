{
 "cells": [
  {
   "cell_type": "code",
   "execution_count": 2,
   "metadata": {},
   "outputs": [],
   "source": [
    "from sklearn.model_selection import train_test_split\n",
    "from sklearn.feature_extraction.text import TfidfVectorizer\n",
    "from sklearn.linear_model import LogisticRegression\n",
    "import sklearn.metrics as metrics\n",
    "from sklearn.metrics import roc_auc_score\n",
    "import matplotlib.pyplot as plt\n",
    "import sklearn\n",
    "import pandas as pd\n",
    "import numpy as np\n"
   ]
  },
  {
   "cell_type": "code",
   "execution_count": 56,
   "metadata": {},
   "outputs": [
    {
     "name": "stdout",
     "output_type": "stream",
     "text": [
      "The scikit-learn version is 0.24.2.\n"
     ]
    }
   ],
   "source": [
    "print('The scikit-learn version is {}.'.format(sklearn.__version__))\n",
    "# 0.14.1"
   ]
  },
  {
   "cell_type": "markdown",
   "metadata": {},
   "source": [
    "this code is from the youtube channel 'Stats Wire'--- https://www.youtube.com/watch?v=TMzaK2-K5C4"
   ]
  },
  {
   "cell_type": "code",
   "execution_count": 3,
   "metadata": {},
   "outputs": [],
   "source": [
    "df = pd.read_csv(\"./data/cleaned_reviews.csv\")"
   ]
  },
  {
   "cell_type": "code",
   "execution_count": 5,
   "metadata": {},
   "outputs": [
    {
     "name": "stdout",
     "output_type": "stream",
     "text": [
      "<class 'pandas.core.frame.DataFrame'>\n",
      "RangeIndex: 20026 entries, 0 to 20025\n",
      "Data columns (total 8 columns):\n",
      " #   Column        Non-Null Count  Dtype \n",
      "---  ------        --------------  ----- \n",
      " 0   product_name  20026 non-null  object\n",
      " 1   scores        20026 non-null  int64 \n",
      " 2   review_title  20026 non-null  object\n",
      " 3   reviews       20019 non-null  object\n",
      " 4   like          20026 non-null  bool  \n",
      " 5   brand         20026 non-null  object\n",
      " 6   gender        20026 non-null  object\n",
      " 7   rev_len       20026 non-null  int64 \n",
      "dtypes: bool(1), int64(2), object(5)\n",
      "memory usage: 1.1+ MB\n"
     ]
    }
   ],
   "source": [
    "df.info()"
   ]
  },
  {
   "cell_type": "code",
   "execution_count": 4,
   "metadata": {},
   "outputs": [],
   "source": [
    "train, test = train_test_split(df, train_size=0.3, random_state=123, stratify=df['like'])"
   ]
  },
  {
   "cell_type": "code",
   "execution_count": 5,
   "metadata": {},
   "outputs": [],
   "source": [
    "X_train = train[['review_title', 'reviews']]\n",
    "y_train = train['like']"
   ]
  },
  {
   "cell_type": "code",
   "execution_count": 6,
   "metadata": {},
   "outputs": [],
   "source": [
    "X_test = test[['review_title', 'reviews']]\n",
    "y_test = test['like']"
   ]
  },
  {
   "cell_type": "code",
   "execution_count": 11,
   "metadata": {},
   "outputs": [
    {
     "data": {
      "text/html": [
       "<div>\n",
       "<style scoped>\n",
       "    .dataframe tbody tr th:only-of-type {\n",
       "        vertical-align: middle;\n",
       "    }\n",
       "\n",
       "    .dataframe tbody tr th {\n",
       "        vertical-align: top;\n",
       "    }\n",
       "\n",
       "    .dataframe thead th {\n",
       "        text-align: right;\n",
       "    }\n",
       "</style>\n",
       "<table border=\"1\" class=\"dataframe\">\n",
       "  <thead>\n",
       "    <tr style=\"text-align: right;\">\n",
       "      <th></th>\n",
       "      <th>review_title</th>\n",
       "      <th>reviews</th>\n",
       "    </tr>\n",
       "  </thead>\n",
       "  <tbody>\n",
       "    <tr>\n",
       "      <th>7347</th>\n",
       "      <td>too snug</td>\n",
       "      <td>i returned the shirt i am   pounds normally we...</td>\n",
       "    </tr>\n",
       "    <tr>\n",
       "      <th>9563</th>\n",
       "      <td>runs small</td>\n",
       "      <td>it is small for an  xl quality is what you exp...</td>\n",
       "    </tr>\n",
       "    <tr>\n",
       "      <th>16701</th>\n",
       "      <td>oversize shirt</td>\n",
       "      <td>i get these to wear to bed i havent washed one...</td>\n",
       "    </tr>\n",
       "    <tr>\n",
       "      <th>6897</th>\n",
       "      <td>incredible value</td>\n",
       "      <td>my husband’s goto shirt for lounging or exerci...</td>\n",
       "    </tr>\n",
       "    <tr>\n",
       "      <th>8408</th>\n",
       "      <td>great value and quality will buy more</td>\n",
       "      <td>there is a reason these shirts have great revi...</td>\n",
       "    </tr>\n",
       "    <tr>\n",
       "      <th>...</th>\n",
       "      <td>...</td>\n",
       "      <td>...</td>\n",
       "    </tr>\n",
       "    <tr>\n",
       "      <th>6319</th>\n",
       "      <td>good choice</td>\n",
       "      <td>good quality and fit as intended great for cas...</td>\n",
       "    </tr>\n",
       "    <tr>\n",
       "      <th>1804</th>\n",
       "      <td>excellent value</td>\n",
       "      <td>i wanted just plain gray ls shirts and these a...</td>\n",
       "    </tr>\n",
       "    <tr>\n",
       "      <th>522</th>\n",
       "      <td>not exactly egyptian cotton but for the price ...</td>\n",
       "      <td>star only because they are not made of egyptia...</td>\n",
       "    </tr>\n",
       "    <tr>\n",
       "      <th>7413</th>\n",
       "      <td>meh</td>\n",
       "      <td>not sure what makes this perfect i felt like a...</td>\n",
       "    </tr>\n",
       "    <tr>\n",
       "      <th>16235</th>\n",
       "      <td>shirt was nice but too small</td>\n",
       "      <td>it was too small i had to return it</td>\n",
       "    </tr>\n",
       "  </tbody>\n",
       "</table>\n",
       "<p>6007 rows × 2 columns</p>\n",
       "</div>"
      ],
      "text/plain": [
       "                                            review_title  \\\n",
       "7347                                            too snug   \n",
       "9563                                          runs small   \n",
       "16701                                     oversize shirt   \n",
       "6897                                    incredible value   \n",
       "8408               great value and quality will buy more   \n",
       "...                                                  ...   \n",
       "6319                                         good choice   \n",
       "1804                                     excellent value   \n",
       "522    not exactly egyptian cotton but for the price ...   \n",
       "7413                                                 meh   \n",
       "16235                       shirt was nice but too small   \n",
       "\n",
       "                                                 reviews  \n",
       "7347   i returned the shirt i am   pounds normally we...  \n",
       "9563   it is small for an  xl quality is what you exp...  \n",
       "16701  i get these to wear to bed i havent washed one...  \n",
       "6897   my husband’s goto shirt for lounging or exerci...  \n",
       "8408   there is a reason these shirts have great revi...  \n",
       "...                                                  ...  \n",
       "6319   good quality and fit as intended great for cas...  \n",
       "1804   i wanted just plain gray ls shirts and these a...  \n",
       "522    star only because they are not made of egyptia...  \n",
       "7413   not sure what makes this perfect i felt like a...  \n",
       "16235                it was too small i had to return it  \n",
       "\n",
       "[6007 rows x 2 columns]"
      ]
     },
     "execution_count": 11,
     "metadata": {},
     "output_type": "execute_result"
    }
   ],
   "source": [
    "X_train"
   ]
  },
  {
   "cell_type": "markdown",
   "metadata": {},
   "source": [
    "## TF-IDF on titles "
   ]
  },
  {
   "cell_type": "code",
   "execution_count": 21,
   "metadata": {},
   "outputs": [],
   "source": [
    "vect_title = TfidfVectorizer()\n",
    "train_vect_title = vect_title.fit_transform(X_train['review_title'])\n",
    "test_vect_title = vect_title.transform(X_test['review_title'])"
   ]
  },
  {
   "cell_type": "code",
   "execution_count": 24,
   "metadata": {},
   "outputs": [],
   "source": [
    "lr_title= LogisticRegression(random_state=123, penalty='l2')\n",
    "model_title = lr_title.fit(train_vect_title, y_train)\n"
   ]
  },
  {
   "cell_type": "code",
   "execution_count": 27,
   "metadata": {},
   "outputs": [],
   "source": [
    "pred_title_test = model_title.predict_proba(test_vect_title)[::,1]"
   ]
  },
  {
   "cell_type": "code",
   "execution_count": 28,
   "metadata": {},
   "outputs": [
    {
     "data": {
      "text/plain": [
       "0.9072810663640474"
      ]
     },
     "execution_count": 28,
     "metadata": {},
     "output_type": "execute_result"
    }
   ],
   "source": [
    "roc_auc_score(y_test, pred_title_test)"
   ]
  },
  {
   "cell_type": "code",
   "execution_count": 29,
   "metadata": {},
   "outputs": [],
   "source": [
    "feature_names_title = np.array(vect_title.get_feature_names())\n",
    "sorted_coef_index = model_title.coef_[0].argsort()"
   ]
  },
  {
   "cell_type": "code",
   "execution_count": 30,
   "metadata": {},
   "outputs": [
    {
     "name": "stdout",
     "output_type": "stream",
     "text": [
      "smallest Coef ['not' 'poor' 'too' 'shrunk' 'thin' 'disappointed' 'rough' 'cheap'\n",
      " 'horrible' 'waste' 'terrible' 'fake' 'beware' 'small' 'pay' 'short' 'no'\n",
      " 'shrinks' 'smaller' 'scratchy']\n"
     ]
    }
   ],
   "source": [
    "print(\"smallest Coef\", feature_names_title[sorted_coef_index[:20]])"
   ]
  },
  {
   "cell_type": "code",
   "execution_count": 31,
   "metadata": {},
   "outputs": [
    {
     "name": "stdout",
     "output_type": "stream",
     "text": [
      "largest Coef ['great' 'perfect' 'comfortable' 'nice' 'good' 'comfy' 'best' 'excellent'\n",
      " 'love' 'soft' 'well' 'exactly' 'awesome' 'true' 'price' 'tee' 'comfort'\n",
      " 'fitted' 'favorite' 'husband']\n"
     ]
    }
   ],
   "source": [
    "print(\"largest Coef\", feature_names_title[sorted_coef_index[:-21:-1]])"
   ]
  },
  {
   "cell_type": "markdown",
   "metadata": {},
   "source": [
    "## TF-IDF on titles && removing stopwords "
   ]
  },
  {
   "cell_type": "code",
   "execution_count": 7,
   "metadata": {},
   "outputs": [],
   "source": [
    "%store -r all_stopwords"
   ]
  },
  {
   "cell_type": "code",
   "execution_count": 51,
   "metadata": {},
   "outputs": [],
   "source": []
  },
  {
   "cell_type": "code",
   "execution_count": 8,
   "metadata": {},
   "outputs": [],
   "source": [
    "vect_title_stopwords = TfidfVectorizer(stop_words = all_stopwords)\n",
    "train_vect_title_stopwords = vect_title_stopwords.fit_transform((X_train['review_title']))\n",
    "test_vect_title_stopwords = vect_title_stopwords.transform(X_test['review_title'])\n",
    "# vect_title_stopwords_tf_train = vect_title_stopwords.fit_transform(X_train['review_title'])"
   ]
  },
  {
   "cell_type": "code",
   "execution_count": 23,
   "metadata": {},
   "outputs": [],
   "source": [
    "lr_title_stopwprds= LogisticRegression(random_state=123, penalty='l2')\n",
    "model_title_stopwords = lr_title_stopwprds.fit(train_vect_title_stopwords, y_train)\n"
   ]
  },
  {
   "cell_type": "code",
   "execution_count": 18,
   "metadata": {},
   "outputs": [],
   "source": [
    "pred_title_stopwords_test = model_title_stopwords.predict_proba(test_vect_title_stopwords)[::,1]"
   ]
  },
  {
   "cell_type": "code",
   "execution_count": 20,
   "metadata": {},
   "outputs": [
    {
     "data": {
      "text/plain": [
       "0.9043693293195875"
      ]
     },
     "execution_count": 20,
     "metadata": {},
     "output_type": "execute_result"
    }
   ],
   "source": [
    "roc_auc_score(y_test, pred_title_stopwords_test)"
   ]
  },
  {
   "cell_type": "code",
   "execution_count": 19,
   "metadata": {},
   "outputs": [
    {
     "data": {
      "image/png": "[encoded data removed]",
      "text/plain": [
       "<Figure size 432x288 with 1 Axes>"
      ]
     },
     "metadata": {
      "needs_background": "light"
     },
     "output_type": "display_data"
    }
   ],
   "source": [
    "#define metrics\n",
    "# pred_title_stopwords_train = model_title_stopwords.predict_proba(X_train_vectorized)[::,1]\n",
    "# y_pred_proba = log_regression.predict_proba(X_)[::,1]\n",
    "fpr, tpr, _ = metrics.roc_curve(y_test,  pred_title_stopwords_test)\n",
    "\n",
    "#create ROC curve\n",
    "plt.plot(fpr,tpr)\n",
    "plt.ylabel('True Positive Rate')\n",
    "plt.xlabel('False Positive Rate')\n",
    "plt.show()"
   ]
  },
  {
   "cell_type": "code",
   "execution_count": 32,
   "metadata": {},
   "outputs": [],
   "source": [
    "feature_names_title_stopwords = np.array(vect_title_stopwords.get_feature_names())\n",
    "sorted_coef_index = model_title_stopwords.coef_[0].argsort()"
   ]
  },
  {
   "cell_type": "code",
   "execution_count": 33,
   "metadata": {},
   "outputs": [
    {
     "name": "stdout",
     "output_type": "stream",
     "text": [
      "smallest Coef ['not' 'poor' 'too' 'shrunk' 'thin' 'waste' 'rough' 'disappointed'\n",
      " 'horrible' 'cheap' 'terrible' 'fake' 'beware' 'pay' 'small' 'wash'\n",
      " 'garbage' 'short' 'shrinks' 'itchy']\n"
     ]
    }
   ],
   "source": [
    "print(\"smallest Coef\", feature_names_title_stopwords[sorted_coef_index[:20]])"
   ]
  },
  {
   "cell_type": "code",
   "execution_count": 34,
   "metadata": {},
   "outputs": [
    {
     "name": "stdout",
     "output_type": "stream",
     "text": [
      "largest Coef ['great' 'perfect' 'comfortable' 'nice' 'good' 'excellent' 'comfy' 'best'\n",
      " 'love' 'exactly' 'soft' 'well' 'awesome' 'husband' 'price' 'favorite'\n",
      " 'true' 'go' 'comfort' 'fitted']\n"
     ]
    }
   ],
   "source": [
    "print(\"largest Coef\", feature_names_title_stopwords[sorted_coef_index[:-21:-1]])"
   ]
  },
  {
   "cell_type": "code",
   "execution_count": 39,
   "metadata": {},
   "outputs": [
    {
     "data": {
      "text/plain": [
       "str"
      ]
     },
     "execution_count": 39,
     "metadata": {},
     "output_type": "execute_result"
    }
   ],
   "source": [
    "type(X_train['reviews'].iloc[0])"
   ]
  },
  {
   "cell_type": "code",
   "execution_count": 36,
   "metadata": {},
   "outputs": [
    {
     "name": "stdout",
     "output_type": "stream",
     "text": [
      "<class 'pandas.core.frame.DataFrame'>\n",
      "Int64Index: 6007 entries, 7347 to 16235\n",
      "Data columns (total 2 columns):\n",
      " #   Column        Non-Null Count  Dtype \n",
      "---  ------        --------------  ----- \n",
      " 0   review_title  6007 non-null   object\n",
      " 1   reviews       6006 non-null   object\n",
      "dtypes: object(2)\n",
      "memory usage: 140.8+ KB\n"
     ]
    }
   ],
   "source": [
    "X_train.info()"
   ]
  },
  {
   "cell_type": "code",
   "execution_count": 41,
   "metadata": {},
   "outputs": [
    {
     "data": {
      "text/plain": [
       "0.9072941866488421"
      ]
     },
     "execution_count": 41,
     "metadata": {},
     "output_type": "execute_result"
    }
   ],
   "source": [
    "vect_reviews = TfidfVectorizer()\n",
    "train_vect_reviews = vect_reviews.fit_transform((X_train['reviews'].values.astype('U')))\n",
    "test_vect_reviews = vect_reviews.transform(X_test['reviews'].values.astype('U'))\n",
    "lr_reviews= LogisticRegression(random_state=123, penalty='l2')\n",
    "model_reviews = lr_reviews.fit(train_vect_reviews, y_train)\n",
    "pred_reviews_test = model_reviews.predict_proba(test_vect_reviews)[::,1]\n",
    "roc_auc_score(y_test, pred_reviews_test)"
   ]
  },
  {
   "cell_type": "code",
   "execution_count": null,
   "metadata": {},
   "outputs": [],
   "source": [
    "fpr, tpr, _ = metrics.roc_curve(y_test,  pred_reviews_test)\n",
    "\n",
    "#create ROC curve\n",
    "plt.plot(fpr,tpr)\n",
    "plt.ylabel('True Positive Rate')\n",
    "plt.xlabel('False Positive Rate')\n",
    "plt.show()"
   ]
  },
  {
   "cell_type": "code",
   "execution_count": 43,
   "metadata": {},
   "outputs": [],
   "source": [
    "feature_names_reviews = np.array(vect_reviews.get_feature_names())\n",
    "sorted_coef_index = model_reviews.coef_[0].argsort()"
   ]
  },
  {
   "cell_type": "code",
   "execution_count": 44,
   "metadata": {},
   "outputs": [
    {
     "name": "stdout",
     "output_type": "stream",
     "text": [
      "smallest Coef ['not' 'small' 'return' 'disappointed' 'rough' 'shrunk' 'were' 'returned'\n",
      " 'poor' 'way' 'uncomfortable' 'even' 'sizes' 'same' 'washed' 'received'\n",
      " 'cheap' 'returning' 'okay' 'smaller']\n"
     ]
    }
   ],
   "source": [
    "print(\"smallest Coef\", feature_names_reviews[sorted_coef_index[:20]])"
   ]
  },
  {
   "cell_type": "code",
   "execution_count": 45,
   "metadata": {},
   "outputs": [
    {
     "name": "stdout",
     "output_type": "stream",
     "text": [
      "largest Coef ['great' 'perfect' 'love' 'comfortable' 'well' 'good' 'nice' 'he' 'price'\n",
      " 'exactly' 'soft' 'perfectly' 'loves' 'little' 'expected' 'excellent'\n",
      " 'best' 'right' 'shrink' 'am']\n"
     ]
    }
   ],
   "source": [
    "print(\"largest Coef\", feature_names_reviews[sorted_coef_index[:-21:-1]])"
   ]
  }
 ],
 "metadata": {
  "interpreter": {
   "hash": "d4d1e4263499bec80672ea0156c357c1ee493ec2b1c70f0acce89fc37c4a6abe"
  },
  "kernelspec": {
   "display_name": "Python 3.9.7 ('base')",
   "language": "python",
   "name": "python3"
  },
  "language_info": {
   "codemirror_mode": {
    "name": "ipython",
    "version": 3
   },
   "file_extension": ".py",
   "mimetype": "text/x-python",
   "name": "python",
   "nbconvert_exporter": "python",
   "pygments_lexer": "ipython3",
   "version": "3.9.7"
  },
  "orig_nbformat": 4
 },
 "nbformat": 4,
 "nbformat_minor": 2
}
